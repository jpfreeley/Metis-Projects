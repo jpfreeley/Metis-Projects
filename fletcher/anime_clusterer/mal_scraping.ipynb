{
 "cells": [
  {
   "cell_type": "markdown",
   "metadata": {},
   "source": [
    "# Scraping My Anime List"
   ]
  },
  {
   "cell_type": "code",
   "execution_count": 1,
   "metadata": {
    "collapsed": false
   },
   "outputs": [],
   "source": [
    "import pandas as pd\n",
    "import xmltodict\n",
    "import json\n",
    "import requests\n",
    "import xml.etree.ElementTree as ET\n",
    "import urllib.parse\n",
    "from xml.sax.saxutils import unescape\n",
    "from time import sleep\n",
    "import re"
   ]
  },
  {
   "cell_type": "code",
   "execution_count": 391,
   "metadata": {
    "collapsed": true
   },
   "outputs": [],
   "source": [
    "CONFIG = {}\n",
    "\n",
    "with open('mal_config.txt', \"r\") as in_file:\n",
    "    for line in in_file:\n",
    "        line = line.split(\":\")\n",
    "        parameter = line[0].strip()\n",
    "        value = line[1].strip()\n",
    "        CONFIG[parameter] = value"
   ]
  },
  {
   "cell_type": "code",
   "execution_count": 392,
   "metadata": {
    "collapsed": false
   },
   "outputs": [],
   "source": [
    "sesh = requests.Session()\n",
    "sesh.auth = (CONFIG['username'], CONFIG['password'])"
   ]
  },
  {
   "cell_type": "code",
   "execution_count": 393,
   "metadata": {
    "collapsed": true
   },
   "outputs": [],
   "source": [
    "def html_decode(s):\n",
    "    \"\"\"\n",
    "    Returns the ASCII decoded version of the given HTML string. This does\n",
    "    NOT remove normal HTML tags like <p>.\n",
    "    \"\"\"\n",
    "    htmlCodes = (\n",
    "            (\"'\", '&#39;'),\n",
    "            (\"'\", '&#039;'),\n",
    "            (\"'\", '&rsquo;'),\n",
    "            (\"—\", '&mdash;'),\n",
    "            (\"é\", '&eacute;'),\n",
    "            ('\"', '&quot;'),\n",
    "            ('>', '&gt;'),\n",
    "            ('<', '&lt;'),\n",
    "            ('&', '&amp;')\n",
    "        )\n",
    "    for code in htmlCodes:\n",
    "        s = s.replace(code[1], code[0], 1000000)\n",
    "    return s"
   ]
  },
  {
   "cell_type": "code",
   "execution_count": 394,
   "metadata": {
    "collapsed": false
   },
   "outputs": [],
   "source": [
    "def readPage(session, search_page_url):\n",
    "    response = session.get(search_page_url)\n",
    "    #print(response.text)\n",
    "    page = response.text\n",
    "    try:\n",
    "        x = xmltodict.parse(page)\n",
    "    except:\n",
    "        return None\n",
    "    anime_entries = x['anime']['entry']\n",
    "    num_entries_list = list(range(len(anime_entries)))\n",
    "    j = json.dumps(anime_entries) \n",
    "    \n",
    "    #return j\n",
    "    try:\n",
    "        df = pd.read_json(j, orient='columns')\n",
    "\n",
    "    except ValueError:\n",
    "        df = pd.read_json(j, typ='series', orient='columns')\n",
    "        df = pd.DataFrame(df).transpose()\n",
    "    try:\n",
    "        df.synopsis = df.synopsis.apply(lambda x: html_decode(x))\n",
    "    except:\n",
    "        pass\n",
    "    \n",
    "    return df"
   ]
  },
  {
   "cell_type": "code",
   "execution_count": 395,
   "metadata": {
    "collapsed": true
   },
   "outputs": [],
   "source": [
    "test_url = 'http://myanimelist.net/api/anime/search.xml?q=bleach'"
   ]
  },
  {
   "cell_type": "code",
   "execution_count": 396,
   "metadata": {
    "collapsed": false
   },
   "outputs": [],
   "source": [
    "#readPage(sesh, test_url)"
   ]
  },
  {
   "cell_type": "code",
   "execution_count": 397,
   "metadata": {
    "collapsed": true
   },
   "outputs": [],
   "source": [
    "prescraped_names = pd.read_csv('shows_with_ids.csv')\n",
    "prescraped_names.set_index('id', inplace=True)"
   ]
  },
  {
   "cell_type": "code",
   "execution_count": 398,
   "metadata": {
    "collapsed": false,
    "scrolled": true
   },
   "outputs": [
    {
     "data": {
      "text/html": [
       "<div>\n",
       "<table border=\"1\" class=\"dataframe\">\n",
       "  <thead>\n",
       "    <tr style=\"text-align: right;\">\n",
       "      <th></th>\n",
       "      <th>name</th>\n",
       "      <th>rating</th>\n",
       "      <th>rank</th>\n",
       "      <th>popularity</th>\n",
       "      <th>members</th>\n",
       "      <th>favorites</th>\n",
       "    </tr>\n",
       "    <tr>\n",
       "      <th>id</th>\n",
       "      <th></th>\n",
       "      <th></th>\n",
       "      <th></th>\n",
       "      <th></th>\n",
       "      <th></th>\n",
       "      <th></th>\n",
       "    </tr>\n",
       "  </thead>\n",
       "  <tbody>\n",
       "    <tr>\n",
       "      <th>5114</th>\n",
       "      <td>Fullmetal Alchemist: Brotherhood</td>\n",
       "      <td>9.24</td>\n",
       "      <td>1</td>\n",
       "      <td>6</td>\n",
       "      <td>384629</td>\n",
       "      <td>39327</td>\n",
       "    </tr>\n",
       "    <tr>\n",
       "      <th>9253</th>\n",
       "      <td>Steins;Gate</td>\n",
       "      <td>9.18</td>\n",
       "      <td>2</td>\n",
       "      <td>16</td>\n",
       "      <td>304291</td>\n",
       "      <td>33112</td>\n",
       "    </tr>\n",
       "    <tr>\n",
       "      <th>4181</th>\n",
       "      <td>Clannad: After Story</td>\n",
       "      <td>9.15</td>\n",
       "      <td>3</td>\n",
       "      <td>31</td>\n",
       "      <td>258088</td>\n",
       "      <td>26773</td>\n",
       "    </tr>\n",
       "    <tr>\n",
       "      <th>11061</th>\n",
       "      <td>Hunter x Hunter (2011)</td>\n",
       "      <td>9.14</td>\n",
       "      <td>4</td>\n",
       "      <td>127</td>\n",
       "      <td>134742</td>\n",
       "      <td>12585</td>\n",
       "    </tr>\n",
       "    <tr>\n",
       "      <th>9969</th>\n",
       "      <td>Gintama</td>\n",
       "      <td>9.14</td>\n",
       "      <td>5</td>\n",
       "      <td>362</td>\n",
       "      <td>71698</td>\n",
       "      <td>2306</td>\n",
       "    </tr>\n",
       "  </tbody>\n",
       "</table>\n",
       "</div>"
      ],
      "text/plain": [
       "                                   name  rating  rank  popularity  members  \\\n",
       "id                                                                           \n",
       "5114   Fullmetal Alchemist: Brotherhood    9.24     1           6   384629   \n",
       "9253                        Steins;Gate    9.18     2          16   304291   \n",
       "4181               Clannad: After Story    9.15     3          31   258088   \n",
       "11061            Hunter x Hunter (2011)    9.14     4         127   134742   \n",
       "9969                            Gintama    9.14     5         362    71698   \n",
       "\n",
       "       favorites  \n",
       "id                \n",
       "5114       39327  \n",
       "9253       33112  \n",
       "4181       26773  \n",
       "11061      12585  \n",
       "9969        2306  "
      ]
     },
     "execution_count": 398,
     "metadata": {},
     "output_type": "execute_result"
    }
   ],
   "source": [
    "prescraped_names.head()"
   ]
  },
  {
   "cell_type": "code",
   "execution_count": 399,
   "metadata": {
    "collapsed": false,
    "scrolled": false
   },
   "outputs": [],
   "source": [
    "url_head = 'http://myanimelist.net/api/anime/search.xml?q='\n",
    "full_df = pd.DataFrame()\n",
    "\n",
    "for show in list(prescraped_names.name)[:]:\n",
    "    formatted_title = urllib.parse.quote(show)\n",
    "    page_data = readPage(sesh,url_head + formatted_title)\n",
    "    try:\n",
    "        page_data = page_data.set_index('id')\n",
    "    except:\n",
    "        continue\n",
    "        \n",
    "    full_df = pd.concat([full_df, page_data])\n",
    "        \n",
    "    sleep(.1)"
   ]
  },
  {
   "cell_type": "code",
   "execution_count": 414,
   "metadata": {
    "collapsed": true
   },
   "outputs": [],
   "source": [
    "full_df.reset_index(inplace=True)"
   ]
  },
  {
   "cell_type": "code",
   "execution_count": 415,
   "metadata": {
    "collapsed": false
   },
   "outputs": [],
   "source": [
    "full_df.drop_duplicates(subset='id', inplace=True)"
   ]
  },
  {
   "cell_type": "code",
   "execution_count": 426,
   "metadata": {
    "collapsed": false,
    "scrolled": false
   },
   "outputs": [
    {
     "data": {
      "text/html": [
       "<div>\n",
       "<table border=\"1\" class=\"dataframe\">\n",
       "  <thead>\n",
       "    <tr style=\"text-align: right;\">\n",
       "      <th></th>\n",
       "      <th>index</th>\n",
       "      <th>end_date</th>\n",
       "      <th>english</th>\n",
       "      <th>episodes</th>\n",
       "      <th>image</th>\n",
       "      <th>score</th>\n",
       "      <th>start_date</th>\n",
       "      <th>status</th>\n",
       "      <th>synonyms</th>\n",
       "      <th>synopsis</th>\n",
       "      <th>title</th>\n",
       "      <th>type</th>\n",
       "    </tr>\n",
       "    <tr>\n",
       "      <th>id</th>\n",
       "      <th></th>\n",
       "      <th></th>\n",
       "      <th></th>\n",
       "      <th></th>\n",
       "      <th></th>\n",
       "      <th></th>\n",
       "      <th></th>\n",
       "      <th></th>\n",
       "      <th></th>\n",
       "      <th></th>\n",
       "      <th></th>\n",
       "      <th></th>\n",
       "    </tr>\n",
       "  </thead>\n",
       "  <tbody>\n",
       "    <tr>\n",
       "      <th>1</th>\n",
       "      <td>0</td>\n",
       "      <td>1999-04-24</td>\n",
       "      <td>Cowboy Bebop</td>\n",
       "      <td>26</td>\n",
       "      <td>http://cdn.myanimelist.net/images/anime/4/1964...</td>\n",
       "      <td>8.83</td>\n",
       "      <td>1998-04-03</td>\n",
       "      <td>Finished Airing</td>\n",
       "      <td>None</td>\n",
       "      <td>In the year 2071, humanity has colonized sever...</td>\n",
       "      <td>Cowboy Bebop</td>\n",
       "      <td>TV</td>\n",
       "    </tr>\n",
       "    <tr>\n",
       "      <th>5</th>\n",
       "      <td>1</td>\n",
       "      <td>2001-09-01</td>\n",
       "      <td>Cowboy Bebop: Knockin' on Heaven's Door</td>\n",
       "      <td>1</td>\n",
       "      <td>http://cdn.myanimelist.net/images/anime/6/1433...</td>\n",
       "      <td>8.41</td>\n",
       "      <td>2001-09-01</td>\n",
       "      <td>Finished Airing</td>\n",
       "      <td>Cowboy Bebop Movie</td>\n",
       "      <td>As the Cowboy Bebop crew travels the stars, th...</td>\n",
       "      <td>Cowboy Bebop: Tengoku no Tobira</td>\n",
       "      <td>Movie</td>\n",
       "    </tr>\n",
       "    <tr>\n",
       "      <th>6</th>\n",
       "      <td>3</td>\n",
       "      <td>1998-09-30</td>\n",
       "      <td>Trigun</td>\n",
       "      <td>26</td>\n",
       "      <td>http://cdn.myanimelist.net/images/anime/7/2031...</td>\n",
       "      <td>8.32</td>\n",
       "      <td>1998-04-01</td>\n",
       "      <td>Finished Airing</td>\n",
       "      <td>None</td>\n",
       "      <td>Vash the Stampede is a wanted man with a habit...</td>\n",
       "      <td>Trigun</td>\n",
       "      <td>TV</td>\n",
       "    </tr>\n",
       "  </tbody>\n",
       "</table>\n",
       "</div>"
      ],
      "text/plain": [
       "    index    end_date                                  english episodes  \\\n",
       "id                                                                        \n",
       "1       0  1999-04-24                             Cowboy Bebop       26   \n",
       "5       1  2001-09-01  Cowboy Bebop: Knockin' on Heaven's Door        1   \n",
       "6       3  1998-09-30                                   Trigun       26   \n",
       "\n",
       "                                                image score  start_date  \\\n",
       "id                                                                        \n",
       "1   http://cdn.myanimelist.net/images/anime/4/1964...  8.83  1998-04-03   \n",
       "5   http://cdn.myanimelist.net/images/anime/6/1433...  8.41  2001-09-01   \n",
       "6   http://cdn.myanimelist.net/images/anime/7/2031...  8.32  1998-04-01   \n",
       "\n",
       "             status            synonyms  \\\n",
       "id                                        \n",
       "1   Finished Airing                None   \n",
       "5   Finished Airing  Cowboy Bebop Movie   \n",
       "6   Finished Airing                None   \n",
       "\n",
       "                                             synopsis  \\\n",
       "id                                                      \n",
       "1   In the year 2071, humanity has colonized sever...   \n",
       "5   As the Cowboy Bebop crew travels the stars, th...   \n",
       "6   Vash the Stampede is a wanted man with a habit...   \n",
       "\n",
       "                              title   type  \n",
       "id                                          \n",
       "1                      Cowboy Bebop     TV  \n",
       "5   Cowboy Bebop: Tengoku no Tobira  Movie  \n",
       "6                            Trigun     TV  "
      ]
     },
     "execution_count": 426,
     "metadata": {},
     "output_type": "execute_result"
    }
   ],
   "source": [
    "full_df.head(3)"
   ]
  },
  {
   "cell_type": "code",
   "execution_count": 417,
   "metadata": {
    "collapsed": false,
    "scrolled": true
   },
   "outputs": [],
   "source": [
    "full_df.reset_index(inplace=True)\n",
    "prescraped_names.reset_index(inplace=True)\n",
    "full_df.id = full_df.id.astype('int')\n",
    "full_df = full_df.set_index('id')\n",
    "prescraped_names = prescraped_names.set_index('id')\n",
    "full_df.sort_index(inplace=True)\n",
    "prescraped_names.sort_index(inplace=True)\n",
    "#full_df.drop('index', axis=1, inplace=True)"
   ]
  },
  {
   "cell_type": "code",
   "execution_count": 419,
   "metadata": {
    "collapsed": false,
    "scrolled": false
   },
   "outputs": [],
   "source": [
    "merged_data = pd.concat([full_df, prescraped_names], axis = 1, join='inner')"
   ]
  },
  {
   "cell_type": "code",
   "execution_count": 420,
   "metadata": {
    "collapsed": false,
    "scrolled": false
   },
   "outputs": [],
   "source": [
    "merged_data = merged_data.dropna(subset=['image'])"
   ]
  },
  {
   "cell_type": "code",
   "execution_count": 421,
   "metadata": {
    "collapsed": false,
    "scrolled": false
   },
   "outputs": [],
   "source": [
    "merged_data.reset_index(inplace=True)"
   ]
  },
  {
   "cell_type": "code",
   "execution_count": 422,
   "metadata": {
    "collapsed": false
   },
   "outputs": [
    {
     "data": {
      "text/html": [
       "<div>\n",
       "<table border=\"1\" class=\"dataframe\">\n",
       "  <thead>\n",
       "    <tr style=\"text-align: right;\">\n",
       "      <th></th>\n",
       "      <th>id</th>\n",
       "      <th>index</th>\n",
       "      <th>end_date</th>\n",
       "      <th>english</th>\n",
       "      <th>episodes</th>\n",
       "      <th>image</th>\n",
       "      <th>score</th>\n",
       "      <th>start_date</th>\n",
       "      <th>status</th>\n",
       "      <th>synonyms</th>\n",
       "      <th>synopsis</th>\n",
       "      <th>title</th>\n",
       "      <th>type</th>\n",
       "      <th>name</th>\n",
       "      <th>rating</th>\n",
       "      <th>rank</th>\n",
       "      <th>popularity</th>\n",
       "      <th>members</th>\n",
       "      <th>favorites</th>\n",
       "    </tr>\n",
       "  </thead>\n",
       "  <tbody>\n",
       "    <tr>\n",
       "      <th>0</th>\n",
       "      <td>1</td>\n",
       "      <td>0</td>\n",
       "      <td>1999-04-24</td>\n",
       "      <td>Cowboy Bebop</td>\n",
       "      <td>26</td>\n",
       "      <td>http://cdn.myanimelist.net/images/anime/4/1964...</td>\n",
       "      <td>8.83</td>\n",
       "      <td>1998-04-03</td>\n",
       "      <td>Finished Airing</td>\n",
       "      <td>None</td>\n",
       "      <td>In the year 2071, humanity has colonized sever...</td>\n",
       "      <td>Cowboy Bebop</td>\n",
       "      <td>TV</td>\n",
       "      <td>Cowboy Bebop</td>\n",
       "      <td>8.83</td>\n",
       "      <td>20</td>\n",
       "      <td>27</td>\n",
       "      <td>266713</td>\n",
       "      <td>17715</td>\n",
       "    </tr>\n",
       "    <tr>\n",
       "      <th>1</th>\n",
       "      <td>5</td>\n",
       "      <td>1</td>\n",
       "      <td>2001-09-01</td>\n",
       "      <td>Cowboy Bebop: Knockin' on Heaven's Door</td>\n",
       "      <td>1</td>\n",
       "      <td>http://cdn.myanimelist.net/images/anime/6/1433...</td>\n",
       "      <td>8.41</td>\n",
       "      <td>2001-09-01</td>\n",
       "      <td>Finished Airing</td>\n",
       "      <td>Cowboy Bebop Movie</td>\n",
       "      <td>As the Cowboy Bebop crew travels the stars, th...</td>\n",
       "      <td>Cowboy Bebop: Tengoku no Tobira</td>\n",
       "      <td>Movie</td>\n",
       "      <td>Cowboy Bebop: Tengoku no Tobira</td>\n",
       "      <td>8.41</td>\n",
       "      <td>145</td>\n",
       "      <td>257</td>\n",
       "      <td>91771</td>\n",
       "      <td>374</td>\n",
       "    </tr>\n",
       "    <tr>\n",
       "      <th>2</th>\n",
       "      <td>6</td>\n",
       "      <td>3</td>\n",
       "      <td>1998-09-30</td>\n",
       "      <td>Trigun</td>\n",
       "      <td>26</td>\n",
       "      <td>http://cdn.myanimelist.net/images/anime/7/2031...</td>\n",
       "      <td>8.32</td>\n",
       "      <td>1998-04-01</td>\n",
       "      <td>Finished Airing</td>\n",
       "      <td>None</td>\n",
       "      <td>Vash the Stampede is a wanted man with a habit...</td>\n",
       "      <td>Trigun</td>\n",
       "      <td>TV</td>\n",
       "      <td>Trigun</td>\n",
       "      <td>8.34</td>\n",
       "      <td>191</td>\n",
       "      <td>72</td>\n",
       "      <td>175287</td>\n",
       "      <td>5575</td>\n",
       "    </tr>\n",
       "  </tbody>\n",
       "</table>\n",
       "</div>"
      ],
      "text/plain": [
       "   id  index    end_date                                  english episodes  \\\n",
       "0   1      0  1999-04-24                             Cowboy Bebop       26   \n",
       "1   5      1  2001-09-01  Cowboy Bebop: Knockin' on Heaven's Door        1   \n",
       "2   6      3  1998-09-30                                   Trigun       26   \n",
       "\n",
       "                                               image score  start_date  \\\n",
       "0  http://cdn.myanimelist.net/images/anime/4/1964...  8.83  1998-04-03   \n",
       "1  http://cdn.myanimelist.net/images/anime/6/1433...  8.41  2001-09-01   \n",
       "2  http://cdn.myanimelist.net/images/anime/7/2031...  8.32  1998-04-01   \n",
       "\n",
       "            status            synonyms  \\\n",
       "0  Finished Airing                None   \n",
       "1  Finished Airing  Cowboy Bebop Movie   \n",
       "2  Finished Airing                None   \n",
       "\n",
       "                                            synopsis  \\\n",
       "0  In the year 2071, humanity has colonized sever...   \n",
       "1  As the Cowboy Bebop crew travels the stars, th...   \n",
       "2  Vash the Stampede is a wanted man with a habit...   \n",
       "\n",
       "                             title   type                             name  \\\n",
       "0                     Cowboy Bebop     TV                     Cowboy Bebop   \n",
       "1  Cowboy Bebop: Tengoku no Tobira  Movie  Cowboy Bebop: Tengoku no Tobira   \n",
       "2                           Trigun     TV                           Trigun   \n",
       "\n",
       "   rating  rank  popularity  members  favorites  \n",
       "0    8.83    20          27   266713      17715  \n",
       "1    8.41   145         257    91771        374  \n",
       "2    8.34   191          72   175287       5575  "
      ]
     },
     "execution_count": 422,
     "metadata": {},
     "output_type": "execute_result"
    }
   ],
   "source": [
    "merged_data.head(3)"
   ]
  },
  {
   "cell_type": "code",
   "execution_count": 444,
   "metadata": {
    "collapsed": false
   },
   "outputs": [],
   "source": [
    "wanted_data = merged_data[['title',\n",
    "                           'id',\n",
    "                           'episodes',\n",
    "                           'score',\n",
    "                           'rank',\n",
    "                           'popularity',\n",
    "                           'members',\n",
    "                           'favorites',\n",
    "                           'start_date',\n",
    "                           'end_date',\n",
    "                           'status',\n",
    "                           'type',\n",
    "                           'synopsis']]"
   ]
  },
  {
   "cell_type": "code",
   "execution_count": 475,
   "metadata": {
    "collapsed": false
   },
   "outputs": [
    {
     "name": "stderr",
     "output_type": "stream",
     "text": [
      "/Users/kenn/anaconda/envs/py35/lib/python3.5/site-packages/pandas/core/generic.py:2387: SettingWithCopyWarning: \n",
      "A value is trying to be set on a copy of a slice from a DataFrame.\n",
      "Try using .loc[row_indexer,col_indexer] = value instead\n",
      "\n",
      "See the caveats in the documentation: http://pandas.pydata.org/pandas-docs/stable/indexing.html#indexing-view-versus-copy\n",
      "  self[name] = value\n"
     ]
    }
   ],
   "source": [
    "wanted_data.synopsis = wanted_data.synopsis.astype('str')"
   ]
  },
  {
   "cell_type": "code",
   "execution_count": 476,
   "metadata": {
    "collapsed": false,
    "scrolled": true
   },
   "outputs": [
    {
     "data": {
      "text/html": [
       "<div>\n",
       "<table border=\"1\" class=\"dataframe\">\n",
       "  <thead>\n",
       "    <tr style=\"text-align: right;\">\n",
       "      <th></th>\n",
       "      <th>title</th>\n",
       "      <th>id</th>\n",
       "      <th>episodes</th>\n",
       "      <th>score</th>\n",
       "      <th>rank</th>\n",
       "      <th>popularity</th>\n",
       "      <th>members</th>\n",
       "      <th>favorites</th>\n",
       "      <th>start_date</th>\n",
       "      <th>end_date</th>\n",
       "      <th>status</th>\n",
       "      <th>type</th>\n",
       "      <th>synopsis</th>\n",
       "    </tr>\n",
       "  </thead>\n",
       "  <tbody>\n",
       "    <tr>\n",
       "      <th>0</th>\n",
       "      <td>Cowboy Bebop</td>\n",
       "      <td>1</td>\n",
       "      <td>26</td>\n",
       "      <td>8.83</td>\n",
       "      <td>20</td>\n",
       "      <td>27</td>\n",
       "      <td>266713</td>\n",
       "      <td>17715</td>\n",
       "      <td>1998-04-03</td>\n",
       "      <td>1999-04-24</td>\n",
       "      <td>Finished Airing</td>\n",
       "      <td>TV</td>\n",
       "      <td>In the year 2071, humanity has colonized sever...</td>\n",
       "    </tr>\n",
       "    <tr>\n",
       "      <th>1</th>\n",
       "      <td>Cowboy Bebop: Tengoku no Tobira</td>\n",
       "      <td>5</td>\n",
       "      <td>1</td>\n",
       "      <td>8.41</td>\n",
       "      <td>145</td>\n",
       "      <td>257</td>\n",
       "      <td>91771</td>\n",
       "      <td>374</td>\n",
       "      <td>2001-09-01</td>\n",
       "      <td>2001-09-01</td>\n",
       "      <td>Finished Airing</td>\n",
       "      <td>Movie</td>\n",
       "      <td>As the Cowboy Bebop crew travels the stars, th...</td>\n",
       "    </tr>\n",
       "    <tr>\n",
       "      <th>2</th>\n",
       "      <td>Trigun</td>\n",
       "      <td>6</td>\n",
       "      <td>26</td>\n",
       "      <td>8.32</td>\n",
       "      <td>191</td>\n",
       "      <td>72</td>\n",
       "      <td>175287</td>\n",
       "      <td>5575</td>\n",
       "      <td>1998-04-01</td>\n",
       "      <td>1998-09-30</td>\n",
       "      <td>Finished Airing</td>\n",
       "      <td>TV</td>\n",
       "      <td>Vash the Stampede is a wanted man with a habit...</td>\n",
       "    </tr>\n",
       "  </tbody>\n",
       "</table>\n",
       "</div>"
      ],
      "text/plain": [
       "                             title  id episodes score  rank  popularity  \\\n",
       "0                     Cowboy Bebop   1       26  8.83    20          27   \n",
       "1  Cowboy Bebop: Tengoku no Tobira   5        1  8.41   145         257   \n",
       "2                           Trigun   6       26  8.32   191          72   \n",
       "\n",
       "   members  favorites  start_date    end_date           status   type  \\\n",
       "0   266713      17715  1998-04-03  1999-04-24  Finished Airing     TV   \n",
       "1    91771        374  2001-09-01  2001-09-01  Finished Airing  Movie   \n",
       "2   175287       5575  1998-04-01  1998-09-30  Finished Airing     TV   \n",
       "\n",
       "                                            synopsis  \n",
       "0  In the year 2071, humanity has colonized sever...  \n",
       "1  As the Cowboy Bebop crew travels the stars, th...  \n",
       "2  Vash the Stampede is a wanted man with a habit...  "
      ]
     },
     "execution_count": 476,
     "metadata": {},
     "output_type": "execute_result"
    }
   ],
   "source": [
    "wanted_data.head(3)"
   ]
  },
  {
   "cell_type": "code",
   "execution_count": 477,
   "metadata": {
    "collapsed": true
   },
   "outputs": [],
   "source": [
    "wanted_data.to_csv('full_anime_data_set', index=False)"
   ]
  },
  {
   "cell_type": "markdown",
   "metadata": {},
   "source": [
    "## Cleaning up wanted data"
   ]
  },
  {
   "cell_type": "code",
   "execution_count": 478,
   "metadata": {
    "collapsed": true
   },
   "outputs": [],
   "source": [
    "synops = list(wanted_data.synopsis)"
   ]
  },
  {
   "cell_type": "code",
   "execution_count": 501,
   "metadata": {
    "collapsed": false,
    "scrolled": true
   },
   "outputs": [],
   "source": [
    "#synops"
   ]
  },
  {
   "cell_type": "code",
   "execution_count": 493,
   "metadata": {
    "collapsed": false,
    "scrolled": false
   },
   "outputs": [],
   "source": [
    "for i, item in enumerate(synops):\n",
    "    if item == None:\n",
    "        continue\n",
    "    else:\n",
    "        if type(item) is float:\n",
    "            print(item)\n",
    "        item = re.sub('\\<.*?\\>', '', item)\n",
    "        item = re.sub('\\[.*?\\]', '', item)\n",
    "        item = re.sub('\\(.*?\\)', '', item)\n",
    "        item = re.sub('\\{.*?\\}', '', item)\n",
    "        item = ' '.join(item.split())\n",
    "        item = item.replace('\\\\', '', 100)\n",
    "        synops[i] = item\n",
    "    \n"
   ]
  },
  {
   "cell_type": "code",
   "execution_count": 509,
   "metadata": {
    "collapsed": false
   },
   "outputs": [
    {
     "name": "stderr",
     "output_type": "stream",
     "text": [
      "/Users/kenn/anaconda/envs/py35/lib/python3.5/site-packages/pandas/core/generic.py:2387: SettingWithCopyWarning: \n",
      "A value is trying to be set on a copy of a slice from a DataFrame.\n",
      "Try using .loc[row_indexer,col_indexer] = value instead\n",
      "\n",
      "See the caveats in the documentation: http://pandas.pydata.org/pandas-docs/stable/indexing.html#indexing-view-versus-copy\n",
      "  self[name] = value\n"
     ]
    }
   ],
   "source": [
    "wanted_data.synopsis = synops"
   ]
  },
  {
   "cell_type": "code",
   "execution_count": 510,
   "metadata": {
    "collapsed": true
   },
   "outputs": [],
   "source": [
    "wanted_data.to_csv('full_anime_data_set.csv', index=False)"
   ]
  }
 ],
 "metadata": {
  "kernelspec": {
   "display_name": "Python 3",
   "language": "python",
   "name": "python3"
  },
  "language_info": {
   "codemirror_mode": {
    "name": "ipython",
    "version": 3
   },
   "file_extension": ".py",
   "mimetype": "text/x-python",
   "name": "python",
   "nbconvert_exporter": "python",
   "pygments_lexer": "ipython3",
   "version": "3.5.1"
  }
 },
 "nbformat": 4,
 "nbformat_minor": 0
}
