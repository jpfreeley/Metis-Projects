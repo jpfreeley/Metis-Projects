{
 "cells": [
  {
   "cell_type": "markdown",
   "metadata": {},
   "source": [
    "# This will scrape GoodReads using their API and BS4 "
   ]
  },
  {
   "cell_type": "code",
   "execution_count": 3,
   "metadata": {
    "collapsed": false
   },
   "outputs": [],
   "source": [
    "import requests\n",
    "from bs4 import BeautifulSoup\n",
    "import time\n",
    "from IMDBRatingScraper import scrapeSearchMultiPages\n",
    "import urllib.parse\n",
    "from collections import defaultdict\n",
    "import pandas as pd\n"
   ]
  },
  {
   "cell_type": "code",
   "execution_count": 4,
   "metadata": {
    "collapsed": true
   },
   "outputs": [],
   "source": [
    "key = 'OvwVfE5FFyCu0IpiwxWGVQ'"
   ]
  },
  {
   "cell_type": "code",
   "execution_count": 5,
   "metadata": {
    "collapsed": true
   },
   "outputs": [],
   "source": [
    "search_key = 'https://www.goodreads.com/search/index.xml?key=' + key + '&q='"
   ]
  },
  {
   "cell_type": "code",
   "execution_count": 6,
   "metadata": {
    "collapsed": true
   },
   "outputs": [],
   "source": [
    "movies_based_on_books = 'http://www.imdb.com/search/keyword?keywords= \\\n",
    "                         based-on-novel&mode=advanced&page=1&title_type= \\\n",
    "                         movie&ref_=kw_vw_adv&sort=user_rating,desc'"
   ]
  },
  {
   "cell_type": "code",
   "execution_count": 7,
   "metadata": {
    "collapsed": false
   },
   "outputs": [],
   "source": [
    "def readPage(search_page_url):\n",
    "    response = requests.get(search_page_url)\n",
    "    page = response.text\n",
    "    soup = BeautifulSoup(page, 'xml')\n",
    "  \n",
    "    return soup"
   ]
  },
  {
   "cell_type": "markdown",
   "metadata": {},
   "source": [
    "## Test for getting goodreads data"
   ]
  },
  {
   "cell_type": "code",
   "execution_count": 8,
   "metadata": {
    "collapsed": false
   },
   "outputs": [],
   "source": [
    "page_data = readPage('https://www.goodreads.com/search/index.xml?key=OvwVfE5FFyCu0IpiwxWGVQ&q=Hababam%20Sinifi')"
   ]
  },
  {
   "cell_type": "code",
   "execution_count": 9,
   "metadata": {
    "collapsed": false
   },
   "outputs": [],
   "source": [
    "#print(page_data)"
   ]
  },
  {
   "cell_type": "code",
   "execution_count": 10,
   "metadata": {
    "collapsed": false
   },
   "outputs": [],
   "source": [
    "q = search_key + urllib.parse.quote('Hababam Sinifi')"
   ]
  },
  {
   "cell_type": "code",
   "execution_count": 11,
   "metadata": {
    "collapsed": false
   },
   "outputs": [
    {
     "data": {
      "text/plain": [
       "True"
      ]
     },
     "execution_count": 11,
     "metadata": {},
     "output_type": "execute_result"
    }
   ],
   "source": [
    "q == 'https://www.goodreads.com/search/index.xml?key=OvwVfE5FFyCu0IpiwxWGVQ&q=Hababam%20Sinifi'"
   ]
  },
  {
   "cell_type": "code",
   "execution_count": 12,
   "metadata": {
    "collapsed": false
   },
   "outputs": [
    {
     "data": {
      "text/plain": [
       "True"
      ]
     },
     "execution_count": 12,
     "metadata": {},
     "output_type": "execute_result"
    }
   ],
   "source": [
    "type(q) == type('https://www.goodreads.com/search/index.xml?key=OvwVfE5FFyCu0IpiwxWGVQ&q=Hababam%20Sinifi')"
   ]
  },
  {
   "cell_type": "code",
   "execution_count": 13,
   "metadata": {
    "collapsed": false
   },
   "outputs": [
    {
     "name": "stdout",
     "output_type": "stream",
     "text": [
      "https://www.goodreads.com/search/index.xml?key=OvwVfE5FFyCu0IpiwxWGVQ&q=Hababam%20Sinifi\n",
      "https://www.goodreads.com/search/index.xml?key=OvwVfE5FFyCu0IpiwxWGVQ&q=Hababam%20Sinifi\n"
     ]
    }
   ],
   "source": [
    "print(q)\n",
    "print('https://www.goodreads.com/search/index.xml?key=OvwVfE5FFyCu0IpiwxWGVQ&q=Hababam%20Sinifi')"
   ]
  },
  {
   "cell_type": "markdown",
   "metadata": {},
   "source": [
    "## Get movie book list from IMDB"
   ]
  },
  {
   "cell_type": "code",
   "execution_count": 14,
   "metadata": {
    "collapsed": false
   },
   "outputs": [],
   "source": [
    "movie_book_list = scrapeSearchMultiPages(movies_based_on_books)"
   ]
  },
  {
   "cell_type": "code",
   "execution_count": 15,
   "metadata": {
    "collapsed": false
   },
   "outputs": [],
   "source": [
    "movie_book_list = [movie for movie,_ in movie_book_list]"
   ]
  },
  {
   "cell_type": "code",
   "execution_count": 16,
   "metadata": {
    "collapsed": false
   },
   "outputs": [
    {
     "name": "stdout",
     "output_type": "stream",
     "text": [
      "['Hababam Sinifi', 'The Godfather', 'National Theatre Live: Frankenstein', 'The Godfather: Part II', 'Hababam Sinifi Sinifta Kaldi']\n"
     ]
    }
   ],
   "source": [
    "print(movie_book_list[:5])"
   ]
  },
  {
   "cell_type": "markdown",
   "metadata": {},
   "source": [
    "## Use the IMDB movie list to get data on the books the movies were based on\n",
    "\n",
    "Takes the top hit and pulls the data from it, if there are no results, nothing is recorded."
   ]
  },
  {
   "cell_type": "code",
   "execution_count": 17,
   "metadata": {
    "collapsed": false
   },
   "outputs": [],
   "source": [
    "def getBookData(movie_book_list, key=key, search_key=search_key):\n",
    "    movie_book_names = []\n",
    "    movie_book_ratings = []\n",
    "    movie_book_ratings_counts = []\n",
    "    \n",
    "    got_books, missed_books = 0, 0\n",
    "\n",
    "    for movie in movie_book_list:\n",
    "        page_data = readPage(search_key + urllib.parse.quote(movie))\n",
    "        total_results = page_data.find('total-results').text\n",
    "        if int(total_results) > 1:\n",
    "            rating = float(page_data.find('average_rating').text)\n",
    "            rating_count = int(page_data.find('ratings_count').text)\n",
    "            \n",
    "            movie_book_names.append(movie)\n",
    "            movie_book_ratings.append(rating)\n",
    "            movie_book_ratings_counts.append(rating_count)\n",
    "            got_books += 1\n",
    "            print('Got {} books'.format(str(got_books)))\n",
    "        else:\n",
    "            missed_books += 1\n",
    "            print('Missed {} books'.format(str(missed_books)))\n",
    "        \n",
    "        time.sleep(1)\n",
    "            \n",
    "    return [movie_book_names, movie_book_ratings, movie_book_ratings_counts]\n",
    "        \n",
    "        "
   ]
  },
  {
   "cell_type": "code",
   "execution_count": 18,
   "metadata": {
    "collapsed": false
   },
   "outputs": [
    {
     "name": "stdout",
     "output_type": "stream",
     "text": [
      "Got 1 books\n",
      "Got 2 books\n",
      "Missed 1 books\n",
      "Got 3 books\n",
      "Missed 2 books\n",
      "Missed 3 books\n",
      "Got 4 books\n",
      "Got 5 books\n",
      "Missed 4 books\n",
      "Got 6 books\n",
      "Missed 5 books\n",
      "Missed 6 books\n",
      "Got 7 books\n",
      "Got 8 books\n",
      "Missed 7 books\n",
      "Missed 8 books\n",
      "Got 9 books\n",
      "Got 10 books\n",
      "Got 11 books\n",
      "Got 12 books\n",
      "Got 13 books\n",
      "Missed 9 books\n",
      "Missed 10 books\n",
      "Got 14 books\n",
      "Got 15 books\n",
      "Missed 11 books\n",
      "Missed 12 books\n",
      "Missed 13 books\n",
      "Missed 14 books\n",
      "Got 16 books\n",
      "Missed 15 books\n",
      "Missed 16 books\n",
      "Got 17 books\n",
      "Got 18 books\n",
      "Got 19 books\n",
      "Got 20 books\n",
      "Got 21 books\n",
      "Got 22 books\n",
      "Got 23 books\n",
      "Got 24 books\n",
      "Missed 17 books\n",
      "Got 25 books\n",
      "Got 26 books\n",
      "Missed 18 books\n",
      "Got 27 books\n",
      "Got 28 books\n",
      "Got 29 books\n",
      "Missed 19 books\n",
      "Got 30 books\n",
      "Got 31 books\n",
      "Missed 20 books\n",
      "Got 32 books\n",
      "Got 33 books\n",
      "Got 34 books\n",
      "Missed 21 books\n",
      "Missed 22 books\n",
      "Missed 23 books\n",
      "Got 35 books\n",
      "Missed 24 books\n",
      "Got 36 books\n",
      "Got 37 books\n",
      "Got 38 books\n",
      "Got 39 books\n",
      "Got 40 books\n",
      "Got 41 books\n",
      "Got 42 books\n",
      "Got 43 books\n",
      "Got 44 books\n",
      "Got 45 books\n",
      "Got 46 books\n",
      "Got 47 books\n",
      "Missed 25 books\n",
      "Missed 26 books\n",
      "Missed 27 books\n",
      "Got 48 books\n",
      "Got 49 books\n",
      "Missed 28 books\n",
      "Missed 29 books\n",
      "Got 50 books\n",
      "Got 51 books\n",
      "Got 52 books\n",
      "Missed 30 books\n",
      "Got 53 books\n",
      "Missed 31 books\n",
      "Got 54 books\n",
      "Got 55 books\n",
      "Got 56 books\n",
      "Got 57 books\n",
      "Got 58 books\n",
      "Got 59 books\n",
      "Got 60 books\n",
      "Got 61 books\n",
      "Got 62 books\n",
      "Got 63 books\n",
      "Got 64 books\n",
      "Missed 32 books\n",
      "Got 65 books\n",
      "Got 66 books\n",
      "Got 67 books\n",
      "Got 68 books\n",
      "Got 69 books\n",
      "Got 70 books\n",
      "Got 71 books\n",
      "Got 72 books\n",
      "Got 73 books\n",
      "Got 74 books\n",
      "Got 75 books\n",
      "Got 76 books\n",
      "Got 77 books\n",
      "Missed 33 books\n",
      "Missed 34 books\n",
      "Missed 35 books\n",
      "Missed 36 books\n",
      "Missed 37 books\n",
      "Missed 38 books\n",
      "Got 78 books\n",
      "Got 79 books\n",
      "Got 80 books\n",
      "Got 81 books\n",
      "Got 82 books\n",
      "Got 83 books\n",
      "Got 84 books\n",
      "Got 85 books\n",
      "Got 86 books\n",
      "Got 87 books\n",
      "Got 88 books\n",
      "Got 89 books\n",
      "Got 90 books\n",
      "Got 91 books\n",
      "Got 92 books\n",
      "Got 93 books\n",
      "Got 94 books\n",
      "Got 95 books\n",
      "Got 96 books\n",
      "Got 97 books\n",
      "Got 98 books\n",
      "Missed 39 books\n",
      "Got 99 books\n",
      "Got 100 books\n",
      "Got 101 books\n",
      "Got 102 books\n",
      "Got 103 books\n",
      "Got 104 books\n",
      "Got 105 books\n",
      "Got 106 books\n",
      "Missed 40 books\n",
      "Missed 41 books\n",
      "Missed 42 books\n",
      "Got 107 books\n",
      "Missed 43 books\n",
      "Got 108 books\n",
      "Got 109 books\n",
      "Missed 44 books\n",
      "Got 110 books\n",
      "Got 111 books\n",
      "Missed 45 books\n",
      "Got 112 books\n",
      "Got 113 books\n",
      "Missed 46 books\n",
      "Missed 47 books\n",
      "Missed 48 books\n",
      "Missed 49 books\n",
      "Got 114 books\n",
      "Missed 50 books\n",
      "Missed 51 books\n",
      "Missed 52 books\n",
      "Missed 53 books\n",
      "Missed 54 books\n",
      "Missed 55 books\n",
      "Missed 56 books\n",
      "Missed 57 books\n",
      "Missed 58 books\n",
      "Got 115 books\n",
      "Got 116 books\n",
      "Got 117 books\n",
      "Got 118 books\n",
      "Got 119 books\n",
      "Got 120 books\n",
      "Got 121 books\n",
      "Got 122 books\n",
      "Got 123 books\n",
      "Got 124 books\n",
      "Got 125 books\n",
      "Got 126 books\n",
      "Got 127 books\n",
      "Got 128 books\n",
      "Got 129 books\n",
      "Got 130 books\n",
      "Got 131 books\n",
      "Got 132 books\n",
      "Got 133 books\n",
      "Got 134 books\n",
      "Missed 59 books\n",
      "Got 135 books\n",
      "Got 136 books\n",
      "Got 137 books\n",
      "Got 138 books\n",
      "Got 139 books\n",
      "Got 140 books\n",
      "Got 141 books\n",
      "Got 142 books\n",
      "Got 143 books\n",
      "Got 144 books\n",
      "Got 145 books\n",
      "Got 146 books\n",
      "Got 147 books\n",
      "Got 148 books\n",
      "Got 149 books\n",
      "Got 150 books\n",
      "Got 151 books\n",
      "Got 152 books\n",
      "Got 153 books\n",
      "Missed 60 books\n",
      "Got 154 books\n",
      "Got 155 books\n",
      "Got 156 books\n",
      "Got 157 books\n",
      "Got 158 books\n",
      "Got 159 books\n",
      "Got 160 books\n",
      "Missed 61 books\n",
      "Missed 62 books\n",
      "Got 161 books\n",
      "Got 162 books\n",
      "Got 163 books\n",
      "Missed 63 books\n",
      "Got 164 books\n",
      "Got 165 books\n",
      "Got 166 books\n",
      "Got 167 books\n",
      "Got 168 books\n",
      "Got 169 books\n",
      "Got 170 books\n",
      "Got 171 books\n",
      "Missed 64 books\n",
      "Got 172 books\n",
      "Missed 65 books\n",
      "Missed 66 books\n",
      "Missed 67 books\n",
      "Got 173 books\n",
      "Missed 68 books\n",
      "Missed 69 books\n",
      "Missed 70 books\n",
      "Missed 71 books\n",
      "Got 174 books\n",
      "Got 175 books\n",
      "Got 176 books\n",
      "Missed 72 books\n",
      "Missed 73 books\n",
      "Got 177 books\n",
      "Got 178 books\n",
      "Got 179 books\n",
      "Got 180 books\n",
      "Got 181 books\n",
      "Missed 74 books\n",
      "Missed 75 books\n",
      "Got 182 books\n",
      "Missed 76 books\n",
      "Missed 77 books\n",
      "Missed 78 books\n",
      "Missed 79 books\n",
      "Got 183 books\n",
      "Got 184 books\n",
      "Missed 80 books\n",
      "Got 185 books\n",
      "Missed 81 books\n",
      "Got 186 books\n",
      "Missed 82 books\n",
      "Got 187 books\n",
      "Missed 83 books\n",
      "Got 188 books\n",
      "Missed 84 books\n",
      "Missed 85 books\n",
      "Missed 86 books\n",
      "Missed 87 books\n",
      "Missed 88 books\n",
      "Missed 89 books\n",
      "Missed 90 books\n",
      "Missed 91 books\n",
      "Missed 92 books\n",
      "Missed 93 books\n",
      "Missed 94 books\n",
      "Got 189 books\n",
      "Got 190 books\n",
      "Got 191 books\n",
      "Got 192 books\n",
      "Got 193 books\n",
      "Got 194 books\n",
      "Got 195 books\n",
      "Got 196 books\n",
      "Got 197 books\n",
      "Got 198 books\n",
      "Got 199 books\n",
      "Got 200 books\n",
      "Got 201 books\n",
      "Got 202 books\n",
      "Got 203 books\n",
      "Got 204 books\n",
      "Got 205 books\n",
      "Got 206 books\n",
      "Got 207 books\n",
      "Got 208 books\n",
      "Got 209 books\n",
      "Got 210 books\n",
      "Got 211 books\n",
      "Got 212 books\n",
      "Got 213 books\n",
      "Got 214 books\n",
      "Got 215 books\n",
      "Got 216 books\n",
      "Got 217 books\n",
      "Got 218 books\n",
      "Got 219 books\n",
      "Got 220 books\n",
      "Got 221 books\n",
      "Got 222 books\n",
      "Got 223 books\n",
      "Got 224 books\n",
      "Got 225 books\n",
      "Got 226 books\n",
      "Got 227 books\n",
      "Got 228 books\n",
      "Got 229 books\n",
      "Got 230 books\n",
      "Got 231 books\n",
      "Got 232 books\n",
      "Got 233 books\n",
      "Got 234 books\n",
      "Missed 95 books\n",
      "Got 235 books\n",
      "Got 236 books\n",
      "Got 237 books\n",
      "Got 238 books\n",
      "Got 239 books\n",
      "Got 240 books\n",
      "Got 241 books\n",
      "Got 242 books\n",
      "Got 243 books\n",
      "Got 244 books\n",
      "Got 245 books\n",
      "Got 246 books\n",
      "Got 247 books\n",
      "Got 248 books\n",
      "Got 249 books\n",
      "Got 250 books\n",
      "Missed 96 books\n",
      "Got 251 books\n",
      "Missed 97 books\n",
      "Got 252 books\n",
      "Got 253 books\n",
      "Got 254 books\n",
      "Got 255 books\n",
      "Missed 98 books\n",
      "Missed 99 books\n",
      "Got 256 books\n",
      "Got 257 books\n",
      "Got 258 books\n",
      "Missed 100 books\n",
      "Got 259 books\n",
      "Got 260 books\n",
      "Missed 101 books\n",
      "Got 261 books\n",
      "Got 262 books\n",
      "Got 263 books\n",
      "Missed 102 books\n",
      "Missed 103 books\n",
      "Missed 104 books\n",
      "Got 264 books\n",
      "Got 265 books\n",
      "Missed 105 books\n",
      "Missed 106 books\n",
      "Missed 107 books\n",
      "Missed 108 books\n",
      "Got 266 books\n",
      "Got 267 books\n",
      "Got 268 books\n",
      "Got 269 books\n",
      "Missed 109 books\n",
      "Got 270 books\n",
      "Got 271 books\n",
      "Got 272 books\n",
      "Got 273 books\n",
      "Missed 110 books\n",
      "Missed 111 books\n",
      "Missed 112 books\n",
      "Missed 113 books\n",
      "Got 274 books\n",
      "Missed 114 books\n",
      "Missed 115 books\n",
      "Missed 116 books\n",
      "Got 275 books\n",
      "Got 276 books\n",
      "Missed 117 books\n",
      "Got 277 books\n",
      "Missed 118 books\n",
      "Got 278 books\n",
      "Missed 119 books\n",
      "Missed 120 books\n",
      "Missed 121 books\n",
      "Got 279 books\n",
      "Missed 122 books\n",
      "Missed 123 books\n",
      "Missed 124 books\n",
      "Missed 125 books\n",
      "Missed 126 books\n",
      "Got 280 books\n",
      "Got 281 books\n",
      "Got 282 books\n",
      "Got 283 books\n",
      "Got 284 books\n",
      "Got 285 books\n",
      "Got 286 books\n",
      "Got 287 books\n",
      "Got 288 books\n",
      "Got 289 books\n",
      "Got 290 books\n",
      "Got 291 books\n",
      "Got 292 books\n",
      "Got 293 books\n",
      "Got 294 books\n",
      "Got 295 books\n",
      "Got 296 books\n",
      "Got 297 books\n",
      "Got 298 books\n",
      "Got 299 books\n",
      "Got 300 books\n",
      "Got 301 books\n",
      "Got 302 books\n",
      "Got 303 books\n",
      "Got 304 books\n",
      "Got 305 books\n",
      "Got 306 books\n",
      "Got 307 books\n",
      "Got 308 books\n",
      "Got 309 books\n",
      "Got 310 books\n",
      "Got 311 books\n",
      "Got 312 books\n",
      "Got 313 books\n",
      "Missed 127 books\n",
      "Missed 128 books\n",
      "Got 314 books\n",
      "Missed 129 books\n",
      "Got 315 books\n",
      "Missed 130 books\n",
      "Got 316 books\n",
      "Got 317 books\n",
      "Got 318 books\n",
      "Got 319 books\n",
      "Got 320 books\n",
      "Got 321 books\n",
      "Missed 131 books\n",
      "Got 322 books\n",
      "Got 323 books\n",
      "Got 324 books\n",
      "Got 325 books\n",
      "Got 326 books\n",
      "Got 327 books\n",
      "Missed 132 books\n",
      "Got 328 books\n",
      "Got 329 books\n",
      "Missed 133 books\n",
      "Got 330 books\n",
      "Got 331 books\n",
      "Got 332 books\n",
      "Got 333 books\n",
      "Got 334 books\n",
      "Missed 134 books\n",
      "Got 335 books\n",
      "Missed 135 books\n",
      "Got 336 books\n",
      "Missed 136 books\n",
      "Got 337 books\n",
      "Got 338 books\n",
      "Got 339 books\n",
      "Got 340 books\n",
      "Got 341 books\n",
      "Got 342 books\n",
      "Got 343 books\n",
      "Got 344 books\n",
      "Got 345 books\n",
      "Got 346 books\n",
      "Got 347 books\n",
      "Got 348 books\n",
      "Missed 137 books\n",
      "Got 349 books\n",
      "Missed 138 books\n",
      "Missed 139 books\n",
      "Missed 140 books\n",
      "Got 350 books\n",
      "Missed 141 books\n",
      "Got 351 books\n",
      "Missed 142 books\n",
      "Got 352 books\n",
      "Missed 143 books\n",
      "Got 353 books\n",
      "Got 354 books\n",
      "Got 355 books\n",
      "Missed 144 books\n",
      "Missed 145 books\n"
     ]
    }
   ],
   "source": [
    "book_data = getBookData(movie_book_list)"
   ]
  },
  {
   "cell_type": "code",
   "execution_count": 19,
   "metadata": {
    "collapsed": false
   },
   "outputs": [
    {
     "name": "stdout",
     "output_type": "stream",
     "text": [
      "[['Hababam Sinifi', 'The Godfather', 'The Godfather: Part II', 'Fight Club', 'The Lord of the Rings: The Return of the King', 'Morometii', 'The Lord of the Rings: The Fellowship of the Ring', 'Forrest Gump', 'Selvi boylum, al yazmalim', 'Goodfellas', \"One Flew Over the Cuckoo's Nest\", 'The Lord of the Rings: The Two Towers', 'Harakiri', 'The Silence of the Lambs', \"It's a Wonderful Life\", 'La Celestina', 'The Prestige', 'Apocalypse Now', 'The Green Mile', 'Psycho', 'Dr. Strangelove or: How I Learned to Stop Worrying and Love the Bomb', 'Grave of the Fireflies', 'Paths of Glory', 'Woman in the Dunes', 'Le trou', 'Guide', 'Brown of Harvard', 'Cel mai iubit dintre pamînteni', 'Forest of the Hanged', 'The Golden Calf', \"Devil's Bride\", 'When Knighthood Was in Flower', 'Janice Meredith', 'Anugraham', 'Hotaru no hikari', 'The Shining', 'Requiem for a Dream', 'A Clockwork Orange', '3 Idiots', 'Once Upon a Time in America', 'To Kill a Mockingbird', 'Double Indemnity', 'Vertigo', 'Das Boot', 'Bicycle Thieves', 'Sunrise', 'High and Low', 'The Little Fox', 'Twelve Chairs', \"Le dernier jour d'un condamné\", 'Clouds at Sunset', 'Beverly of Graustark', 'Amalia', 'The Revenant', 'Room', 'Scarface', '2001: A Space Odyssey', 'Full Metal Jacket', 'L.A. Confidential', 'Raging Bull', 'Metropolis', 'Yojimbo', 'The Treasure of the Sierra Madre', 'Rocco and His Brothers', 'The Heiress', 'Akahige', 'Pather Panchali', 'I Remember Mama', 'Viridiana', 'To Live', 'The Wind', 'Make Way for Tomorrow', 'Late Autumn', 'Sahib Bibi Aur Ghulam', 'Noz', 'The Ascent', 'Charulata', 'Die Hard', 'Blade Runner', 'Gone with the Wind', 'Trainspotting', 'How to Train Your Dragon', 'The Secret in Their Eyes', 'Casino', \"Howl's Moving Castle\", 'Cool Hand Luke', 'The Bridge on the River Kwai', 'The Maltese Falcon', 'Rebecca', 'Stalker', 'Paper Moon', 'The Best Years of Our Lives', 'The Thin Man', 'The Wages of Fear', 'Sanjuro', 'The Army of Shadows', 'Sweet Smell of Success', 'Kind Hearts and Coronets', 'Rififi', 'A Tree Grows in Brooklyn', 'My Sassy Girl', 'Z', 'Ugetsu', 'Raise the Red Lantern', 'Los santos inocentes', 'The Oak', 'Marketa Lazarová', 'Reconstruction', 'Al-ard', 'Five and Ten', 'Viento negro', 'The Crazy-Quilt', 'Lenz', 'La chambre rouge', 'The Martian', 'Harry Potter and the Deathly Hallows: Part 2', 'Gone Girl', 'Shutter Island', 'Stand by Me', 'Jurassic Park', 'No Country for Old Men', 'The Princess Bride', 'The Help', 'Jaws', 'There Will Be Blood', 'The Wizard of Oz', 'The Bourne Ultimatum', 'Young Frankenstein', 'A Christmas Story', 'Ben-Hur', 'Anatomy of a Murder', 'Barry Lyndon', 'Solaris', 'Underground', 'Strangers on a Train', 'The Night of the Hunter', 'Touch of Evil', 'The Grapes of Wrath', 'The Hustler', 'The Killing', 'The Last Picture Show', 'The Big Sleep', 'All Quiet on the Western Front', 'What Ever Happened to Baby Jane?', 'The Man Who Knew Infinity', 'Laura', 'Diabolique', 'The Conformist', 'A Christmas Carol', 'Le Samouraï', 'The Leopard', 'Out of the Past', 'Farewell My Concubine', 'Now, Voyager', 'My Man Godfrey', 'Jean de Florette', 'The Sword of Doom', 'Ben-Hur: A Tale of the Christ', 'The Ox-Bow Incident', 'The Fire Within', 'Dodsworth', 'Le Deuxieme Souffle', 'Körkarlen', 'The Burmese Harp', 'The Boys of Paul Street', 'Aparajito', 'Twenty-Four Eyes', 'Shala', 'Aandhi', 'Fate of a Man', 'Flesh and the Devil', 'Les amitiés particulières', 'The Cremator', 'Devdas', 'Love', 'Bardelys the Magnificent', 'Yama no oto', 'Kekec', 'Kuryer', \"Tol'able David\", 'Merry-Go-Round', 'Weapons of the Spirit', 'The Island of Adventure', 'The Cossacks', 'Debdas', 'Tren', 'Napos oldal', 'Luka', 'The Perks of Being a Wallflower', 'Catch Me If You Can', 'Casino Royale', 'Big Fish', 'The Sound of Music', 'Mystic River', 'Life of Pi', 'The Exorcist', 'Aladdin', 'Slumdog Millionaire', 'Planet of the Apes', 'The Graduate', 'Scent of a Woman', 'Dances with Wolves', 'The Untouchables', 'The Iron Giant', 'Let the Right One In', 'Doctor Zhivago', 'Papillon', \"Rosemary's Baby\", 'The Searchers', 'JFK', 'King Kong', 'In the Heat of the Night', 'East of Eden', 'Nosferatu', 'Being There', 'Freaks', 'Frankenstein', 'The Manchurian Candidate', 'Once Were Warriors', 'Persepolis', 'In Cold Blood', 'To Have and Have Not', 'Mildred Pierce', 'Great Expectations', 'The Lady Vanishes', 'Auntie Mame', 'Fail-Safe', 'Black Narcissus', 'Beauty and the Beast', 'The Big Heat', 'The Lost Weekend', 'That Obscure Object of Desire', 'Higanbana', 'In a Lonely Place', 'Elevator to the Gallows', 'Night and the City', 'The Servant', 'Captains Courageous', 'The Emigrants', 'A Patch of Blue', 'Random Harvest', 'Letter from an Unknown Woman', 'Desu nôto', 'Kaos', 'Rekopis znaleziony w Saragossie', 'Diary of a Lost Girl', 'This Man Must Die', 'El sur', 'Hunger', 'The Promised Land', 'Kuroi ame', 'Nazarin', 'Diary of a Country Priest', 'Fantozzi', 'Nobi', 'Pinjar', 'Mausam', 'Nybyggarna', 'Touchez Pas au Grisbi', 'Les misérables', 'Un borghese piccolo piccolo', 'La Bohème', 'Desyat negrityat', 'Tonight or Never', 'The Affairs of Anatol', 'Breza', 'Grahanam', 'Eugene Onegin', 'Way for a Sailor', 'Pod igoto', 'The Murderess', 'Gambit', 'The Village Had No Walls', 'Manon', 'Lucija', 'Toestanden', 'Potop', 'The Underground Man', 'An heiligen Wassern', 'The Hobbit: An Unexpected Journey', 'Edge of Tomorrow', 'The Notebook', 'The Fault in Our Stars', 'The Hobbit: The Desolation of Smaug', 'The Bourne Identity', 'Children of Men', 'Spartacus', 'Crouching Tiger, Hidden Dragon', \"Miller's Crossing\", \"Carlito's Way\", 'Midnight Cowboy', 'The Ten Commandments', 'My Left Foot', 'The Outlaw Josey Wales', 'Hud', 'The Remains of the Day', 'The African Queen', 'The Caine Mutiny', 'Johnny Got His Gun', 'Ice Cold in Alex', 'Imitation of Life', \"They Shoot Horses, Don't They?\", 'Two Women', \"Babette's Feast\", 'Jules and Jim', 'The Big Country', 'Bride of Frankenstein', 'The Hunchback of Notre Dame', 'The Ghost and Mrs. Muir', 'The Innocents', 'The Trial', 'Toki o kakeru shôjo', 'The Asphalt Jungle', 'The Magnificent Ambersons', 'Breaker Morant', 'The Plague Dogs', 'Elmer Gantry', 'Seven Days in May', 'O Lucky Man!', 'Scarlet Street', 'Mishima: A Life in Four Chapters', 'Mephisto', 'Greed', 'Pickpocket', 'Das Testament des Dr. Mabuse', 'This Sporting Life', 'Ashes and Diamonds', 'The Mortal Storm', 'Day of Wrath', 'Die Feuerzangenbowle', 'The Unknown', 'Le Plaisir', 'Talvisota', 'The Four Horsemen of the Apocalypse', 'Gloomy Sunday', 'Street of Shame', 'The Deluge', 'Le Doulos', 'Whistle Down the Wind', 'Beau Geste', 'La Terra Trema', 'The Nun', 'Hôtel du Nord', 'The Lacemaker', 'Klopka', 'Forbidden Games', 'Vengeance is Mine', 'The Smiling Lieutenant', 'Tuntematon sotilas', 'Crime and Punishment', 'Ukigumo', 'Orphans of the Storm', 'Red Angel', 'The Story of the Fox', 'Les Plouffe'], [4.28, 4.34, 4.5, 4.19, 4.16, 3.8, 4.55, 4.03, 4.23, 4.36, 4.17, 4.52, 4.23, 4.1, 3.47, 3.38, 3.87, 3.72, 4.4, 3.8, 4.46, 4.67, 3.84, 3.91, 4.14, 4.19, 3.94, 4.28, 3.93, 4.47, 4.1, 3.42, 3.72, 3.46, 3.8, 4.13, 4.08, 3.96, 4.5, 3.77, 4.24, 4.12, 4.04, 4.28, 2.97, 4.35, 4.08, 3.95, 4.42, 3.83, 3.33, 3.86, 3.44, 4.01, 3.97, 3.88, 4.08, 3.93, 4.2, 4.11, 3.48, 4.13, 4.1, 3.57, 3.39, 3.67, 4.52, 3.88, 4.29, 3.59, 4.26, 3.0, 4.25, 4.0, 3.38, 4.18, 0.0, 3.5, 3.9, 4.26, 4.05, 3.84, 3.84, 3.72, 4.3, 4.09, 4.03, 3.93, 4.19, 4.05, 4.1, 4.5, 3.98, 0.0, 3.4, 3.65, 4.52, 4.12, 3.89, 4.22, 3.65, 4.0, 4.0, 3.72, 3.98, 4.04, 3.52, 4.03, 4.33, 4.43, 3.95, 3.8, 3.63, 4.09, 4.38, 4.0, 3.99, 4.05, 4.19, 3.91, 4.11, 4.24, 4.45, 3.95, 4.03, 3.97, 4.02, 3.23, 4.04, 4.0, 3.97, 3.6, 3.96, 4.15, 3.89, 4.24, 3.45, 3.9, 4.41, 4.02, 3.95, 4.04, 3.88, 3.91, 4.15, 4.44, 3.75, 3.98, 4.0, 3.25, 3.98, 4.43, 3.71, 4.07, 3.57, 4.09, 3.89, 4.0, 3.78, 3.75, 3.91, 4.0, 3.5, 0.0, 4.11, 4.4, 4.22, 4.25, 4.05, 4.35, 3.97, 4.27, 4.36, 3.84, 3.47, 3.83, 0.0, 4.22, 0.0, 0.0, 3.32, 4.22, 4.03, 3.79, 4.4, 3.81, 4.58, 3.6, 4.2, 3.43, 3.72, 3.63, 4.28, 4.18, 3.87, 4.11, 4.34, 4.38, 3.89, 3.4, 3.07, 4.17, 3.98, 3.33, 4.06, 4.04, 4.22, 3.94, 4.32, 3.89, 4.04, 3.93, 4.32, 3.58, 4.2, 3.96, 3.72, 4.08, 3.92, 4.32, 4.03, 3.58, 3.92, 3.72, 3.76, 4.1, 4.12, 3.84, 4.39, 3.52, 4.03, 4.4, 0.0, 3.93, 3.0, 3.76, 3.68, 3.87, 4.18, 3.92, 4.06, 4.12, 5.0, 4.24, 3.0, 4.0, 0.0, 4.08, 4.37, 4.32, 3.96, 3.45, 3.94, 3.79, 3.46, 5.0, 4.25, 4.25, 3.4, 4.12, 3.45, 3.64, 4.21, 3.86, 0.0, 3.32, 3.71, 4.06, 3.0, 4.89, 3.65, 4.12, 0.0, 3.5, 3.62, 3.67, 3.83, 3.79, 0.0, 4.39, 3.88, 4.05, 4.33, 4.27, 3.94, 3.69, 4.03, 3.75, 4.46, 3.93, 3.88, 3.85, 4.0, 3.8, 4.33, 4.09, 4.02, 4.2, 4.15, 3.81, 3.54, 3.84, 4.02, 3.84, 3.8, 4.03, 3.89, 3.95, 4.17, 3.94, 3.98, 0.0, 3.94, 3.72, 3.59, 3.82, 3.96, 4.13, 4.5, 3.75, 2.0, 3.96, 4.0, 3.49, 4.0, 3.52, 3.67, 4.18, 3.85, 3.76, 3.4, 4.0, 4.0, 3.75, 4.0, 5.0, 3.9, 5.0, 3.6, 3.94, 0.0, 3.66, 2.78, 3.68, 0.0, 3.58, 3.87, 4.5, 5.0, 4.16, 4.0, 4.27, 4.06, 3.7, 3.29], [713, 231557, 4, 330059, 82, 5390, 75, 40615, 274, 409, 447189, 4107, 22, 320488, 66, 6479, 11412, 428, 160910, 147511, 13, 18, 10012, 10769, 7, 895803, 141407, 400, 4255, 3879, 12432, 88, 29, 23230, 59, 681616, 33057, 391245, 142, 39, 2678471, 12085, 2169, 2352, 32, 6258, 1466, 3503, 12300, 84, 3, 57, 123, 43218, 405487, 208, 146874, 119, 19936, 4370, 877, 2492, 1232, 7, 23060, 3, 2065, 167, 21, 28616, 775293, 2, 4, 1, 162, 4064, 0, 350, 300, 775293, 95586, 20968, 1451, 36985, 118376, 598, 4971, 57556, 273603, 5148, 1159, 8, 18633, 0, 5, 440, 25, 17, 18, 272370, 48, 280485, 5, 1279, 1297, 7496, 312, 533752, 1808951, 7192, 815, 15, 997, 35, 319982, 3, 1236804, 103400, 761, 559474, 92565, 558458, 1308634, 88881, 357388, 236086, 43543, 13, 1908, 23344, 1073, 1101, 38141, 76197, 7838, 55975, 1194, 454520, 3776, 141760, 9402, 72355, 206122, 1063, 3098, 379733, 730, 1032, 362623, 4, 11108, 7, 609, 295, 14, 914, 47, 23344, 3433, 19279, 696, 1, 4, 0, 4797, 515, 11811, 928, 20, 38759, 299, 95, 555, 1449, 1040282, 111, 0, 9, 0, 0, 499, 9, 2629, 3610, 5, 235, 12, 4573, 779769, 353, 36987, 10986, 418, 70538, 936387, 103799, 7795, 8, 22451, 4929, 286, 16944, 4117, 9, 52944, 58135, 36297, 69037, 132140, 659, 1146, 3638, 289931, 84, 779769, 29818, 755389, 16933, 1570, 56211, 357388, 15352, 5227, 427118, 414, 4842, 3606, 554, 14891, 61, 771, 5, 0, 1238, 1, 8024, 24222, 13856, 4084, 744, 984, 48, 3, 2678474, 1, 26, 0, 142, 3968062, 5536, 2056, 103, 1039, 71, 67, 7, 8, 1118, 5, 493847, 132, 266, 328935, 748, 0, 364, 7, 29917, 2, 9, 23, 65762, 0, 5930, 1402754, 3, 2606, 852, 0, 1233, 780, 968415, 1808964, 271, 294011, 27894, 1180, 107, 70, 109, 1158, 690, 2749, 15, 3, 100266, 5264, 13985, 22038, 91, 172, 3835, 1123298, 1515, 694, 3351, 27, 109029, 933, 17076, 123100, 0, 1508, 6711, 17, 4776, 3126, 1162, 4, 4, 1, 2017, 5093, 148, 4, 205, 377, 34, 905, 125, 156793, 36, 3, 489, 1, 1, 726, 1, 42, 1926, 0, 3304, 88, 1301, 0, 12, 459, 2, 1, 365349, 2, 107, 227, 633658, 31]]\n"
     ]
    }
   ],
   "source": [
    "print(book_data)"
   ]
  },
  {
   "cell_type": "code",
   "execution_count": 20,
   "metadata": {
    "collapsed": true
   },
   "outputs": [],
   "source": [
    "def generateGRDataFrame(movie_book_data):\n",
    "    header = ['Title', 'GRRating', 'GRRatingCount']\n",
    "    movie_book_data_dict = defaultdict(list)\n",
    "\n",
    "    for _ in range(len(header)):\n",
    "        movie_book_data_dict[header[_]] = movie_book_data[_]\n",
    "        \n",
    "    movie_book_df = pd.DataFrame(movie_book_data_dict)\n",
    "    movie_book_df = movie_book_df[header]\n",
    "    \n",
    "    return movie_book_df"
   ]
  },
  {
   "cell_type": "code",
   "execution_count": 21,
   "metadata": {
    "collapsed": true
   },
   "outputs": [],
   "source": [
    "def writeGRToCSV(movie_book_data, outfilename):\n",
    "    movie_book_df = generateGRDataFrame(movie_book_data)\n",
    "    \n",
    "    #print(movie_df.head())\n",
    "    \n",
    "    movie_book_df.to_csv(outfilename)"
   ]
  },
  {
   "cell_type": "code",
   "execution_count": 22,
   "metadata": {
    "collapsed": false
   },
   "outputs": [],
   "source": [
    "writeGRToCSV(book_data, 'movie_books_GR_ratings.csv')"
   ]
  },
  {
   "cell_type": "markdown",
   "metadata": {
    "collapsed": true
   },
   "source": [
    "## Pickle movie list"
   ]
  },
  {
   "cell_type": "code",
   "execution_count": 23,
   "metadata": {
    "collapsed": true
   },
   "outputs": [],
   "source": [
    "import pickle"
   ]
  },
  {
   "cell_type": "code",
   "execution_count": 24,
   "metadata": {
    "collapsed": false
   },
   "outputs": [],
   "source": [
    "new_book_data = book_data[0]"
   ]
  },
  {
   "cell_type": "code",
   "execution_count": 26,
   "metadata": {
    "collapsed": false
   },
   "outputs": [],
   "source": [
    "with open('GR_movie_book_list.pkl', 'wb') as picklefile:\n",
    "    pickle.dump(new_book_data, picklefile)"
   ]
  },
  {
   "cell_type": "code",
   "execution_count": null,
   "metadata": {
    "collapsed": true
   },
   "outputs": [],
   "source": []
  }
 ],
 "metadata": {
  "kernelspec": {
   "display_name": "Python 3",
   "language": "python",
   "name": "python3"
  },
  "language_info": {
   "codemirror_mode": {
    "name": "ipython",
    "version": 3
   },
   "file_extension": ".py",
   "mimetype": "text/x-python",
   "name": "python",
   "nbconvert_exporter": "python",
   "pygments_lexer": "ipython3",
   "version": "3.5.1"
  }
 },
 "nbformat": 4,
 "nbformat_minor": 0
}
