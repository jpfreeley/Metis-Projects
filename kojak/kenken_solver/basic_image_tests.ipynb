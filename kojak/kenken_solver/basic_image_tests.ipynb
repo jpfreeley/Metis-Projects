{
 "cells": [
  {
   "cell_type": "code",
   "execution_count": 79,
   "metadata": {
    "collapsed": true
   },
   "outputs": [],
   "source": [
    "from collections import defaultdict\n",
    "from copy import deepcopy\n",
    "\n",
    "import numpy as np\n",
    "import matplotlib as mpl\n",
    "import matplotlib.pyplot as plt\n",
    "from scipy import ndimage as ndi\n",
    "\n",
    "\n",
    "from skimage import feature\n",
    "from skimage.color import rgb2gray\n",
    "from skimage.transform import resize\n",
    "from skimage.morphology import erosion, dilation, rectangle\n",
    "\n",
    "\n",
    "%matplotlib inline\n",
    "\n"
   ]
  },
  {
   "cell_type": "markdown",
   "metadata": {},
   "source": [
    "## Cleaning the image"
   ]
  },
  {
   "cell_type": "markdown",
   "metadata": {},
   "source": [
    "First, lets take a look at a sample image"
   ]
  },
  {
   "cell_type": "code",
   "execution_count": 398,
   "metadata": {
    "collapsed": false
   },
   "outputs": [
    {
     "data": {
      "text/plain": [
       "<matplotlib.image.AxesImage at 0x13388aeb8>"
      ]
     },
     "execution_count": 398,
     "metadata": {},
     "output_type": "execute_result"
    },
    {
     "data": {
      "image/png": "[encoded data removed]",
      "text/plain": [
       "<matplotlib.figure.Figure at 0x1337879b0>"
      ]
     },
     "metadata": {},
     "output_type": "display_data"
    }
   ],
   "source": [
    "sample4x4_orig = ndi.imread('sample4x4_3.jpg', mode='L')\n",
    "sample4x4 = resize(sample4x4_orig, (200,200))\n",
    "plt.imshow(sample4x4, cmap=mpl.cm.Greys_r)"
   ]
  },
  {
   "cell_type": "markdown",
   "metadata": {},
   "source": [
    "First find the corners and crop the image to these corners, then resize"
   ]
  },
  {
   "cell_type": "markdown",
   "metadata": {},
   "source": [
    "binarize image"
   ]
  },
  {
   "cell_type": "code",
   "execution_count": 399,
   "metadata": {
    "collapsed": true
   },
   "outputs": [],
   "source": [
    "def binarize(matrix, threshold=0.3):\n",
    "    temp = deepcopy(matrix)\n",
    "    for m in range(len(temp)):\n",
    "        for n in range(len(temp[m])):\n",
    "            if temp[m][n] < threshold:\n",
    "                temp[m][n] = 0.0\n",
    "            else:\n",
    "                temp[m][n] = 1.0\n",
    "                \n",
    "    return temp"
   ]
  },
  {
   "cell_type": "code",
   "execution_count": 400,
   "metadata": {
    "collapsed": false,
    "scrolled": true
   },
   "outputs": [
    {
     "data": {
      "text/plain": [
       "<matplotlib.image.AxesImage at 0x133b1b4a8>"
      ]
     },
     "execution_count": 400,
     "metadata": {},
     "output_type": "execute_result"
    },
    {
     "data": {
      "image/png": "[encoded data removed]",
      "text/plain": [
       "<matplotlib.figure.Figure at 0x133787908>"
      ]
     },
     "metadata": {},
     "output_type": "display_data"
    }
   ],
   "source": [
    "binar = deepcopy(sample4x4)\n",
    "\n",
    "binar = binarize(binar)\n",
    "plt.imshow(binar, cmap=mpl.cm.Greys_r)"
   ]
  },
  {
   "cell_type": "code",
   "execution_count": 401,
   "metadata": {
    "collapsed": false
   },
   "outputs": [
    {
     "data": {
      "text/plain": [
       "array([[ 1.,  1.,  1.,  1.,  1.,  1.],\n",
       "       [ 1.,  1.,  1.,  1.,  1.,  1.],\n",
       "       [ 1.,  1.,  1.,  1.,  1.,  1.],\n",
       "       [ 1.,  1.,  0.,  0.,  0.,  0.],\n",
       "       [ 1.,  1.,  0.,  0.,  0.,  0.],\n",
       "       [ 1.,  1.,  0.,  1.,  1.,  1.]])"
      ]
     },
     "execution_count": 401,
     "metadata": {},
     "output_type": "execute_result"
    }
   ],
   "source": [
    "binar[:6,:6]"
   ]
  },
  {
   "cell_type": "code",
   "execution_count": 402,
   "metadata": {
    "collapsed": false,
    "scrolled": true
   },
   "outputs": [
    {
     "data": {
      "text/plain": [
       "array([[ 1.,  1.,  1.,  0.,  0.,  1.,  1.],\n",
       "       [ 1.,  1.,  1.,  0.,  0.,  1.,  1.],\n",
       "       [ 1.,  1.,  1.,  0.,  0.,  1.,  1.],\n",
       "       [ 1.,  1.,  1.,  0.,  0.,  1.,  1.],\n",
       "       [ 0.,  0.,  0.,  0.,  0.,  1.,  1.],\n",
       "       [ 1.,  1.,  1.,  1.,  1.,  1.,  1.],\n",
       "       [ 1.,  1.,  1.,  1.,  1.,  1.,  1.]])"
      ]
     },
     "execution_count": 402,
     "metadata": {},
     "output_type": "execute_result"
    }
   ],
   "source": [
    "binar[193:,193:]"
   ]
  },
  {
   "cell_type": "code",
   "execution_count": 403,
   "metadata": {
    "collapsed": false
   },
   "outputs": [],
   "source": [
    "# up left\n",
    "cond = False\n",
    "for m in range(7):\n",
    "    for n in range(7):\n",
    "        if binar[m][n] == 0:\n",
    "            up_left = [m,n]\n",
    "            cond = True\n",
    "            break\n",
    "    if cond==True:\n",
    "        break\n",
    "        \n",
    "# low right\n",
    "cond = False\n",
    "for m in range(199,192,-1):\n",
    "    for n in range(199,192,-1):\n",
    "        #print(m,n, binar[m][n])\n",
    "        if binar[m][n] == 0:\n",
    "            low_right = [m,n]\n",
    "            cond = True\n",
    "            break\n",
    "    if cond==True:\n",
    "        break"
   ]
  },
  {
   "cell_type": "markdown",
   "metadata": {},
   "source": [
    "Bounds below are the black border"
   ]
  },
  {
   "cell_type": "code",
   "execution_count": 404,
   "metadata": {
    "collapsed": false
   },
   "outputs": [
    {
     "data": {
      "text/plain": [
       "array([[ 0.,  0.,  0., ...,  0.,  0.,  0.],\n",
       "       [ 0.,  0.,  0., ...,  0.,  0.,  0.],\n",
       "       [ 0.,  1.,  1., ...,  1.,  0.,  0.],\n",
       "       ..., \n",
       "       [ 0.,  1.,  1., ...,  1.,  0.,  0.],\n",
       "       [ 0.,  0.,  1., ...,  1.,  0.,  0.],\n",
       "       [ 0.,  0.,  0., ...,  0.,  0.,  0.]])"
      ]
     },
     "execution_count": 404,
     "metadata": {},
     "output_type": "execute_result"
    }
   ],
   "source": [
    "binar[3:198,2:198]"
   ]
  },
  {
   "cell_type": "markdown",
   "metadata": {},
   "source": [
    "Crop sample(unbinarized) > resize to 200x200 > binarize"
   ]
  },
  {
   "cell_type": "code",
   "execution_count": 426,
   "metadata": {
    "collapsed": false
   },
   "outputs": [
    {
     "data": {
      "text/plain": [
       "<matplotlib.image.AxesImage at 0x135b1d7b8>"
      ]
     },
     "execution_count": 426,
     "metadata": {},
     "output_type": "execute_result"
    },
    {
     "data": {
      "image/png": "[encoded data removed]",
      "text/plain": [
       "<matplotlib.figure.Figure at 0x136af3208>"
      ]
     },
     "metadata": {},
     "output_type": "display_data"
    }
   ],
   "source": [
    "sample4x4_crop = resize(sample4x4[up_left[0]:low_right[0]+1,up_left[1]:low_right[1]+1], (200,200))\n",
    "binar = binarize(sample4x4_crop)\n",
    "plt.imshow(binar, cmap=mpl.cm.Greys_r)"
   ]
  },
  {
   "cell_type": "markdown",
   "metadata": {},
   "source": [
    "Next do some [Morphological filtering](http://scikit-image.org/docs/dev/auto_examples/applications/plot_morphology.html)"
   ]
  },
  {
   "cell_type": "code",
   "execution_count": 419,
   "metadata": {
    "collapsed": false,
    "scrolled": true
   },
   "outputs": [
    {
     "data": {
      "text/plain": [
       "<matplotlib.image.AxesImage at 0x13656ea58>"
      ]
     },
     "execution_count": 419,
     "metadata": {},
     "output_type": "execute_result"
    },
    {
     "data": {
      "image/png": "[encoded data removed]",
      "text/plain": [
       "<matplotlib.figure.Figure at 0x135ee1a58>"
      ]
     },
     "metadata": {},
     "output_type": "display_data"
    }
   ],
   "source": [
    "selem = rectangle(2,2)\n",
    "dil = dilation(binar, selem)\n",
    "#dil = erosion(dil)\n",
    "plt.imshow(dil, cmap=mpl.cm.Greys_r)"
   ]
  },
  {
   "cell_type": "code",
   "execution_count": 420,
   "metadata": {
    "collapsed": false
   },
   "outputs": [
    {
     "data": {
      "text/plain": [
       "array([ 1.,  1.,  1.,  1.,  1.,  1.,  1.,  1.,  1.,  1.,  1.,  1.,  1.,\n",
       "        1.,  1.,  1.,  1.,  1.,  1.,  1.])"
      ]
     },
     "execution_count": 420,
     "metadata": {},
     "output_type": "execute_result"
    }
   ],
   "source": [
    "dil[25,140:160]"
   ]
  },
  {
   "cell_type": "markdown",
   "metadata": {},
   "source": [
    "There maybe some greying so binarize again:"
   ]
  },
  {
   "cell_type": "code",
   "execution_count": 421,
   "metadata": {
    "collapsed": false
   },
   "outputs": [
    {
     "data": {
      "text/plain": [
       "<matplotlib.image.AxesImage at 0x13676c828>"
      ]
     },
     "execution_count": 421,
     "metadata": {},
     "output_type": "execute_result"
    },
    {
     "data": {
      "image/png": "[encoded data removed]",
      "text/plain": [
       "<matplotlib.figure.Figure at 0x13657aac8>"
      ]
     },
     "metadata": {},
     "output_type": "display_data"
    }
   ],
   "source": [
    "dil = binarize(dil)\n",
    "plt.imshow(dil, cmap=mpl.cm.Greys_r)"
   ]
  },
  {
   "cell_type": "markdown",
   "metadata": {},
   "source": [
    "Looks good but we need two things:\n",
    "\n",
    "1. Clear the corners to get a clean image to find clusters\n",
    "2. Add the corner numbers back to get the final image to machine learn on"
   ]
  },
  {
   "cell_type": "code",
   "execution_count": 422,
   "metadata": {
    "collapsed": false
   },
   "outputs": [
    {
     "data": {
      "text/plain": [
       "<matplotlib.image.AxesImage at 0x1369742b0>"
      ]
     },
     "execution_count": 422,
     "metadata": {},
     "output_type": "execute_result"
    },
    {
     "data": {
      "image/png": "[encoded data removed]",
      "text/plain": [
       "<matplotlib.figure.Figure at 0x136678630>"
      ]
     },
     "metadata": {},
     "output_type": "display_data"
    }
   ],
   "source": [
    "cluster_image = deepcopy(dil)\n",
    "\n",
    "for i in range(4):\n",
    "    for j in range(4):\n",
    "        cluster_image[i*50+5:i*50+40,j*50+3:j*50+38] = np.zeros((35,35))+1\n",
    "        \n",
    "plt.imshow(cluster_image, cmap=mpl.cm.Greys_r)"
   ]
  },
  {
   "cell_type": "code",
   "execution_count": 423,
   "metadata": {
    "collapsed": false,
    "scrolled": false
   },
   "outputs": [
    {
     "data": {
      "text/plain": [
       "<matplotlib.image.AxesImage at 0x136abc5f8>"
      ]
     },
     "execution_count": 423,
     "metadata": {},
     "output_type": "execute_result"
    },
    {
     "data": {
      "image/png": "[encoded data removed]",
      "text/plain": [
       "<matplotlib.figure.Figure at 0x13667f240>"
      ]
     },
     "metadata": {},
     "output_type": "display_data"
    }
   ],
   "source": [
    "plt.imshow(sample4x4_crop[3:29,3:39], cmap=mpl.cm.Greys_r)"
   ]
  },
  {
   "cell_type": "markdown",
   "metadata": {},
   "source": [
    "I will add the above corner back into the image and repeat for all corners. I don't like using the adding the original unbinarized numbers, but it is difficult to consistently binarize them"
   ]
  },
  {
   "cell_type": "code",
   "execution_count": 425,
   "metadata": {
    "collapsed": false,
    "scrolled": true
   },
   "outputs": [
    {
     "data": {
      "text/plain": [
       "<matplotlib.image.AxesImage at 0x136f052e8>"
      ]
     },
     "execution_count": 425,
     "metadata": {},
     "output_type": "execute_result"
    },
    {
     "data": {
      "image/png": "[encoded data removed]",
      "text/plain": [
       "<matplotlib.figure.Figure at 0x136a7b0f0>"
      ]
     },
     "metadata": {},
     "output_type": "display_data"
    }
   ],
   "source": [
    "final = deepcopy(dil)\n",
    "\n",
    "for i in range(4):\n",
    "    for j in range(4):\n",
    "        final[i*50+3:i*50+25,j*50+3:j*50+40] = sample4x4_crop[i*50+3:i*50+25,j*50+3:j*50+40]\n",
    "        \n",
    "plt.imshow(final, cmap=mpl.cm.Greys_r)"
   ]
  },
  {
   "cell_type": "markdown",
   "metadata": {},
   "source": [
    "Awesome, Now I need to label the clusters"
   ]
  },
  {
   "cell_type": "markdown",
   "metadata": {},
   "source": [
    "## Clustering the boxes"
   ]
  },
  {
   "cell_type": "markdown",
   "metadata": {},
   "source": [
    "Get a clean spot in each box to travel through the middle between boxes."
   ]
  },
  {
   "cell_type": "code",
   "execution_count": 428,
   "metadata": {
    "collapsed": false
   },
   "outputs": [
    {
     "data": {
      "text/plain": [
       "[[[25, 25], [25, 75], [25, 125], [25, 175]],\n",
       " [[75, 25], [75, 75], [75, 125], [75, 175]],\n",
       " [[125, 25], [125, 75], [125, 125], [125, 175]],\n",
       " [[175, 25], [175, 75], [175, 125], [175, 175]]]"
      ]
     },
     "execution_count": 428,
     "metadata": {},
     "output_type": "execute_result"
    }
   ],
   "source": [
    "centroids = [[[25+50*i,25+50*j] for j in range(0,4)] for i in range(0,4)]\n",
    "centroids"
   ]
  },
  {
   "cell_type": "code",
   "execution_count": 588,
   "metadata": {
    "collapsed": false
   },
   "outputs": [],
   "source": [
    "#this is for linking the above image locations to locations in the eventual cluster indices\n",
    "cluster_loc_dict = defaultdict(list)\n",
    "\n",
    "for m in range(len(centroids)):\n",
    "    for n in range(len(centroids[m])):\n",
    "        cluster_loc_dict[tuple(centroids[m][n])] = (m,n)"
   ]
  },
  {
   "cell_type": "code",
   "execution_count": 589,
   "metadata": {
    "collapsed": false
   },
   "outputs": [
    {
     "data": {
      "text/plain": [
       "defaultdict(list,\n",
       "            {(25, 25): (0, 0),\n",
       "             (25, 75): (0, 1),\n",
       "             (25, 125): (0, 2),\n",
       "             (25, 175): (0, 3),\n",
       "             (75, 25): (1, 0),\n",
       "             (75, 75): (1, 1),\n",
       "             (75, 125): (1, 2),\n",
       "             (75, 175): (1, 3),\n",
       "             (125, 25): (2, 0),\n",
       "             (125, 75): (2, 1),\n",
       "             (125, 125): (2, 2),\n",
       "             (125, 175): (2, 3),\n",
       "             (175, 25): (3, 0),\n",
       "             (175, 75): (3, 1),\n",
       "             (175, 125): (3, 2),\n",
       "             (175, 175): (3, 3)})"
      ]
     },
     "execution_count": 589,
     "metadata": {},
     "output_type": "execute_result"
    }
   ],
   "source": [
    "cluster_loc_dict"
   ]
  },
  {
   "cell_type": "markdown",
   "metadata": {},
   "source": [
    "Label dict will be used for storing the labels of each cluster. For example \n",
    "\n",
    "{\n",
    "\n",
    " [0,0] : 1,\n",
    "\n",
    " [0,1] : 1,\n",
    "\n",
    " [0,2] : 2,\n",
    "\n",
    ".\n",
    "\n",
    ".\n",
    "\n",
    ".\n",
    "\n",
    "}"
   ]
  },
  {
   "cell_type": "code",
   "execution_count": 468,
   "metadata": {
    "collapsed": false
   },
   "outputs": [],
   "source": [
    "label_dict = {tuple(v):0 for _,v in cluster_loc_dict.items()}"
   ]
  },
  {
   "cell_type": "code",
   "execution_count": 469,
   "metadata": {
    "collapsed": false
   },
   "outputs": [
    {
     "data": {
      "text/plain": [
       "{(0, 0): 0,\n",
       " (0, 1): 0,\n",
       " (0, 2): 0,\n",
       " (0, 3): 0,\n",
       " (1, 0): 0,\n",
       " (1, 1): 0,\n",
       " (1, 2): 0,\n",
       " (1, 3): 0,\n",
       " (2, 0): 0,\n",
       " (2, 1): 0,\n",
       " (2, 2): 0,\n",
       " (2, 3): 0,\n",
       " (3, 0): 0,\n",
       " (3, 1): 0,\n",
       " (3, 2): 0,\n",
       " (3, 3): 0}"
      ]
     },
     "execution_count": 469,
     "metadata": {},
     "output_type": "execute_result"
    }
   ],
   "source": [
    "label_dict"
   ]
  },
  {
   "cell_type": "markdown",
   "metadata": {},
   "source": [
    "Get all neighboring pairs even duplicates"
   ]
  },
  {
   "cell_type": "code",
   "execution_count": 590,
   "metadata": {
    "collapsed": false
   },
   "outputs": [
    {
     "name": "stdout",
     "output_type": "stream",
     "text": [
      "[[[25, 25], [25, 75]], [[25, 25], [75, 25]], [[25, 75], [25, 125]], [[25, 75], [75, 75]], [[25, 75], [25, 25]], [[25, 125], [25, 175]], [[25, 125], [75, 125]], [[25, 125], [25, 75]], [[25, 175], [75, 175]], [[25, 175], [25, 125]], [[75, 25], [75, 75]], [[75, 25], [125, 25]], [[75, 25], [25, 25]], [[75, 75], [75, 125]], [[75, 75], [125, 75]], [[75, 75], [25, 75]], [[75, 75], [75, 25]], [[75, 125], [75, 175]], [[75, 125], [125, 125]], [[75, 125], [25, 125]], [[75, 125], [75, 75]], [[75, 175], [125, 175]], [[75, 175], [25, 175]], [[75, 175], [75, 125]], [[125, 25], [125, 75]], [[125, 25], [175, 25]], [[125, 25], [75, 25]], [[125, 75], [125, 125]], [[125, 75], [175, 75]], [[125, 75], [75, 75]], [[125, 75], [125, 25]], [[125, 125], [125, 175]], [[125, 125], [175, 125]], [[125, 125], [75, 125]], [[125, 125], [125, 75]], [[125, 175], [175, 175]], [[125, 175], [75, 175]], [[125, 175], [125, 125]], [[175, 25], [175, 75]], [[175, 25], [125, 25]], [[175, 75], [175, 125]], [[175, 75], [125, 75]], [[175, 75], [175, 25]], [[175, 125], [175, 175]], [[175, 125], [125, 125]], [[175, 125], [175, 75]], [[175, 175], [125, 175]], [[175, 175], [175, 125]]]\n"
     ]
    }
   ],
   "source": [
    "neighbor_pairs = []\n",
    "\n",
    "for m in range(len(centroids)):\n",
    "    for n in range(len(centroids[m])):\n",
    "        #skip right edge\n",
    "        if n < (len(centroids[m])-1):\n",
    "            neighbor_pairs.append([centroids[m][n], centroids[m][n+1]])\n",
    "        #skip bottom edge\n",
    "        if m < (len(centroids)-1):\n",
    "            neighbor_pairs.append([centroids[m][n], centroids[m+1][n]])\n",
    "        #skip top edge\n",
    "        if m > 0:\n",
    "            neighbor_pairs.append([centroids[m][n], centroids[m-1][n]])\n",
    "        #skip left edge\n",
    "        if n > 0:\n",
    "            neighbor_pairs.append([centroids[m][n], centroids[m][n-1]])       \n",
    "            \n",
    "print(neighbor_pairs)"
   ]
  },
  {
   "cell_type": "code",
   "execution_count": 591,
   "metadata": {
    "collapsed": false,
    "scrolled": true
   },
   "outputs": [
    {
     "data": {
      "text/plain": [
       "[[25, 25], [25, 75]]"
      ]
     },
     "execution_count": 591,
     "metadata": {},
     "output_type": "execute_result"
    }
   ],
   "source": [
    "neighbor_pairs[0]"
   ]
  },
  {
   "cell_type": "code",
   "execution_count": 592,
   "metadata": {
    "collapsed": true
   },
   "outputs": [],
   "source": [
    "neighbors_dict = defaultdict(list)\n",
    "\n",
    "for link in neighbor_pairs:\n",
    "    neighbors_dict[tuple(link[0])].append(link[1])"
   ]
  },
  {
   "cell_type": "markdown",
   "metadata": {},
   "source": [
    "This will allow me to cycle through the neighbors of each box"
   ]
  },
  {
   "cell_type": "code",
   "execution_count": 593,
   "metadata": {
    "collapsed": false
   },
   "outputs": [
    {
     "data": {
      "text/plain": [
       "defaultdict(list,\n",
       "            {(25, 25): [[25, 75], [75, 25]],\n",
       "             (25, 75): [[25, 125], [75, 75], [25, 25]],\n",
       "             (25, 125): [[25, 175], [75, 125], [25, 75]],\n",
       "             (25, 175): [[75, 175], [25, 125]],\n",
       "             (75, 25): [[75, 75], [125, 25], [25, 25]],\n",
       "             (75, 75): [[75, 125], [125, 75], [25, 75], [75, 25]],\n",
       "             (75, 125): [[75, 175], [125, 125], [25, 125], [75, 75]],\n",
       "             (75, 175): [[125, 175], [25, 175], [75, 125]],\n",
       "             (125, 25): [[125, 75], [175, 25], [75, 25]],\n",
       "             (125, 75): [[125, 125], [175, 75], [75, 75], [125, 25]],\n",
       "             (125, 125): [[125, 175], [175, 125], [75, 125], [125, 75]],\n",
       "             (125, 175): [[175, 175], [75, 175], [125, 125]],\n",
       "             (175, 25): [[175, 75], [125, 25]],\n",
       "             (175, 75): [[175, 125], [125, 75], [175, 25]],\n",
       "             (175, 125): [[175, 175], [125, 125], [175, 75]],\n",
       "             (175, 175): [[125, 175], [175, 125]]})"
      ]
     },
     "execution_count": 593,
     "metadata": {},
     "output_type": "execute_result"
    }
   ],
   "source": [
    "neighbors_dict"
   ]
  },
  {
   "cell_type": "markdown",
   "metadata": {},
   "source": [
    "How this will work:\n",
    "    * Start in the top left corner. Label it.\n",
    "    * try walking right. If blocked, try another direction. If not, move to that box, label it the same. "
   ]
  },
  {
   "cell_type": "code",
   "execution_count": 594,
   "metadata": {
    "collapsed": false
   },
   "outputs": [],
   "source": [
    "class cluster_grouper(object):\n",
    "    \n",
    "    def __init__ (self, image):\n",
    "        self.image_arr = image\n",
    "        # unique_label is the current # of unique labels used\n",
    "        self.unique_label = 1\n",
    "\n",
    "        # labeled_boxes keeps track of the boxes that have already been labeled\n",
    "        self.labeled_boxes = []\n",
    "\n",
    "        # create label_dict to store each boxes location\n",
    "        self.label_dict = {tuple(v):0 for _,v in cluster_loc_dict.items()}\n",
    "                \n",
    "    \n",
    "        \n",
    "    def check_neighbors(self, box_to_check, path=[]):\n",
    "    #if neighbor is unlabeled and connected, \n",
    "    #step to that one, \n",
    "    #append current cell to path, \n",
    "    #call check neighbors\n",
    "        #check neighbors to see if any paths are blocked append T/F to if path blocked\n",
    "        if box_to_check not in path:\n",
    "            path.append(box_to_check)\n",
    "        \n",
    "        for neighbor in neighbors_dict[box_to_check]:\n",
    "            # print(neighbor)\n",
    "            # skip a neighbor that you've come from\n",
    "            if tuple(neighbor) not in path:\n",
    "                top = box_to_check[0]\n",
    "                bottom = neighbor[0]\n",
    "                left = box_to_check[1]\n",
    "                right = neighbor[1]\n",
    "                \n",
    "                # need to check if top/bottom or left/right are same value, need to add 1\n",
    "                if top == bottom:\n",
    "                    bottom +=1\n",
    "                if left == right:\n",
    "                    right +=1\n",
    "                    \n",
    "                # also swap top/bottom or left/right if matching upwards or leftwards\n",
    "                if right < left:\n",
    "                    left,right = right,left\n",
    "                if top > bottom:\n",
    "                    top,bottom = bottom,top\n",
    "                \n",
    "                # if there is a black pixel in path, skip\n",
    "                if 0 in self.image_arr[top:bottom,left:right].flatten():\n",
    "                    continue\n",
    "                # else check the neighbor and extend path of result recursively\n",
    "                else:\n",
    "                    path.extend(self.check_neighbors(tuple(neighbor), path))\n",
    "                    path = list(set(path))\n",
    "                               \n",
    "        return path\n",
    "    \n",
    "    def execute(self):\n",
    "        for box in sorted(neighbors_dict.keys(), key=lambda x: x):\n",
    "            #only clusters that haven't been labeled should appear not labeled,\n",
    "            #once an unlabeled cluster is found, all boxes in that cluster should be labeled\n",
    "            print('choosing ',box)\n",
    "            print('currently labeled ',self.labeled_boxes)\n",
    "            if box not in self.labeled_boxes:\n",
    "                #print(box)\n",
    "                connected_path = self.check_neighbors(box, path=[])\n",
    "                #get only unique boxes\n",
    "                print('path found : ', connected_path)\n",
    "                connected_path = set(connected_path)\n",
    "                #assign each box in the path a label\n",
    "                for connected_box in connected_path:\n",
    "                    self.label_dict[cluster_loc_dict[connected_box]] = self.unique_label\n",
    "                    self.labeled_boxes.append(tuple(connected_box))\n",
    "                #increment the label\n",
    "                print('assigning label : ',self.unique_label, '\\n')\n",
    "                self.unique_label += 1\n",
    "            else:\n",
    "                print('its already in the set')\n",
    "            \n",
    "            self.labeled_boxes = list(set(self.labeled_boxes))\n",
    "        return self.label_dict\n",
    "                    \n",
    "                    \n",
    "        \n",
    "        \n",
    "                    \n",
    "    \n",
    "    \n",
    "                \n",
    "        "
   ]
  },
  {
   "cell_type": "code",
   "execution_count": 595,
   "metadata": {
    "collapsed": false,
    "scrolled": false
   },
   "outputs": [
    {
     "name": "stdout",
     "output_type": "stream",
     "text": [
      "choosing  (25, 25)\n",
      "currently labeled  []\n",
      "path found :  [(25, 75), (25, 25)]\n",
      "assigning label :  1 \n",
      "\n",
      "choosing  (25, 75)\n",
      "currently labeled  [(25, 75), (25, 25)]\n",
      "its already in the set\n",
      "choosing  (25, 125)\n",
      "currently labeled  [(25, 75), (25, 25)]\n",
      "path found :  [(25, 125), (75, 175), (25, 175)]\n",
      "assigning label :  2 \n",
      "\n",
      "choosing  (25, 175)\n",
      "currently labeled  [(25, 125), (25, 75), (75, 175), (25, 25), (25, 175)]\n",
      "its already in the set\n",
      "choosing  (75, 25)\n",
      "currently labeled  [(25, 125), (25, 75), (75, 175), (25, 25), (25, 175)]\n",
      "path found :  [(125, 25), (75, 25)]\n",
      "assigning label :  3 \n",
      "\n",
      "choosing  (75, 75)\n",
      "currently labeled  [(25, 125), (25, 75), (75, 175), (25, 25), (25, 175), (125, 25), (75, 25)]\n",
      "path found :  [(75, 75), (125, 75)]\n",
      "assigning label :  4 \n",
      "\n",
      "choosing  (75, 125)\n",
      "currently labeled  [(25, 125), (25, 75), (75, 175), (75, 75), (25, 25), (125, 75), (25, 175), (125, 25), (75, 25)]\n",
      "path found :  [(175, 125), (125, 125), (75, 125)]\n",
      "assigning label :  5 \n",
      "\n",
      "choosing  (75, 175)\n",
      "currently labeled  [(25, 125), (25, 75), (75, 75), (125, 125), (25, 25), (125, 75), (75, 125), (125, 25), (175, 125), (25, 175), (75, 175), (75, 25)]\n",
      "its already in the set\n",
      "choosing  (125, 25)\n",
      "currently labeled  [(25, 125), (25, 75), (75, 175), (75, 75), (125, 125), (25, 25), (125, 75), (75, 125), (175, 125), (25, 175), (125, 25), (75, 25)]\n",
      "its already in the set\n",
      "choosing  (125, 75)\n",
      "currently labeled  [(25, 125), (25, 75), (75, 75), (125, 125), (25, 25), (125, 75), (75, 125), (175, 125), (125, 25), (25, 175), (75, 175), (75, 25)]\n",
      "its already in the set\n",
      "choosing  (125, 125)\n",
      "currently labeled  [(25, 125), (25, 75), (75, 175), (75, 75), (125, 125), (25, 25), (125, 75), (75, 125), (175, 125), (25, 175), (125, 25), (75, 25)]\n",
      "its already in the set\n",
      "choosing  (125, 175)\n",
      "currently labeled  [(25, 125), (25, 75), (75, 75), (125, 125), (25, 25), (125, 75), (75, 125), (175, 125), (125, 25), (25, 175), (75, 175), (75, 25)]\n",
      "path found :  [(125, 175), (175, 175)]\n",
      "assigning label :  6 \n",
      "\n",
      "choosing  (175, 25)\n",
      "currently labeled  [(25, 125), (125, 175), (25, 75), (75, 175), (75, 75), (125, 125), (25, 25), (125, 75), (75, 125), (175, 125), (25, 175), (125, 25), (75, 25), (175, 175)]\n",
      "path found :  [(175, 75), (175, 25)]\n",
      "assigning label :  7 \n",
      "\n",
      "choosing  (175, 75)\n",
      "currently labeled  [(25, 125), (25, 75), (75, 75), (125, 125), (175, 25), (25, 25), (125, 75), (75, 125), (75, 25), (175, 75), (175, 125), (125, 25), (25, 175), (75, 175), (125, 175), (175, 175)]\n",
      "its already in the set\n",
      "choosing  (175, 125)\n",
      "currently labeled  [(25, 125), (125, 175), (25, 75), (75, 175), (75, 75), (125, 125), (175, 25), (25, 25), (125, 75), (75, 125), (175, 75), (175, 125), (25, 175), (125, 25), (75, 25), (175, 175)]\n",
      "its already in the set\n",
      "choosing  (175, 175)\n",
      "currently labeled  [(25, 125), (25, 75), (75, 75), (125, 125), (175, 25), (25, 25), (125, 75), (75, 125), (175, 75), (75, 25), (175, 125), (125, 25), (25, 175), (75, 175), (125, 175), (175, 175)]\n",
      "its already in the set\n"
     ]
    }
   ],
   "source": [
    "new_dict = cluster_grouper(cluster_image).execute()"
   ]
  },
  {
   "cell_type": "code",
   "execution_count": 596,
   "metadata": {
    "collapsed": false
   },
   "outputs": [
    {
     "data": {
      "text/plain": [
       "{(0, 0): 1,\n",
       " (0, 1): 1,\n",
       " (0, 2): 2,\n",
       " (0, 3): 2,\n",
       " (1, 0): 3,\n",
       " (1, 1): 4,\n",
       " (1, 2): 5,\n",
       " (1, 3): 2,\n",
       " (2, 0): 3,\n",
       " (2, 1): 4,\n",
       " (2, 2): 5,\n",
       " (2, 3): 6,\n",
       " (3, 0): 7,\n",
       " (3, 1): 7,\n",
       " (3, 2): 5,\n",
       " (3, 3): 6}"
      ]
     },
     "execution_count": 596,
     "metadata": {},
     "output_type": "execute_result"
    }
   ],
   "source": [
    "new_dict"
   ]
  },
  {
   "cell_type": "code",
   "execution_count": 598,
   "metadata": {
    "collapsed": true
   },
   "outputs": [],
   "source": [
    "cluster = np.zeros((4,4))"
   ]
  },
  {
   "cell_type": "code",
   "execution_count": 601,
   "metadata": {
    "collapsed": false
   },
   "outputs": [],
   "source": [
    "for k,v in new_dict.items():\n",
    "    cluster[k[0],k[1]] = v"
   ]
  },
  {
   "cell_type": "code",
   "execution_count": 602,
   "metadata": {
    "collapsed": false
   },
   "outputs": [
    {
     "data": {
      "text/plain": [
       "array([[ 1.,  1.,  2.,  2.],\n",
       "       [ 3.,  4.,  5.,  2.],\n",
       "       [ 3.,  4.,  5.,  6.],\n",
       "       [ 7.,  7.,  5.,  6.]])"
      ]
     },
     "execution_count": 602,
     "metadata": {},
     "output_type": "execute_result"
    }
   ],
   "source": [
    "cluster"
   ]
  },
  {
   "cell_type": "code",
   "execution_count": null,
   "metadata": {
    "collapsed": true
   },
   "outputs": [],
   "source": []
  }
 ],
 "metadata": {
  "kernelspec": {
   "display_name": "py35tensor",
   "language": "python",
   "name": "py35tensor"
  },
  "language_info": {
   "codemirror_mode": {
    "name": "ipython",
    "version": 3
   },
   "file_extension": ".py",
   "mimetype": "text/x-python",
   "name": "python",
   "nbconvert_exporter": "python",
   "pygments_lexer": "ipython3",
   "version": "3.5.1"
  }
 },
 "nbformat": 4,
 "nbformat_minor": 0
}
