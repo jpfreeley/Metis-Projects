{
 "cells": [
  {
   "cell_type": "markdown",
   "metadata": {},
   "source": [
    "# This will scrape GoodReads using their API and BS4 "
   ]
  },
  {
   "cell_type": "code",
   "execution_count": 2,
   "metadata": {
    "collapsed": false
   },
   "outputs": [
    {
     "ename": "ImportError",
     "evalue": "cannot import name 'scrapeSearchMultiPages'",
     "output_type": "error",
     "traceback": [
      "\u001b[0;31m---------------------------------------------------------------------------\u001b[0m",
      "\u001b[0;31mImportError\u001b[0m                               Traceback (most recent call last)",
      "\u001b[0;32m<ipython-input-2-bcf30abd6614>\u001b[0m in \u001b[0;36m<module>\u001b[0;34m()\u001b[0m\n\u001b[0;32m----> 1\u001b[0;31m \u001b[0;32mfrom\u001b[0m \u001b[0mGRRatingScraper\u001b[0m \u001b[0;32mimport\u001b[0m \u001b[0;34m*\u001b[0m\u001b[0;34m\u001b[0m\u001b[0m\n\u001b[0m",
      "\u001b[0;32m/Users/kenn/Learning/ds/metis/projects/luther/ken_m/GRRatingScraper.py\u001b[0m in \u001b[0;36m<module>\u001b[0;34m()\u001b[0m\n\u001b[1;32m      2\u001b[0m \u001b[0;32mfrom\u001b[0m \u001b[0mbs4\u001b[0m \u001b[0;32mimport\u001b[0m \u001b[0mBeautifulSoup\u001b[0m\u001b[0;34m\u001b[0m\u001b[0m\n\u001b[1;32m      3\u001b[0m \u001b[0;32mimport\u001b[0m \u001b[0mtime\u001b[0m\u001b[0;34m\u001b[0m\u001b[0m\n\u001b[0;32m----> 4\u001b[0;31m \u001b[0;32mfrom\u001b[0m \u001b[0mIMDBRatingScraper\u001b[0m \u001b[0;32mimport\u001b[0m \u001b[0mscrapeSearchMultiPages\u001b[0m\u001b[0;34m\u001b[0m\u001b[0m\n\u001b[0m\u001b[1;32m      5\u001b[0m \u001b[0;32mimport\u001b[0m \u001b[0murllib\u001b[0m\u001b[0;34m.\u001b[0m\u001b[0mparse\u001b[0m\u001b[0;34m\u001b[0m\u001b[0m\n\u001b[1;32m      6\u001b[0m \u001b[0;32mfrom\u001b[0m \u001b[0mcollections\u001b[0m \u001b[0;32mimport\u001b[0m \u001b[0mdefaultdict\u001b[0m\u001b[0;34m\u001b[0m\u001b[0m\n",
      "\u001b[0;31mImportError\u001b[0m: cannot import name 'scrapeSearchMultiPages'"
     ]
    }
   ],
   "source": [
    "from GRRatingScraper import *\n"
   ]
  },
  {
   "cell_type": "code",
   "execution_count": 27,
   "metadata": {
    "collapsed": true
   },
   "outputs": [],
   "source": [
    "key = 'OvwVfE5FFyCu0IpiwxWGVQ'"
   ]
  },
  {
   "cell_type": "code",
   "execution_count": 28,
   "metadata": {
    "collapsed": true
   },
   "outputs": [],
   "source": [
    "search_key = 'https://www.goodreads.com/search/index.xml?key=' + key + '&q='"
   ]
  },
  {
   "cell_type": "code",
   "execution_count": 29,
   "metadata": {
    "collapsed": true
   },
   "outputs": [],
   "source": [
    "movies_based_on_books = 'http://www.imdb.com/search/keyword?keywords= \\\n",
    "                         based-on-novel&mode=advanced&page=1&title_type= \\\n",
    "                         movie&ref_=kw_vw_adv&sort=user_rating,desc'"
   ]
  },
  {
   "cell_type": "code",
   "execution_count": 30,
   "metadata": {
    "collapsed": true
   },
   "outputs": [],
   "source": [
    "movies_based_on_books_05_15 = 'http://www.imdb.com/search/keyword?keywords=based-on-book&\\\n",
    "                                pf_rd_m=A2FGELUUNOQJNL&pf_rd_p=2328987022&pf_rd_r=\\\n",
    "                                1B8PBQRZRA1N3R10W1ZK&pf_rd_s=center-1&pf_rd_t=15051&\\\n",
    "                                pf_rd_i=moka&ref_=kw_vw_smp&sort=user_rating,desc&mode=simple&\\\n",
    "                                page=1&title_type=movie&release_date=2005%2C2015'"
   ]
  },
  {
   "cell_type": "code",
   "execution_count": 31,
   "metadata": {
    "collapsed": false
   },
   "outputs": [],
   "source": [
    "def readPage(search_page_url):\n",
    "    response = requests.get(search_page_url)\n",
    "    page = response.text\n",
    "    soup = BeautifulSoup(page, 'xml')\n",
    "  \n",
    "    return soup"
   ]
  },
  {
   "cell_type": "markdown",
   "metadata": {},
   "source": [
    "## Test for getting goodreads data"
   ]
  },
  {
   "cell_type": "code",
   "execution_count": 32,
   "metadata": {
    "collapsed": false
   },
   "outputs": [],
   "source": [
    "page_data = readPage('https://www.goodreads.com/search/index.xml?key=OvwVfE5FFyCu0IpiwxWGVQ&q=Hababam%20Sinifi')"
   ]
  },
  {
   "cell_type": "code",
   "execution_count": 33,
   "metadata": {
    "collapsed": false
   },
   "outputs": [],
   "source": [
    "#print(page_data)"
   ]
  },
  {
   "cell_type": "code",
   "execution_count": 34,
   "metadata": {
    "collapsed": false
   },
   "outputs": [],
   "source": [
    "q = search_key + urllib.parse.quote('Hababam Sinifi')"
   ]
  },
  {
   "cell_type": "markdown",
   "metadata": {},
   "source": [
    "## Get movie book list from IMDB"
   ]
  },
  {
   "cell_type": "code",
   "execution_count": 38,
   "metadata": {
    "collapsed": false
   },
   "outputs": [],
   "source": [
    "movie_book_list = scrapeSearchMultiPages(movies_based_on_books, 10)"
   ]
  },
  {
   "cell_type": "code",
   "execution_count": 39,
   "metadata": {
    "collapsed": false
   },
   "outputs": [],
   "source": [
    "movie_book_list = [movie for movie,_ in movie_book_list]"
   ]
  },
  {
   "cell_type": "code",
   "execution_count": 40,
   "metadata": {
    "collapsed": false,
    "scrolled": true
   },
   "outputs": [
    {
     "name": "stdout",
     "output_type": "stream",
     "text": [
      "['Hababam Sinifi', 'The Godfather', 'National Theatre Live: Frankenstein', 'The Godfather: Part II', 'Hababam Sinifi Sinifta Kaldi']\n"
     ]
    }
   ],
   "source": [
    "print(movie_book_list[:5])"
   ]
  },
  {
   "cell_type": "markdown",
   "metadata": {},
   "source": [
    "## Use the IMDB movie list to get data on the books the movies were based on\n",
    "\n",
    "Takes the top hit and pulls the data from it, if there are no results, nothing is recorded."
   ]
  },
  {
   "cell_type": "code",
   "execution_count": 41,
   "metadata": {
    "collapsed": false
   },
   "outputs": [],
   "source": [
    "def getBookData(movie_book_list, key=key, search_key=search_key):\n",
    "    movie_book_names = []\n",
    "    movie_book_ratings = []\n",
    "    movie_book_ratings_counts = []\n",
    "    \n",
    "    got_books, missed_books = 0, 0\n",
    "\n",
    "    for movie in movie_book_list:\n",
    "        page_data = readPage(search_key + urllib.parse.quote(movie))\n",
    "        total_results = page_data.find('total-results').text\n",
    "        if int(total_results) > 1:\n",
    "            rating = float(page_data.find('average_rating').text)\n",
    "            rating_count = int(page_data.find('ratings_count').text)\n",
    "            \n",
    "            movie_book_names.append(movie)\n",
    "            movie_book_ratings.append(rating)\n",
    "            movie_book_ratings_counts.append(rating_count)\n",
    "            got_books += 1\n",
    "            print('Got {} books'.format(str(got_books)))\n",
    "        else:\n",
    "            missed_books += 1\n",
    "            print('Missed {} books'.format(str(missed_books)))\n",
    "        \n",
    "        time.sleep(1)\n",
    "            \n",
    "    return [movie_book_names, movie_book_ratings, movie_book_ratings_counts]\n",
    "        \n",
    "        "
   ]
  },
  {
   "cell_type": "code",
   "execution_count": 42,
   "metadata": {
    "collapsed": false
   },
   "outputs": [
    {
     "name": "stdout",
     "output_type": "stream",
     "text": [
      "Got 1 books\n",
      "Got 2 books\n",
      "Missed 1 books\n",
      "Got 3 books\n",
      "Missed 2 books\n",
      "Missed 3 books\n",
      "Got 4 books\n",
      "Got 5 books\n",
      "Missed 4 books\n",
      "Got 6 books\n",
      "Missed 5 books\n",
      "Missed 6 books\n",
      "Got 7 books\n",
      "Got 8 books\n",
      "Missed 7 books\n",
      "Got 9 books\n",
      "Missed 8 books\n",
      "Got 10 books\n",
      "Got 11 books\n",
      "Got 12 books\n",
      "Got 13 books\n",
      "Missed 9 books\n",
      "Missed 10 books\n",
      "Got 14 books\n",
      "Got 15 books\n",
      "Missed 11 books\n",
      "Missed 12 books\n",
      "Missed 13 books\n",
      "Missed 14 books\n",
      "Got 16 books\n",
      "Missed 15 books\n",
      "Missed 16 books\n",
      "Missed 17 books\n",
      "Got 17 books\n",
      "Got 18 books\n",
      "Got 19 books\n",
      "Got 20 books\n",
      "Got 21 books\n",
      "Got 22 books\n",
      "Got 23 books\n",
      "Got 24 books\n",
      "Missed 18 books\n",
      "Got 25 books\n",
      "Got 26 books\n",
      "Missed 19 books\n",
      "Got 27 books\n",
      "Got 28 books\n",
      "Missed 20 books\n",
      "Got 29 books\n",
      "Got 30 books\n",
      "Got 31 books\n",
      "Got 32 books\n",
      "Missed 21 books\n",
      "Got 33 books\n",
      "Missed 22 books\n",
      "Missed 23 books\n",
      "Got 34 books\n",
      "Got 35 books\n",
      "Missed 24 books\n",
      "Missed 25 books\n",
      "Got 36 books\n",
      "Got 37 books\n",
      "Got 38 books\n",
      "Got 39 books\n",
      "Got 40 books\n",
      "Got 41 books\n",
      "Got 42 books\n",
      "Got 43 books\n",
      "Got 44 books\n",
      "Got 45 books\n",
      "Got 46 books\n",
      "Got 47 books\n",
      "Got 48 books\n",
      "Missed 26 books\n",
      "Missed 27 books\n",
      "Got 49 books\n",
      "Missed 28 books\n",
      "Got 50 books\n",
      "Missed 29 books\n",
      "Missed 30 books\n",
      "Got 51 books\n",
      "Got 52 books\n",
      "Got 53 books\n",
      "Missed 31 books\n",
      "Missed 32 books\n",
      "Got 54 books\n",
      "Got 55 books\n",
      "Got 56 books\n",
      "Got 57 books\n",
      "Got 58 books\n",
      "Got 59 books\n",
      "Got 60 books\n",
      "Got 61 books\n",
      "Got 62 books\n",
      "Got 63 books\n",
      "Got 64 books\n",
      "Missed 33 books\n",
      "Got 65 books\n",
      "Got 66 books\n",
      "Got 67 books\n",
      "Got 68 books\n",
      "Got 69 books\n",
      "Got 70 books\n",
      "Got 71 books\n",
      "Got 72 books\n",
      "Got 73 books\n",
      "Got 74 books\n",
      "Got 75 books\n",
      "Got 76 books\n",
      "Got 77 books\n",
      "Got 78 books\n",
      "Missed 34 books\n",
      "Missed 35 books\n",
      "Missed 36 books\n",
      "Missed 37 books\n",
      "Missed 38 books\n",
      "Missed 39 books\n",
      "Got 79 books\n",
      "Got 80 books\n",
      "Got 81 books\n",
      "Got 82 books\n",
      "Got 83 books\n",
      "Got 84 books\n",
      "Got 85 books\n",
      "Got 86 books\n",
      "Got 87 books\n",
      "Got 88 books\n",
      "Got 89 books\n",
      "Got 90 books\n",
      "Got 91 books\n",
      "Got 92 books\n",
      "Got 93 books\n",
      "Got 94 books\n",
      "Got 95 books\n",
      "Missed 40 books\n",
      "Got 96 books\n",
      "Got 97 books\n",
      "Got 98 books\n",
      "Got 99 books\n",
      "Got 100 books\n",
      "Got 101 books\n",
      "Got 102 books\n",
      "Got 103 books\n",
      "Got 104 books\n",
      "Got 105 books\n",
      "Got 106 books\n",
      "Got 107 books\n",
      "Got 108 books\n",
      "Missed 41 books\n",
      "Missed 42 books\n",
      "Missed 43 books\n",
      "Missed 44 books\n",
      "Missed 45 books\n",
      "Got 109 books\n",
      "Got 110 books\n",
      "Got 111 books\n",
      "Got 112 books\n",
      "Missed 46 books\n",
      "Got 113 books\n",
      "Missed 47 books\n",
      "Missed 48 books\n",
      "Got 114 books\n",
      "Missed 49 books\n",
      "Missed 50 books\n",
      "Missed 51 books\n",
      "Missed 52 books\n",
      "Missed 53 books\n",
      "Missed 54 books\n",
      "Got 115 books\n",
      "Missed 55 books\n",
      "Missed 56 books\n",
      "Missed 57 books\n",
      "Missed 58 books\n",
      "Missed 59 books\n",
      "Missed 60 books\n",
      "Got 116 books\n",
      "Got 117 books\n",
      "Got 118 books\n",
      "Got 119 books\n",
      "Got 120 books\n",
      "Got 121 books\n",
      "Got 122 books\n",
      "Got 123 books\n",
      "Got 124 books\n",
      "Got 125 books\n",
      "Got 126 books\n",
      "Got 127 books\n",
      "Got 128 books\n",
      "Got 129 books\n",
      "Got 130 books\n",
      "Got 131 books\n",
      "Got 132 books\n",
      "Got 133 books\n",
      "Got 134 books\n",
      "Got 135 books\n",
      "Got 136 books\n",
      "Got 137 books\n",
      "Missed 61 books\n",
      "Got 138 books\n",
      "Got 139 books\n",
      "Got 140 books\n",
      "Got 141 books\n",
      "Got 142 books\n",
      "Got 143 books\n",
      "Got 144 books\n",
      "Got 145 books\n",
      "Got 146 books\n",
      "Got 147 books\n",
      "Got 148 books\n",
      "Got 149 books\n",
      "Got 150 books\n",
      "Got 151 books\n",
      "Got 152 books\n",
      "Got 153 books\n",
      "Got 154 books\n",
      "Got 155 books\n",
      "Got 156 books\n",
      "Got 157 books\n",
      "Got 158 books\n",
      "Got 159 books\n",
      "Got 160 books\n",
      "Got 161 books\n",
      "Missed 62 books\n",
      "Missed 63 books\n",
      "Got 162 books\n",
      "Missed 64 books\n",
      "Missed 65 books\n",
      "Got 163 books\n",
      "Got 164 books\n",
      "Got 165 books\n",
      "Missed 66 books\n",
      "Got 166 books\n",
      "Got 167 books\n",
      "Got 168 books\n",
      "Got 169 books\n",
      "Got 170 books\n",
      "Got 171 books\n",
      "Got 172 books\n",
      "Missed 67 books\n",
      "Got 173 books\n",
      "Got 174 books\n",
      "Missed 68 books\n",
      "Missed 69 books\n",
      "Missed 70 books\n",
      "Missed 71 books\n",
      "Missed 72 books\n",
      "Missed 73 books\n",
      "Got 175 books\n",
      "Got 176 books\n",
      "Got 177 books\n",
      "Missed 74 books\n",
      "Missed 75 books\n",
      "Got 178 books\n",
      "Got 179 books\n",
      "Got 180 books\n",
      "Got 181 books\n",
      "Got 182 books\n",
      "Missed 76 books\n",
      "Missed 77 books\n",
      "Missed 78 books\n",
      "Missed 79 books\n",
      "Missed 80 books\n",
      "Got 183 books\n",
      "Missed 81 books\n",
      "Got 184 books\n",
      "Got 185 books\n",
      "Missed 82 books\n",
      "Missed 83 books\n",
      "Missed 84 books\n",
      "Missed 85 books\n",
      "Got 186 books\n",
      "Got 187 books\n",
      "Missed 86 books\n",
      "Got 188 books\n",
      "Missed 87 books\n",
      "Got 189 books\n",
      "Missed 88 books\n",
      "Missed 89 books\n",
      "Missed 90 books\n",
      "Missed 91 books\n",
      "Missed 92 books\n",
      "Missed 93 books\n",
      "Missed 94 books\n",
      "Missed 95 books\n",
      "Missed 96 books\n",
      "Got 190 books\n",
      "Got 191 books\n",
      "Got 192 books\n",
      "Got 193 books\n",
      "Got 194 books\n",
      "Got 195 books\n",
      "Got 196 books\n",
      "Got 197 books\n",
      "Got 198 books\n",
      "Got 199 books\n",
      "Got 200 books\n",
      "Got 201 books\n",
      "Got 202 books\n",
      "Got 203 books\n",
      "Got 204 books\n",
      "Got 205 books\n",
      "Got 206 books\n",
      "Got 207 books\n",
      "Got 208 books\n",
      "Got 209 books\n",
      "Got 210 books\n",
      "Got 211 books\n",
      "Got 212 books\n",
      "Got 213 books\n",
      "Got 214 books\n",
      "Got 215 books\n",
      "Got 216 books\n",
      "Got 217 books\n",
      "Got 218 books\n",
      "Got 219 books\n",
      "Got 220 books\n",
      "Got 221 books\n",
      "Got 222 books\n",
      "Got 223 books\n",
      "Got 224 books\n",
      "Got 225 books\n",
      "Got 226 books\n",
      "Got 227 books\n",
      "Got 228 books\n",
      "Got 229 books\n",
      "Got 230 books\n",
      "Got 231 books\n",
      "Got 232 books\n",
      "Got 233 books\n",
      "Got 234 books\n",
      "Got 235 books\n",
      "Missed 97 books\n",
      "Got 236 books\n",
      "Got 237 books\n",
      "Got 238 books\n",
      "Got 239 books\n",
      "Got 240 books\n",
      "Got 241 books\n",
      "Got 242 books\n",
      "Got 243 books\n",
      "Got 244 books\n",
      "Missed 98 books\n",
      "Got 245 books\n",
      "Got 246 books\n",
      "Got 247 books\n",
      "Got 248 books\n",
      "Got 249 books\n",
      "Got 250 books\n",
      "Got 251 books\n",
      "Missed 99 books\n",
      "Got 252 books\n",
      "Got 253 books\n",
      "Got 254 books\n",
      "Missed 100 books\n",
      "Got 255 books\n",
      "Got 256 books\n",
      "Missed 101 books\n",
      "Got 257 books\n",
      "Got 258 books\n",
      "Got 259 books\n",
      "Got 260 books\n",
      "Got 261 books\n",
      "Got 262 books\n",
      "Missed 102 books\n",
      "Missed 103 books\n",
      "Missed 104 books\n",
      "Got 263 books\n",
      "Missed 105 books\n",
      "Got 264 books\n",
      "Got 265 books\n",
      "Missed 106 books\n",
      "Got 266 books\n",
      "Missed 107 books\n",
      "Missed 108 books\n",
      "Got 267 books\n",
      "Missed 109 books\n",
      "Missed 110 books\n",
      "Missed 111 books\n",
      "Got 268 books\n",
      "Got 269 books\n",
      "Got 270 books\n",
      "Missed 112 books\n",
      "Missed 113 books\n",
      "Got 271 books\n",
      "Got 272 books\n",
      "Missed 114 books\n",
      "Missed 115 books\n",
      "Missed 116 books\n",
      "Got 273 books\n",
      "Missed 117 books\n",
      "Got 274 books\n",
      "Missed 118 books\n",
      "Missed 119 books\n",
      "Missed 120 books\n",
      "Got 275 books\n",
      "Got 276 books\n",
      "Got 277 books\n",
      "Got 278 books\n",
      "Missed 121 books\n",
      "Missed 122 books\n",
      "Got 279 books\n",
      "Missed 123 books\n",
      "Missed 124 books\n",
      "Missed 125 books\n",
      "Missed 126 books\n",
      "Got 280 books\n",
      "Missed 127 books\n",
      "Got 281 books\n",
      "Missed 128 books\n",
      "Got 282 books\n",
      "Got 283 books\n",
      "Got 284 books\n",
      "Got 285 books\n",
      "Got 286 books\n",
      "Got 287 books\n",
      "Got 288 books\n",
      "Got 289 books\n",
      "Got 290 books\n",
      "Got 291 books\n",
      "Got 292 books\n",
      "Got 293 books\n",
      "Got 294 books\n",
      "Got 295 books\n",
      "Got 296 books\n",
      "Got 297 books\n",
      "Got 298 books\n",
      "Got 299 books\n",
      "Got 300 books\n",
      "Got 301 books\n",
      "Got 302 books\n",
      "Got 303 books\n",
      "Got 304 books\n",
      "Got 305 books\n",
      "Got 306 books\n",
      "Got 307 books\n",
      "Got 308 books\n",
      "Got 309 books\n",
      "Got 310 books\n",
      "Got 311 books\n",
      "Got 312 books\n",
      "Got 313 books\n",
      "Got 314 books\n",
      "Got 315 books\n",
      "Missed 129 books\n",
      "Got 316 books\n",
      "Got 317 books\n",
      "Got 318 books\n",
      "Got 319 books\n",
      "Got 320 books\n",
      "Got 321 books\n",
      "Got 322 books\n",
      "Got 323 books\n",
      "Missed 130 books\n",
      "Got 324 books\n",
      "Got 325 books\n",
      "Got 326 books\n",
      "Got 327 books\n",
      "Got 328 books\n",
      "Missed 131 books\n",
      "Missed 132 books\n",
      "Got 329 books\n",
      "Got 330 books\n",
      "Missed 133 books\n",
      "Got 331 books\n",
      "Got 332 books\n",
      "Got 333 books\n",
      "Got 334 books\n",
      "Got 335 books\n",
      "Got 336 books\n",
      "Got 337 books\n",
      "Got 338 books\n",
      "Got 339 books\n",
      "Got 340 books\n",
      "Got 341 books\n",
      "Missed 134 books\n",
      "Got 342 books\n",
      "Got 343 books\n",
      "Missed 135 books\n",
      "Missed 136 books\n",
      "Got 344 books\n",
      "Got 345 books\n",
      "Got 346 books\n",
      "Got 347 books\n",
      "Missed 137 books\n",
      "Missed 138 books\n",
      "Got 348 books\n",
      "Got 349 books\n",
      "Got 350 books\n",
      "Missed 139 books\n",
      "Missed 140 books\n",
      "Missed 141 books\n",
      "Got 351 books\n",
      "Missed 142 books\n",
      "Got 352 books\n",
      "Got 353 books\n",
      "Got 354 books\n",
      "Got 355 books\n",
      "Got 356 books\n",
      "Missed 143 books\n",
      "Missed 144 books\n"
     ]
    }
   ],
   "source": [
    "book_data = getBookData(movie_book_list)"
   ]
  },
  {
   "cell_type": "code",
   "execution_count": 43,
   "metadata": {
    "collapsed": false
   },
   "outputs": [
    {
     "name": "stdout",
     "output_type": "stream",
     "text": [
      "[['Hababam Sinifi', 'The Godfather', 'The Godfather: Part II', 'Fight Club', 'The Lord of the Rings: The Return of the King', 'Morometii', 'The Lord of the Rings: The Fellowship of the Ring', 'Forrest Gump', 'Selvi boylum, al yazmalim', 'Goodfellas', \"One Flew Over the Cuckoo's Nest\", 'The Lord of the Rings: The Two Towers', 'Harakiri', 'The Silence of the Lambs', \"It's a Wonderful Life\", 'La Celestina', 'The Prestige', 'The Green Mile', 'Psycho', 'Apocalypse Now', 'Dr. Strangelove or: How I Learned to Stop Worrying and Love the Bomb', 'Grave of the Fireflies', 'Paths of Glory', 'Woman in the Dunes', 'Le trou', 'Guide', 'Cel mai iubit dintre pamînteni', 'Brown of Harvard', \"Devil's Bride\", 'Forest of the Hanged', 'The Golden Calf', 'When Knighthood Was in Flower', 'Janice Meredith', 'Hotaru no hikari', 'Anugraham', 'Requiem for a Dream', 'The Shining', 'A Clockwork Orange', 'Once Upon a Time in America', 'To Kill a Mockingbird', 'Vertigo', 'Das Boot', '3 Idiots', 'Indignation', 'Double Indemnity', 'Bicycle Thieves', 'Sunrise', 'High and Low', 'The Little Fox', 'Twelve Chairs', \"Le dernier jour d'un condamné\", 'Clouds at Sunset', 'Beverly of Graustark', 'Amalia', 'The Revenant', 'Room', '2001: A Space Odyssey', 'Scarface', 'Full Metal Jacket', 'L.A. Confidential', 'Raging Bull', 'Metropolis', 'Yojimbo', 'The Treasure of the Sierra Madre', 'Rocco and His Brothers', 'Pather Panchali', 'The Heiress', 'Akahige', 'I Remember Mama', 'Viridiana', 'To Live', 'The Wind', 'Make Way for Tomorrow', 'The Ascent', 'Late Autumn', 'Charulata', 'Sahib Bibi Aur Ghulam', 'Noz', 'Die Hard', 'Blade Runner', 'Trainspotting', 'How to Train Your Dragon', 'Gone with the Wind', 'Casino', 'The Secret in Their Eyes', \"Howl's Moving Castle\", 'The Bridge on the River Kwai', 'The Best Years of Our Lives', 'Cool Hand Luke', 'The Maltese Falcon', 'Rebecca', 'Stalker', 'Paper Moon', 'The Wages of Fear', 'The Thin Man', 'Kind Hearts and Coronets', 'Sweet Smell of Success', 'Raise the Red Lantern', 'Sanjuro', 'The Army of Shadows', 'Rififi', 'A Tree Grows in Brooklyn', 'My Sassy Girl', 'Z', 'Ugetsu', 'Marketa Lazarová', 'The Oak', 'Los santos inocentes', 'Al-ard', 'Reconstruction', 'Viento negro', 'Five and Ten', 'The Crazy-Quilt', 'La chambre rouge', 'Lenz', 'The Martian', 'Harry Potter and the Deathly Hallows: Part 2', 'Gone Girl', 'Shutter Island', 'No Country for Old Men', 'Stand by Me', 'Jurassic Park', 'The Help', 'The Princess Bride', 'There Will Be Blood', 'The Wizard of Oz', 'Jaws', 'The Bourne Ultimatum', 'Young Frankenstein', 'A Christmas Story', 'Ben-Hur', 'Barry Lyndon', 'Solaris', 'Underground', 'The Grapes of Wrath', 'Strangers on a Train', 'Touch of Evil', 'Anatomy of a Murder', 'The Night of the Hunter', 'The Killing', 'The Hustler', 'The Last Picture Show', 'The Big Sleep', 'All Quiet on the Western Front', 'Laura', 'The Man Who Knew Infinity', 'What Ever Happened to Baby Jane?', 'Diabolique', 'The Conformist', 'The Leopard', 'Out of the Past', 'Le Samouraï', 'Farewell My Concubine', 'Jean de Florette', 'My Man Godfrey', 'Now, Voyager', 'Ben-Hur: A Tale of the Christ', 'The Ox-Bow Incident', 'The Fire Within', 'A Christmas Carol', 'The Sword of Doom', 'Körkarlen', 'Le Deuxieme Souffle', 'Les amitiés particulières', 'Dodsworth', 'The Burmese Harp', 'Shala', 'Twenty-Four Eyes', 'Aparajito', 'The Cremator', 'Flesh and the Devil', 'Aandhi', 'Fate of a Man', 'The Boys of Paul Street', 'Love', 'Kuryer', 'Kekec', 'Bardelys the Magnificent', 'Devdas', 'Yama no oto', 'Merry-Go-Round', \"Tol'able David\", 'Weapons of the Spirit', 'The Island of Adventure', 'The Cossacks', 'Tren', 'Debdas', 'Luka', 'Napos oldal', 'Catch Me If You Can', 'The Perks of Being a Wallflower', 'Casino Royale', 'Big Fish', 'The Sound of Music', 'The Exorcist', 'Dances with Wolves', 'Mystic River', 'Slumdog Millionaire', 'Aladdin', 'Life of Pi', 'The Graduate', 'Planet of the Apes', 'The Untouchables', 'Scent of a Woman', \"Rosemary's Baby\", 'The Iron Giant', 'Let the Right One In', 'Doctor Zhivago', 'Papillon', 'JFK', 'King Kong', 'The Searchers', 'East of Eden', 'In the Heat of the Night', 'Nosferatu', 'Freaks', 'Being There', 'Fail-Safe', 'Once Were Warriors', 'Frankenstein', 'The Manchurian Candidate', 'Persepolis', 'In Cold Blood', 'To Have and Have Not', 'The Lady Vanishes', 'Mildred Pierce', 'Great Expectations', 'Beauty and the Beast', 'Auntie Mame', 'The Lost Weekend', 'The Big Heat', 'Black Narcissus', 'That Obscure Object of Desire', 'Elevator to the Gallows', 'In a Lonely Place', 'A Patch of Blue', 'Touchez Pas au Grisbi', 'Night and the City', 'The Servant', 'Captains Courageous', 'The Emigrants', 'Letter from an Unknown Woman', 'Random Harvest', 'Desu nôto', 'Nybyggarna', 'Higanbana', 'Pinjar', 'Diary of a Lost Girl', 'Hunger', 'The Promised Land', 'Desyat negrityat', 'El sur', 'Kuroi ame', 'Fantozzi', 'Nazarin', 'This Man Must Die', 'Diary of a Country Priest', 'Les misérables', 'Kaos', 'Mausam', 'La Bohème', 'Un borghese piccolo piccolo', 'Nobi', 'Rekopis znaleziony w Saragossie', 'Tonight or Never', 'The Affairs of Anatol', 'Breza', 'Way for a Sailor', 'Eugene Onegin', 'Pod igoto', 'Grahanam', 'Gambit', 'Manon', 'The Village Had No Walls', 'The Murderess', 'Toestanden', 'The Underground Man', 'Marele singuratic', 'Lucija', 'An heiligen Wassern', 'Potop', 'Edge of Tomorrow', 'The Hobbit: An Unexpected Journey', 'The Notebook', 'The Fault in Our Stars', 'The Hobbit: The Desolation of Smaug', 'The Bourne Identity', 'Children of Men', 'The Caine Mutiny', 'The Ghost and Mrs. Muir', 'Spartacus', 'The Outlaw Josey Wales', 'Crouching Tiger, Hidden Dragon', 'Midnight Cowboy', \"Carlito's Way\", \"Miller's Crossing\", 'The Ten Commandments', 'My Left Foot', 'Jules and Jim', 'The Remains of the Day', 'The Big Country', 'Johnny Got His Gun', 'Hud', 'The African Queen', 'Imitation of Life', \"They Shoot Horses, Don't They?\", \"Babette's Feast\", 'The Hunchback of Notre Dame', 'Bride of Frankenstein', 'The Innocents', 'The Asphalt Jungle', 'The Trial', 'O Lucky Man!', 'Toki o kakeru shôjo', 'Two Women', 'Elmer Gantry', 'Seven Days in May', 'Mephisto', 'The Plague Dogs', 'Breaker Morant', 'Scarlet Street', 'The Magnificent Ambersons', 'Greed', 'Das Testament des Dr. Mabuse', 'Ice Cold in Alex', 'Pickpocket', 'Mishima: A Life in Four Chapters', 'This Sporting Life', 'Beau Geste', 'Ashes and Diamonds', 'Forbidden Games', 'Whistle Down the Wind', 'The Mortal Storm', 'Le Doulos', 'Vengeance is Mine', 'The Unknown', 'Orphans of the Storm', 'Le Plaisir', 'The Four Horsemen of the Apocalypse', 'The Nun', 'The Deluge', 'La Terra Trema', 'Talvisota', 'The Smiling Lieutenant', 'Hôtel du Nord', 'Klopka', 'Gloomy Sunday', 'Day of Wrath', 'The Lacemaker', 'Tuntematon sotilas', 'Crime and Punishment', 'Street of Shame', 'Ukigumo', 'Les Plouffe', 'Die Feuerzangenbowle', 'Miseria e nobiltà'], [4.28, 4.34, 4.5, 4.19, 4.16, 3.8, 4.55, 4.03, 4.23, 4.36, 4.17, 4.52, 4.23, 4.1, 3.47, 3.38, 3.87, 4.4, 3.8, 3.72, 4.46, 4.67, 3.84, 3.91, 4.14, 4.19, 4.28, 3.94, 4.1, 3.93, 4.47, 3.42, 3.72, 3.8, 3.46, 4.08, 4.13, 3.96, 3.77, 4.24, 4.04, 4.28, 4.5, 3.66, 4.12, 2.97, 4.35, 4.08, 3.95, 4.42, 3.82, 4.0, 3.86, 3.44, 4.01, 3.97, 4.08, 3.88, 3.93, 4.2, 4.11, 3.48, 4.13, 4.1, 3.57, 4.51, 3.39, 3.67, 3.87, 4.29, 3.59, 4.26, 3.0, 4.18, 4.25, 0.0, 4.0, 3.38, 3.5, 3.91, 4.05, 3.84, 4.26, 3.72, 3.84, 4.3, 4.02, 4.5, 4.1, 3.93, 4.19, 4.05, 4.1, 0.0, 3.98, 4.12, 4.52, 3.72, 3.4, 3.65, 3.89, 4.22, 3.65, 4.0, 4.0, 3.53, 4.04, 3.98, 4.33, 4.03, 3.95, 4.43, 3.8, 4.09, 3.63, 4.38, 4.0, 3.99, 4.05, 4.11, 4.19, 3.91, 4.45, 4.24, 4.03, 3.97, 3.95, 4.02, 3.23, 4.04, 4.01, 3.6, 3.96, 4.15, 3.9, 3.89, 3.46, 3.97, 4.24, 4.02, 4.41, 3.95, 4.04, 3.88, 4.44, 4.15, 3.91, 3.75, 3.98, 3.98, 4.43, 3.25, 3.71, 4.09, 3.57, 4.07, 4.01, 3.78, 3.75, 4.0, 3.92, 3.5, 4.0, 4.27, 3.91, 0.0, 4.25, 4.22, 4.4, 4.36, 3.97, 4.05, 4.35, 4.11, 3.47, 0.0, 4.22, 3.83, 3.84, 0.0, 3.32, 0.0, 4.22, 4.03, 3.79, 3.78, 4.4, 3.6, 4.58, 3.43, 4.2, 3.72, 3.63, 4.28, 4.11, 4.17, 4.18, 4.44, 4.34, 3.87, 3.4, 3.89, 3.98, 3.07, 3.94, 3.33, 4.06, 4.04, 4.22, 3.89, 4.04, 4.32, 4.33, 3.93, 3.58, 3.96, 4.2, 4.12, 3.92, 3.72, 4.08, 4.32, 4.03, 3.58, 3.75, 3.92, 3.72, 4.39, 4.1, 4.03, 3.52, 3.85, 4.4, 3.0, 3.93, 3.92, 3.4, 3.76, 3.68, 3.87, 4.18, 4.12, 4.06, 5.0, 4.25, 0.0, 5.0, 4.0, 4.37, 4.32, 4.21, 4.09, 3.96, 3.79, 3.45, 0.0, 3.94, 4.12, 4.24, 4.25, 3.64, 3.44, 3.44, 3.0, 3.86, 0.0, 3.32, 3.0, 4.06, 4.89, 3.71, 4.12, 3.5, 0.0, 3.65, 3.67, 3.79, 2.5, 3.62, 0.0, 3.85, 3.89, 4.39, 4.05, 4.33, 4.28, 3.94, 3.69, 4.2, 4.17, 4.04, 3.8, 3.75, 3.88, 3.93, 4.46, 3.85, 4.0, 3.8, 4.09, 4.03, 4.15, 4.33, 4.02, 3.54, 3.84, 3.84, 3.95, 3.89, 3.93, 3.94, 3.98, 4.5, 0.0, 4.02, 3.96, 4.13, 3.96, 3.82, 3.59, 3.75, 3.72, 4.0, 4.0, 3.81, 3.49, 2.0, 3.53, 3.94, 3.67, 3.58, 3.6, 4.17, 5.0, 3.87, 3.4, 4.27, 3.97, 3.75, 3.66, 3.9, 0.0, 4.0, 4.5, 2.78, 0.0, 4.0, 3.85, 3.69, 5.0, 4.16, 5.0, 4.0, 3.29, 3.76, 4.5], [717, 232195, 4, 330661, 82, 5408, 75, 40697, 275, 410, 447829, 4108, 22, 321059, 66, 6521, 11442, 161235, 147803, 434, 13, 18, 10048, 10812, 7, 896851, 399, 141695, 12445, 4275, 3893, 88, 29, 59, 23338, 33103, 683140, 391823, 39, 2686101, 2175, 2361, 144, 7503, 12129, 32, 6267, 1472, 3509, 12331, 85, 2, 58, 123, 43277, 407545, 147358, 208, 119, 19991, 4379, 878, 2499, 1235, 7, 2072, 23131, 3, 169, 21, 28669, 776664, 2, 4084, 4, 0, 1, 162, 351, 302, 95704, 21023, 776665, 37120, 1468, 118587, 4984, 8, 602, 57673, 274140, 5163, 1164, 0, 18677, 17, 25, 1280, 5, 440, 18, 272768, 48, 281204, 5, 312, 7505, 1303, 1816059, 535100, 818, 7217, 15, 35, 1000, 323793, 3, 1241158, 103664, 92782, 762, 560471, 1311634, 559621, 358044, 236764, 89054, 43623, 13, 1912, 23382, 1105, 38241, 76386, 456364, 7865, 1197, 1074, 56045, 142267, 3786, 9431, 72552, 206590, 381489, 3106, 1068, 733, 1036, 11155, 7, 4, 609, 915, 14, 296, 23382, 3437, 19318, 363260, 48, 4, 1, 95, 698, 0, 939, 11830, 518, 557, 300, 20, 38856, 4818, 1042318, 0, 9, 111, 1453, 0, 500, 0, 9, 2638, 3614, 248, 5, 4585, 12, 354, 781792, 37120, 11023, 427, 104082, 16984, 70663, 9, 7798, 937236, 4945, 22493, 4122, 286, 69216, 9, 53100, 58343, 36390, 661, 1152, 132670, 290462, 3644, 84, 29877, 781792, 3611, 1578, 756972, 16959, 56425, 358044, 15378, 416, 5237, 428080, 14896, 4858, 777, 61, 555, 5, 1, 1245, 745, 5, 8032, 24241, 13887, 4090, 48, 987, 3, 1122, 0, 7, 26, 3979119, 5545, 330416, 144, 2057, 71, 103, 0, 1042, 494700, 2686113, 8, 266, 133, 68, 1, 751, 0, 365, 2, 29978, 9, 7, 65835, 5951, 0, 23, 3, 853, 2, 1405745, 0, 2080, 783, 1238, 969695, 1816071, 276, 294430, 27941, 14027, 937, 1184, 15, 108, 1162, 109, 70, 690, 2766, 696, 100543, 3363, 22086, 3, 5279, 172, 3843, 1529, 109379, 27, 17123, 1511, 123585, 4, 0, 1125418, 3134, 1163, 2025, 4786, 17, 4, 6761, 5099, 4, 91, 148, 1, 207, 1940, 377, 12, 42, 35, 1, 460, 157045, 107, 37, 491, 3313, 726, 0, 3, 2, 88, 0, 1, 906, 1306, 1, 365974, 1, 2, 31, 125, 8]]\n"
     ]
    }
   ],
   "source": [
    "print(book_data)"
   ]
  },
  {
   "cell_type": "code",
   "execution_count": 44,
   "metadata": {
    "collapsed": true
   },
   "outputs": [],
   "source": [
    "def generateGRDataFrame(movie_book_data):\n",
    "    header = ['Title', 'GRRating', 'GRRatingCount']\n",
    "    movie_book_data_dict = defaultdict(list)\n",
    "\n",
    "    for _ in range(len(header)):\n",
    "        movie_book_data_dict[header[_]] = movie_book_data[_]\n",
    "        \n",
    "    movie_book_df = pd.DataFrame(movie_book_data_dict)\n",
    "    movie_book_df = movie_book_df[header]\n",
    "    \n",
    "    return movie_book_df"
   ]
  },
  {
   "cell_type": "code",
   "execution_count": 45,
   "metadata": {
    "collapsed": true
   },
   "outputs": [],
   "source": [
    "def writeGRToCSV(movie_book_data, outfilename):\n",
    "    movie_book_df = generateGRDataFrame(movie_book_data)\n",
    "    \n",
    "    #print(movie_df.head())\n",
    "    \n",
    "    movie_book_df.to_csv(outfilename)"
   ]
  },
  {
   "cell_type": "code",
   "execution_count": 46,
   "metadata": {
    "collapsed": false
   },
   "outputs": [],
   "source": [
    "writeGRToCSV(book_data, 'movie_books_GR_ratings.csv')"
   ]
  },
  {
   "cell_type": "markdown",
   "metadata": {
    "collapsed": true
   },
   "source": [
    "## Pickle movie list"
   ]
  },
  {
   "cell_type": "code",
   "execution_count": 47,
   "metadata": {
    "collapsed": true
   },
   "outputs": [],
   "source": [
    "import pickle"
   ]
  },
  {
   "cell_type": "code",
   "execution_count": 48,
   "metadata": {
    "collapsed": false
   },
   "outputs": [],
   "source": [
    "new_book_data = book_data[0]"
   ]
  },
  {
   "cell_type": "code",
   "execution_count": 49,
   "metadata": {
    "collapsed": false
   },
   "outputs": [],
   "source": [
    "with open('pickles/GR_movie_book_list.pkl', 'wb') as picklefile:\n",
    "    pickle.dump(new_book_data, picklefile)"
   ]
  },
  {
   "cell_type": "code",
   "execution_count": null,
   "metadata": {
    "collapsed": true
   },
   "outputs": [],
   "source": []
  }
 ],
 "metadata": {
  "kernelspec": {
   "display_name": "Python 3",
   "language": "python",
   "name": "python3"
  },
  "language_info": {
   "codemirror_mode": {
    "name": "ipython",
    "version": 3
   },
   "file_extension": ".py",
   "mimetype": "text/x-python",
   "name": "python",
   "nbconvert_exporter": "python",
   "pygments_lexer": "ipython3",
   "version": "3.5.1"
  }
 },
 "nbformat": 4,
 "nbformat_minor": 0
}
