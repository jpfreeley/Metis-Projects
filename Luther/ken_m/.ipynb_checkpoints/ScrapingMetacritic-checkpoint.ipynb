{
 "cells": [
  {
   "cell_type": "code",
   "execution_count": 32,
   "metadata": {
    "collapsed": false
   },
   "outputs": [],
   "source": [
    "import requests\n",
    "from bs4 import BeautifulSoup\n",
    "import re\n",
    "import pandas as pd\n",
    "from collections import defaultdict\n",
    "import IMDBRatingScraper\n",
    "from selenium import webdriver\n",
    "from selenium.webdriver.common.keys import Keys\n",
    "from selenium.webdriver.common.by import By\n",
    "from selenium.webdriver.support.ui import WebDriverWait\n",
    "from selenium.webdriver.support import expected_conditions as EC\n",
    "from selenium.common.exceptions import TimeoutException\n",
    "from selenium.webdriver.chrome.options import Options\n",
    "import time\n",
    "import os\n",
    "\n",
    "\n"
   ]
  },
  {
   "cell_type": "code",
   "execution_count": 33,
   "metadata": {
    "collapsed": false
   },
   "outputs": [],
   "source": [
    "def getMoviesList(imdb_yearly_url):\n",
    "    movies_list = []\n",
    "    movies_info = IMDBRatingScraper.scrapeYearMultiPages(imdb_yearly_url)\n",
    "    for movie in movies_info:\n",
    "        movies_list.append(movie[0])\n",
    "        \n",
    "    return movies_list\n",
    "\n"
   ]
  },
  {
   "cell_type": "code",
   "execution_count": 34,
   "metadata": {
    "collapsed": false
   },
   "outputs": [
    {
     "name": "stdout",
     "output_type": "stream",
     "text": [
      "['Star Wars: The Force Awakens', 'Jurassic World', 'Avengers: Age of Ultron', 'Inside Out', 'Furious 7', 'Minions', 'The Hunger Games: Mockingjay - Part 2', 'The Martian', 'Cinderella', 'Spectre', 'Mission: Impossible - Rogue Nation', 'Pitch Perfect 2', 'Ant-Man', 'Home', 'Hotel Transylvania 2', 'Fifty Shades of Grey', 'The SpongeBob Movie: Sponge Out of Water', 'Straight Outta Compton', 'San Andreas', 'Mad Max: Fury Road', 'Insurgent', \"Daddy's Home\", 'The Peanuts Movie', 'The Good Dinosaur', 'Spy', 'Trainwreck', 'Creed', 'Tomorrowland', 'Get Hard', 'Terminator Genisys', 'The Revenant', 'Sisters', 'Maze Runner: The Scorch Trials', 'Ted 2', 'Alvin and the Chipmunks: The Road Chip', 'Goosebumps', 'Pixels', 'The Intern', 'Paul Blart: Mall Cop 2', 'Bridge of Spies', 'War Room', 'Magic Mike XXL', 'The Visit', 'The Wedding Ringer', 'Black Mass', 'Vacation', 'The Perfect Guy', 'Fantastic Four', 'Focus', 'Southpaw', 'Insidious: Chapter 3', 'Joy', 'The Big Short', 'The Hateful Eight', 'Poltergeist', 'Jupiter Ascending', 'Sicario', 'The Man from U.N.C.L.E.', 'McFarland, USA', 'The Gift', 'Prem Ratan Dhan Payo', 'Everest', 'The Night Before', 'Max', 'Krampus', 'The Age of Adaline', 'The Longest Ride', 'The Boy Next Door', 'Pan', 'Hot Pursuit', 'The DUFF', 'Woman in Gold', 'The Second Best Exotic Marigold Hotel', 'Entourage', 'Paper Towns', 'Concussion', 'Chappie', 'Crimson Peak', 'A Walk in the Woods', 'Spotlight', 'Sinister 2', 'The Last Witch Hunter', 'No Escape', 'Ricki and the Flash', 'Point Break', 'Run All Night', 'Love the Coopers', 'The Lazarus Effect', 'Ex Machina', 'In the Heart of the Sea', 'The Gallows', 'Hitman: Agent 47', 'Brooklyn', 'Project Almanac', 'Aloha', 'Shaun the Sheep Movie', 'Paranormal Activity: The Ghost Dimension', 'Steve Jobs', 'Mr. Holmes', 'Dope']\n"
     ]
    }
   ],
   "source": [
    "movies_2015 = getMoviesList('http://www.imdb.com/search/title?at=0&sort=boxoffice_gross_us,desc&title_type=feature&year=2015,2015')\n",
    "print(movies_2015)"
   ]
  },
  {
   "cell_type": "code",
   "execution_count": 35,
   "metadata": {
    "collapsed": false
   },
   "outputs": [],
   "source": [
    "def scrapeMetaCritic(movies_list):\n",
    "    print(movies_list)\n",
    "    time.sleep(2)\n",
    "    \n",
    "    movie_names = []\n",
    "    movie_ratings = []\n",
    "    movie_ratings_count = []\n",
    "    critic_ratings = []\n",
    "    critic_ratings_count = []\n",
    "    \n",
    "    driver_options = webdriver.ChromeOptions()\n",
    "    driver_options.add_extension('Adblock-Plus_v1.10.crx')\n",
    "    \n",
    "    chromedriver = '/Users/kenn/Downloads/KEEP/chromedriver'\n",
    "    os.environ['webdriver.chrome.driver'] = chromedriver\n",
    "    driver = webdriver.Chrome(chromedriver, chrome_options = driver_options)\n",
    "    driver.get('http://www.metacritic.com/')\n",
    "    time.sleep(2)\n",
    "    \n",
    "    for movie in movies_list:\n",
    "        movie_names.append(movie)\n",
    "        if '- ' in movie:\n",
    "            movie = movie.replace('- ', '')\n",
    "        \n",
    "        #starting page\n",
    "        #word = \"Star wars the force awakens\"\n",
    "        page_is_good = False\n",
    "        while not page_is_good:\n",
    "            try:\n",
    "                WebDriverWait(driver, 7).until(EC.presence_of_element_located((By.ID, 'masthead_search_term')))\n",
    "                #print(\"Page is ready!\")\n",
    "                page_is_good = True\n",
    "            except TimeoutException:\n",
    "                print(\"Loading page took too much time!\")\n",
    "                driver.refresh()\n",
    "        search_form = driver.find_element_by_id('masthead_search_term')\n",
    "        search_form.send_keys(movie)\n",
    "        search_form.send_keys(Keys.RETURN)\n",
    "\n",
    "        #search page\n",
    "        page_is_good = False\n",
    "        while not page_is_good:\n",
    "            try:\n",
    "                WebDriverWait(driver, 7).until(EC.presence_of_element_located((By.XPATH, \"//li[@class='result first_result']\")))\n",
    "                #print(\"Page is ready!\")\n",
    "                page_is_good = True\n",
    "            except TimeoutException:\n",
    "                print(\"Loading page took too much time!\")\n",
    "                driver.refresh()\n",
    "        \n",
    "        i = 1\n",
    "        result_type_text = ''\n",
    "        while result_type_text != 'Movie':\n",
    "            result_type = driver.find_element_by_xpath(\"(//div[@class='result_type'])[\" + str(i) + \"]\")\n",
    "            result_type_text = result_type.find_element_by_tag_name('strong').text\n",
    "            #print(result_type_text)\n",
    "            #print(i)\n",
    "            i += 1\n",
    "            \n",
    "        \n",
    "        result_type_parent = result_type.find_element_by_xpath('..')\n",
    "        #print(result_type_parent.text)\n",
    "        #result = result_type_parent.find_element_by_xpath(\".//li[contains(@class, 'result')]\")\n",
    "        result_link = result_type_parent.find_element_by_xpath(\".//a\")\n",
    "        result_link.click()\n",
    "\n",
    "        #movie page\n",
    "        page_is_good = False\n",
    "        while not page_is_good:\n",
    "            try:\n",
    "                WebDriverWait(driver, 7).until(EC.presence_of_element_located((By.XPATH, \"//div[contains(@class, 'metascore_w user')]\")))\n",
    "                #print(\"Page is ready!\")\n",
    "                page_is_good = True\n",
    "            except TimeoutException:\n",
    "                print(\"Loading page took too much time!\")\n",
    "                driver.refresh()\n",
    "        try:\n",
    "            user_rating = float(driver.find_element_by_xpath(\"//div[contains(@class, 'metascore_w user')]\").text)\n",
    "        except ValueError:\n",
    "            user_rating = None\n",
    "        \n",
    "        try:\n",
    "            user_rating_count = driver.find_element_by_xpath(\"(//span[@class='count'])[2]\").find_element_by_tag_name('a').text\n",
    "            user_rating_count = int(user_rating_count.split()[0])\n",
    "        except:\n",
    "            user_rating_count = None\n",
    "        \n",
    "        try:\n",
    "            critic_rating = float(driver.find_element_by_xpath(\"//span[@itemprop='ratingValue']\").text)\n",
    "        except:\n",
    "            critic_rating = None\n",
    "            \n",
    "        try:    \n",
    "            critic_rating_count = driver.find_element_by_xpath(\"(//span[@class='count'])[1]\").find_element_by_tag_name('a').text\n",
    "            critic_rating_count = int(critic_rating_count.split()[0])\n",
    "        except:\n",
    "            critic_rating_count = None\n",
    "            \n",
    "        movie_ratings.append(user_rating)\n",
    "        movie_ratings_count.append(user_rating_count)\n",
    "        critic_ratings.append(critic_rating)\n",
    "        critic_ratings_count.append(critic_rating_count)\n",
    "\n",
    "    driver.close()\n",
    "    #print(movie_names, movie_ratings, movie_ratings_count, critic_ratings, critic_ratings_count)\n",
    "    \n",
    "    return[movie_names, movie_ratings, movie_ratings_count, critic_ratings, critic_ratings_count]\n",
    "    \n",
    "\n",
    "    "
   ]
  },
  {
   "cell_type": "code",
   "execution_count": 36,
   "metadata": {
    "collapsed": false
   },
   "outputs": [
    {
     "name": "stdout",
     "output_type": "stream",
     "text": [
      "['Star Wars: The Force Awakens', 'Jurassic World', 'Avengers: Age of Ultron', 'Inside Out', 'Furious 7', 'Minions', 'The Hunger Games: Mockingjay - Part 2', 'The Martian', 'Cinderella', 'Spectre', 'Mission: Impossible - Rogue Nation', 'Pitch Perfect 2', 'Ant-Man', 'Home', 'Hotel Transylvania 2', 'Fifty Shades of Grey', 'The SpongeBob Movie: Sponge Out of Water', 'Straight Outta Compton', 'San Andreas', 'Mad Max: Fury Road', 'Insurgent', \"Daddy's Home\", 'The Peanuts Movie', 'The Good Dinosaur', 'Spy', 'Trainwreck', 'Creed', 'Tomorrowland', 'Get Hard', 'Terminator Genisys', 'The Revenant', 'Sisters', 'Maze Runner: The Scorch Trials', 'Ted 2', 'Alvin and the Chipmunks: The Road Chip', 'Goosebumps', 'Pixels', 'The Intern', 'Paul Blart: Mall Cop 2', 'Bridge of Spies', 'War Room', 'Magic Mike XXL', 'The Visit', 'The Wedding Ringer', 'Black Mass', 'Vacation', 'The Perfect Guy', 'Fantastic Four', 'Focus', 'Southpaw', 'Insidious: Chapter 3', 'Joy', 'The Big Short', 'The Hateful Eight', 'Poltergeist', 'Jupiter Ascending', 'Sicario', 'The Man from U.N.C.L.E.', 'McFarland, USA', 'The Gift', 'Prem Ratan Dhan Payo', 'Everest', 'The Night Before', 'Max', 'Krampus', 'The Age of Adaline', 'The Longest Ride', 'The Boy Next Door', 'Pan', 'Hot Pursuit', 'The DUFF', 'Woman in Gold', 'The Second Best Exotic Marigold Hotel', 'Entourage', 'Paper Towns', 'Concussion', 'Chappie', 'Crimson Peak', 'A Walk in the Woods', 'Spotlight', 'Sinister 2', 'The Last Witch Hunter', 'No Escape', 'Ricki and the Flash', 'Point Break', 'Run All Night', 'Love the Coopers', 'The Lazarus Effect', 'Ex Machina', 'In the Heart of the Sea', 'The Gallows', 'Hitman: Agent 47', 'Brooklyn', 'Project Almanac', 'Aloha', 'Shaun the Sheep Movie', 'Paranormal Activity: The Ghost Dimension', 'Steve Jobs', 'Mr. Holmes', 'Dope']\n"
     ]
    }
   ],
   "source": [
    "movies_2015_MCdata = scrapeMetaCritic(movies_2015)\n",
    "\n",
    "\n"
   ]
  },
  {
   "cell_type": "code",
   "execution_count": 37,
   "metadata": {
    "collapsed": false
   },
   "outputs": [
    {
     "name": "stdout",
     "output_type": "stream",
     "text": [
      "[['Star Wars: The Force Awakens', 'Jurassic World', 'Avengers: Age of Ultron', 'Inside Out', 'Furious 7', 'Minions', 'The Hunger Games: Mockingjay - Part 2', 'The Martian', 'Cinderella', 'Spectre', 'Mission: Impossible - Rogue Nation', 'Pitch Perfect 2', 'Ant-Man', 'Home', 'Hotel Transylvania 2', 'Fifty Shades of Grey', 'The SpongeBob Movie: Sponge Out of Water', 'Straight Outta Compton', 'San Andreas', 'Mad Max: Fury Road', 'Insurgent', \"Daddy's Home\", 'The Peanuts Movie', 'The Good Dinosaur', 'Spy', 'Trainwreck', 'Creed', 'Tomorrowland', 'Get Hard', 'Terminator Genisys', 'The Revenant', 'Sisters', 'Maze Runner: The Scorch Trials', 'Ted 2', 'Alvin and the Chipmunks: The Road Chip', 'Goosebumps', 'Pixels', 'The Intern', 'Paul Blart: Mall Cop 2', 'Bridge of Spies', 'War Room', 'Magic Mike XXL', 'The Visit', 'The Wedding Ringer', 'Black Mass', 'Vacation', 'The Perfect Guy', 'Fantastic Four', 'Focus', 'Southpaw', 'Insidious: Chapter 3', 'Joy', 'The Big Short', 'The Hateful Eight', 'Poltergeist', 'Jupiter Ascending', 'Sicario', 'The Man from U.N.C.L.E.', 'McFarland, USA', 'The Gift', 'Prem Ratan Dhan Payo', 'Everest', 'The Night Before', 'Max', 'Krampus', 'The Age of Adaline', 'The Longest Ride', 'The Boy Next Door', 'Pan', 'Hot Pursuit', 'The DUFF', 'Woman in Gold', 'The Second Best Exotic Marigold Hotel', 'Entourage', 'Paper Towns', 'Concussion', 'Chappie', 'Crimson Peak', 'A Walk in the Woods', 'Spotlight', 'Sinister 2', 'The Last Witch Hunter', 'No Escape', 'Ricki and the Flash', 'Point Break', 'Run All Night', 'Love the Coopers', 'The Lazarus Effect', 'Ex Machina', 'In the Heart of the Sea', 'The Gallows', 'Hitman: Agent 47', 'Brooklyn', 'Project Almanac', 'Aloha', 'Shaun the Sheep Movie', 'Paranormal Activity: The Ghost Dimension', 'Steve Jobs', 'Mr. Holmes', 'Dope'], [6.8, 6.8, 7.0, 8.8, 6.8, 5.8, 6.9, 8.0, 7.6, 6.7, 7.8, 5.8, 8.0, 7.1, 7.3, 3.0, 6.6, 7.5, 5.5, 8.6, 5.4, 7.1, 8.4, 7.3, 5.5, 5.7, 8.3, 6.5, 3.8, 6.2, 8.2, 6.5, 6.3, 6.4, 2.6, 6.9, 5.2, 6.8, 2.4, 7.8, 5.4, 5.5, 6.5, 3.1, 7.4, 6.4, 3.2, 2.6, 6.2, 7.9, 6.8, 6.4, 8.5, 7.2, 3.6, 4.5, 8.3, 7.6, 7.3, 8.4, None, 7.1, 6.5, 8.6, 7.6, 7.3, 4.9, 5.5, 4.8, 3.7, 6.6, 7.1, 6.2, 5.2, 6.4, 6.3, 7.3, 7.4, 5.5, 7.7, 5.6, 5.2, 6.5, 6.8, 2.9, 7.6, 5.3, 4.9, 7.9, 6.9, 6.8, 4.0, 7.9, 5.5, 4.3, 8.8, 3.8, 6.8, 7.8, 7.6], [4553, 1573, 1602, 1372, 840, 339, 400, 1199, 314, 776, 638, 237, 966, 55, 117, 888, 226, 267, 321, 3021, 257, 55, 114, 159, 527, 304, 317, 377, 164, 1006, 572, 72, 233, 258, 49, 80, 400, 112, 246, 274, 53, 79, 196, 153, 258, 154, 23, 631, 203, 290, 143, 106, 216, 633, 181, 555, 533, 379, 66, 326, None, 223, 57, 3021, 107, 132, 58, 79, 122, 99, 83, 88, 52, 135, 101, 60, 697, 296, 32, 250, 99, 95, 101, 64, 51, 189, 25, 69, 861, 91, 118, 202, 176, 114, 100, 149, 61, 222, 92, 98], [81.0, 59.0, 66.0, 94.0, 67.0, 56.0, 65.0, 80.0, 67.0, 60.0, 75.0, 63.0, 64.0, 42.0, 44.0, 46.0, 62.0, 72.0, 43.0, 89.0, 42.0, 42.0, 67.0, 66.0, 75.0, 75.0, 82.0, 60.0, 34.0, 38.0, 76.0, 58.0, 43.0, 48.0, 33.0, 59.0, 27.0, 51.0, 13.0, 81.0, 26.0, 60.0, 55.0, 35.0, 68.0, 34.0, 36.0, 27.0, 56.0, 57.0, 52.0, 56.0, 81.0, 69.0, 47.0, 40.0, 81.0, 56.0, 60.0, 77.0, None, 64.0, 58.0, 89.0, 49.0, 51.0, 33.0, 30.0, 36.0, 31.0, 56.0, 51.0, 51.0, 38.0, 56.0, 56.0, 41.0, 66.0, 51.0, 93.0, 32.0, 34.0, 38.0, 54.0, 34.0, 59.0, 31.0, 31.0, 78.0, 47.0, 30.0, 28.0, 87.0, 47.0, 40.0, 81.0, 30.0, 82.0, 67.0, 72.0], [52, 49, 49, 48, 44, 35, 44, 46, 47, 48, 46, 39, 43, 30, 24, 46, 27, 41, 42, 47, 40, 30, 31, 37, 40, 45, 42, 47, 43, 41, 50, 36, 29, 38, 19, 27, 37, 36, 16, 48, 11, 41, 34, 27, 43, 33, 13, 40, 42, 42, 26, 48, 45, 48, 27, 40, 41, 40, 32, 31, 3, 39, 31, 47, 21, 31, 30, 33, 35, 36, 28, 31, 36, 40, 34, 37, 39, 37, 30, 44, 17, 22, 33, 36, 19, 34, 26, 29, 42, 47, 22, 27, 42, 25, 36, 30, 13, 45, 35, 37]]\n"
     ]
    }
   ],
   "source": [
    "print(movies_2015_MCdata)"
   ]
  },
  {
   "cell_type": "code",
   "execution_count": 38,
   "metadata": {
    "collapsed": true
   },
   "outputs": [],
   "source": [
    "##The functions below will get changed in the final python file \n",
    "##So that they accept the IMDB year url like the other functions\n",
    "\n",
    "def generateMCDataFrame(movie_data):\n",
    "    #movie_data = scrapeAllMoviesPages(year_page_url)\n",
    "    header = ['Title', 'UserRating', 'UserRatingCount', 'CriticRating', 'CriticRatingCount']\n",
    "    movie_data_dict = defaultdict(list)\n",
    "\n",
    "    for _ in range(len(header)):\n",
    "        movie_data_dict[header[_]] = movie_data[_]\n",
    "        \n",
    "    movie_df = pd.DataFrame(movie_data_dict)\n",
    "    movie_df = movie_df[header]\n",
    "    \n",
    "    return movie_df"
   ]
  },
  {
   "cell_type": "code",
   "execution_count": 39,
   "metadata": {
    "collapsed": false
   },
   "outputs": [
    {
     "name": "stdout",
     "output_type": "stream",
     "text": [
      "                          Title  UserRating  UserRatingCount  CriticRating  \\\n",
      "0  Star Wars: The Force Awakens         6.8             4553            81   \n",
      "1                Jurassic World         6.8             1573            59   \n",
      "2       Avengers: Age of Ultron         7.0             1602            66   \n",
      "3                    Inside Out         8.8             1372            94   \n",
      "4                     Furious 7         6.8              840            67   \n",
      "\n",
      "   CriticRatingCount  \n",
      "0                 52  \n",
      "1                 49  \n",
      "2                 49  \n",
      "3                 48  \n",
      "4                 44  \n"
     ]
    }
   ],
   "source": [
    "print(generateMCDataFrame(movies_2015_MCdata).head())"
   ]
  },
  {
   "cell_type": "code",
   "execution_count": null,
   "metadata": {
    "collapsed": true
   },
   "outputs": [],
   "source": [
    "def writeMCToCSV(movie_df, outfilename):\n",
    "    #movie_df = generateIMDBDataFrame(year_page_url)\n",
    "    \n",
    "    #print(movie_df.head())\n",
    "    \n",
    "    movie_df.to_csv(outfilename)"
   ]
  }
 ],
 "metadata": {
  "kernelspec": {
   "display_name": "Python 3",
   "language": "python",
   "name": "python3"
  },
  "language_info": {
   "codemirror_mode": {
    "name": "ipython",
    "version": 3
   },
   "file_extension": ".py",
   "mimetype": "text/x-python",
   "name": "python",
   "nbconvert_exporter": "python",
   "pygments_lexer": "ipython3",
   "version": "3.5.1"
  }
 },
 "nbformat": 4,
 "nbformat_minor": 0
}
