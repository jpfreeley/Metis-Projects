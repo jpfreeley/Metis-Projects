{
 "cells": [
  {
   "cell_type": "code",
   "execution_count": 2,
   "metadata": {
    "collapsed": true
   },
   "outputs": [],
   "source": [
    "import requests\n",
    "from bs4 import BeautifulSoup\n",
    "import dateutil.parser\n",
    "import re\n",
    "import pandas as pd\n",
    "from collections import defaultdict\n"
   ]
  },
  {
   "cell_type": "code",
   "execution_count": 176,
   "metadata": {
    "collapsed": false
   },
   "outputs": [],
   "source": [
    "def readYearPage(year_page_url):\n",
    "    response = requests.get(year_page_url)\n",
    "    page = response.text\n",
    "    soupPage = BeautifulSoup(page, 'lxml')\n",
    "  \n",
    "    return soupPage\n",
    " \n",
    "    \n",
    "    \n",
    "#print(readYearPage('http://www.boxofficemojo.com/yearly/chart/?yr=2015&p=.htm').prettify())"
   ]
  },
  {
   "cell_type": "code",
   "execution_count": 3,
   "metadata": {
    "collapsed": false
   },
   "outputs": [],
   "source": [
    "#Get the movie names and the links to \n",
    "#their individual pages from \n",
    "#the yearly box office page\n",
    "\n",
    "def getMoviesAndLinks(year_page_url):\n",
    "    movie_page = readYearPage(year_page_url)\n",
    "    \n",
    "    movie_name_list = []\n",
    "    movie_link_list = []\n",
    "\n",
    "    movie_data = movie_page.find_all('a', href=re.compile(\"/movies/\\?id=\"))\n",
    "    del movie_data[0]\n",
    "\n",
    "    for movie in movie_data:\n",
    "        movie_name_list.append(movie.text)\n",
    "        movie_link_list.append('http://www.boxofficemojo.com' + movie['href'])\n",
    "        \n",
    "    return list(zip(movie_name_list, movie_link_list))\n",
    " \n",
    "    \n",
    "#movies_2015 = getMoviesAndLinks('http://www.boxofficemojo.com/yearly/chart/?yr=2015&p=.htm')\n",
    "\n",
    "#print(movies_2015)"
   ]
  },
  {
   "cell_type": "code",
   "execution_count": 178,
   "metadata": {
    "collapsed": true
   },
   "outputs": [],
   "source": [
    "def get_movie_value(soup, field_name):\n",
    "    obj = soup.find(text=re.compile(field_name))\n",
    "    if not obj: \n",
    "        return None\n",
    "    \n",
    "    next_sibling = obj.findNextSibling()\n",
    "    next_value = obj.find_next()  #sometimes findNextSibling doesnt work if string isnt in quotes\n",
    "    \n",
    "    if next_sibling:\n",
    "        return next_sibling.text\n",
    "    elif next_value:\n",
    "        return next_value.text\n",
    "    else:\n",
    "        return None"
   ]
  },
  {
   "cell_type": "code",
   "execution_count": 179,
   "metadata": {
    "collapsed": true
   },
   "outputs": [],
   "source": [
    "def to_date(datestring):\n",
    "    date = dateutil.parser.parse(datestring)\n",
    "    return date\n",
    "\n",
    "def budget_to_int(moneystring):\n",
    "    try:\n",
    "        moneystring = moneystring.replace('$', '').replace(' million', '000000')\n",
    "        return int(moneystring)\n",
    "    except:\n",
    "        return ''\n",
    "\n",
    "def money_to_int(moneystring):\n",
    "    try:\n",
    "        moneystring = moneystring.replace('$', '').replace(',', '')\n",
    "        return int(moneystring)\n",
    "    except: \n",
    "        return ''\n",
    "\n",
    "def runtime_to_minutes(runtimestring):\n",
    "    runtime = runtimestring.split()\n",
    "    try:\n",
    "        minutes = int(runtime[0])*60 + int(runtime[2])\n",
    "        return minutes\n",
    "    except:\n",
    "        return ''"
   ]
  },
  {
   "cell_type": "code",
   "execution_count": 180,
   "metadata": {
    "collapsed": false
   },
   "outputs": [],
   "source": [
    "def scrapeOneMoviePage(movie_page_url):\n",
    "    response = requests.get(movie_page_url)\n",
    "    page = response.text\n",
    "    soupPage = BeautifulSoup(page, 'lxml')\n",
    "    \n",
    "    raw_budget = get_movie_value(soupPage, 'Production Budget')\n",
    "    budget = budget_to_int(raw_budget)\n",
    "\n",
    "    raw_dtg = get_movie_value(soupPage, 'Domestic Total')\n",
    "    dtg = money_to_int(raw_dtg)\n",
    "\n",
    "    try:\n",
    "        director = soupPage.find('a', href=re.compile('Director')).find_next().text\n",
    "    except:\n",
    "        director = ''\n",
    "        \n",
    "    rating = get_movie_value(soupPage, 'MPAA Rating:')\n",
    "    \n",
    "    raw_runtime = get_movie_value(soupPage, 'Runtime')\n",
    "    runtime = runtime_to_minutes(raw_runtime)\n",
    "    \n",
    "    raw_releasedate = get_movie_value(soupPage, 'Release Date:')\n",
    "    releasedate = to_date(raw_releasedate)\n",
    "    \n",
    "    movie_data = [budget, dtg, director, rating, runtime, releasedate]\n",
    "    \n",
    "    return movie_data\n",
    "    \n",
    "    \n",
    "#print(scrapeOneMoviePage('http://www.boxofficemojo.com/movies/?id=starwars7.htm'))\n",
    "    \n",
    "    \n",
    "    "
   ]
  },
  {
   "cell_type": "code",
   "execution_count": 181,
   "metadata": {
    "collapsed": false
   },
   "outputs": [],
   "source": [
    "#Scrape each of the movie links, store it in a dataframe\n",
    "\n",
    "def scrapeAllMoviesPages(year_page_url):\n",
    "    years_movie_names_and_links = getMoviesAndLinks(year_page_url)\n",
    "    \n",
    "    \n",
    "    movie_link_list = []\n",
    "\n",
    "    movie_title_list = []\n",
    "    movie_budget_list = []\n",
    "    movie_dtg_list = []\n",
    "    movie_director_list = []\n",
    "    movie_rating_list = []\n",
    "    movie_runtime_list = []\n",
    "    movie_releasedate_list = []\n",
    "\n",
    "    movie_data_list = [movie_title_list, movie_budget_list, movie_dtg_list, \n",
    "                      movie_director_list, movie_rating_list, movie_runtime_list, \n",
    "                      movie_releasedate_list]\n",
    "\n",
    "    for movie in years_movie_names_and_links:\n",
    "        movie_data_list[0].append(movie[0])\n",
    "        movie_link_list.append(movie[1])\n",
    "\n",
    "    for link in movie_link_list:\n",
    "        page_data = scrapeOneMoviePage(link)\n",
    "        for i in range(1, len(page_data)+1):\n",
    "            movie_data_list[i].append(page_data[i-1])\n",
    "            \n",
    "    return movie_data_list\n",
    "\n",
    "#movies_2015 = scrapeAllMoviesPages('http://www.boxofficemojo.com/yearly/chart/?yr=2015&p=.htm')\n",
    "#print(movies_2015)\n"
   ]
  },
  {
   "cell_type": "code",
   "execution_count": null,
   "metadata": {
    "collapsed": true
   },
   "outputs": [],
   "source": [
    "def generateDataFrame(year_page_url):\n",
    "    movie_data = scrapeAllMoviesPages(year_page_url)\n",
    "    header = ['Title', 'Budget', 'DomesticTotalGross', 'Director', 'Rating', 'Runtime', 'ReleaseDate']\n",
    "    movie_data_dict = defaultdict(list)\n",
    "\n",
    "    for _ in range(len(header)):\n",
    "        movie_data_dict[header[_]] = movie_data[_]\n",
    "        \n",
    "    movie_df = pd.DataFrame(movie_data_dict)\n",
    "    movie_df = movie_df[header]\n",
    "    \n",
    "    return movie_df"
   ]
  },
  {
   "cell_type": "code",
   "execution_count": 183,
   "metadata": {
    "collapsed": false
   },
   "outputs": [],
   "source": [
    "#Write dataframe to a to a csv file\n",
    "\n",
    "def write_to_csv(year_page_url, outfilename):\n",
    "    movie_df = generateDataFrame(year_page_url)\n",
    "    \n",
    "    #print(movie_df.head())\n",
    "    \n",
    "    movie_df.to_csv(outfilename)\n",
    "    \n",
    "write_to_csv('http://www.boxofficemojo.com/yearly/chart/?yr=2015&p=.htm', '2015_movies.csv')\n"
   ]
  },
  {
   "cell_type": "code",
   "execution_count": null,
   "metadata": {
    "collapsed": true
   },
   "outputs": [],
   "source": []
  }
 ],
 "metadata": {
  "kernelspec": {
   "display_name": "Python 3",
   "language": "python",
   "name": "python3"
  },
  "language_info": {
   "codemirror_mode": {
    "name": "ipython",
    "version": 3
   },
   "file_extension": ".py",
   "mimetype": "text/x-python",
   "name": "python",
   "nbconvert_exporter": "python",
   "pygments_lexer": "ipython3",
   "version": "3.5.1"
  }
 },
 "nbformat": 4,
 "nbformat_minor": 0
}
