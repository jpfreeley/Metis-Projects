{
 "cells": [
  {
   "cell_type": "code",
   "execution_count": 1,
   "metadata": {
    "collapsed": false
   },
   "outputs": [
    {
     "name": "stderr",
     "output_type": "stream",
     "text": [
      "/Users/kenn/anaconda/lib/python3.5/site-packages/matplotlib/__init__.py:872: UserWarning: axes.color_cycle is deprecated and replaced with axes.prop_cycle; please use the latter.\n",
      "  warnings.warn(self.msg_depr % (key, alt_key))\n"
     ]
    }
   ],
   "source": [
    "import pandas as pd\n",
    "import matplotlib.pyplot as plt\n",
    "import numpy as np\n",
    "import seaborn as sns\n",
    "%matplotlib inline"
   ]
  },
  {
   "cell_type": "code",
   "execution_count": 2,
   "metadata": {
    "collapsed": false
   },
   "outputs": [],
   "source": [
    "IMDB_ratings = pd.read_csv('movie_books_IMDB_ratings.csv', index_col=0)"
   ]
  },
  {
   "cell_type": "code",
   "execution_count": 3,
   "metadata": {
    "collapsed": true
   },
   "outputs": [],
   "source": [
    "GR_ratings = pd.read_csv('movie_books_GR_ratings.csv', index_col=0)"
   ]
  },
  {
   "cell_type": "code",
   "execution_count": 4,
   "metadata": {
    "collapsed": true
   },
   "outputs": [],
   "source": [
    "MC_ratings = pd.read_csv('movie_books_MC_ratings.csv', index_col=0)"
   ]
  },
  {
   "cell_type": "code",
   "execution_count": 5,
   "metadata": {
    "collapsed": false
   },
   "outputs": [
    {
     "name": "stdout",
     "output_type": "stream",
     "text": [
      "                                 Title  IMDBRating  IMDBRatingCount  \\\n",
      "0                       Hababam Sinifi         9.4            23702   \n",
      "1                        The Godfather         9.2          1092296   \n",
      "2  National Theatre Live: Frankenstein         9.1             1081   \n",
      "3               The Godfather: Part II         9.0           742587   \n",
      "4         Hababam Sinifi Sinifta Kaldi         9.0            14725   \n",
      "\n",
      "   IMDBMCRating  IMDBMCRatingCount  \n",
      "0           NaN                NaN  \n",
      "1           100                 14  \n",
      "2           NaN                NaN  \n",
      "3            80                 10  \n",
      "4           NaN                NaN  \n"
     ]
    }
   ],
   "source": [
    "print(IMDB_ratings.head())"
   ]
  },
  {
   "cell_type": "code",
   "execution_count": 6,
   "metadata": {
    "collapsed": false
   },
   "outputs": [
    {
     "name": "stdout",
     "output_type": "stream",
     "text": [
      "                                           Title  GRRating  GRRatingCount\n",
      "0                                 Hababam Sinifi      4.28            713\n",
      "1                                  The Godfather      4.34         231557\n",
      "2                         The Godfather: Part II      4.50              4\n",
      "3                                     Fight Club      4.19         330059\n",
      "4  The Lord of the Rings: The Return of the King      4.16             82\n"
     ]
    }
   ],
   "source": [
    "print(GR_ratings.head())"
   ]
  },
  {
   "cell_type": "code",
   "execution_count": 7,
   "metadata": {
    "collapsed": false
   },
   "outputs": [
    {
     "name": "stdout",
     "output_type": "stream",
     "text": [
      "                                               Title  MCUserRating  \\\n",
      "0                                      The Godfather           9.1   \n",
      "1                             The Godfather: Part II           9.1   \n",
      "2                                         Fight Club           9.0   \n",
      "3      The Lord of the Rings: The Return of the King           9.0   \n",
      "4  The Lord of the Rings: The Fellowship of the Ring           9.0   \n",
      "\n",
      "   MCUserRatingCount  MCCriticRating  MCCriticRatingCount  \n",
      "0               1771             100                   14  \n",
      "1                465              80                   10  \n",
      "2               1238              66                   35  \n",
      "3               2444              94                   41  \n",
      "4               1608              92                   34  \n"
     ]
    }
   ],
   "source": [
    "print(MC_ratings.head())"
   ]
  },
  {
   "cell_type": "markdown",
   "metadata": {},
   "source": [
    "## Program for plotting a rating system against GoodReads ratings"
   ]
  },
  {
   "cell_type": "code",
   "execution_count": 8,
   "metadata": {
    "collapsed": false
   },
   "outputs": [],
   "source": [
    "def plotMovieRatingAgainstGR(df1, df2, col1, col2='GRRating', ymin=0, ymax=10, xmin=2, xmax=5.25, ylim=10):\n",
    "    merged_data = pd.merge(df1, df2, on='Title')\n",
    "    ratings_df = merged_data[['Title', col1, col2]]\n",
    "    ratings_df = ratings_df.sort_values(by=col2, ascending=True)\n",
    "    ratings_df = ratings_df[ratings_df[col2] > 0]\n",
    "    ratings_df = ratings_df.dropna()\n",
    "    \n",
    "    ratings_df.plot(x=col2, y=col1, kind='scatter', figsize=(7,5))\n",
    "    fit = np.polyfit(ratings_df[col2], ratings_df[col1], 1)\n",
    "    line = np.poly1d(fit)\n",
    "    xpoints = np.linspace(0.0,5.0,100)\n",
    "    plt.plot(xpoints, line(xpoints), '-', color='b', label='Observed')\n",
    "    \n",
    "    factor = ymax//5\n",
    "    factor2 = factor//2\n",
    "    defaultx = [float(x)/factor for x in range(0,ymax+factor2)]\n",
    "    defaulty = list(range(0,ymax+factor2))\n",
    "    assert len(defaultx) == len(defaulty)\n",
    "    plt.plot(defaultx,defaulty,color='r', label='Expected')\n",
    "\n",
    "\n",
    "    plt.title(col1 + ' vs ' + col2)\n",
    "    plt.legend(loc='upper left')\n",
    "    plt.xlabel(col2)\n",
    "    plt.ylabel(col1)\n",
    "    plt.ylim([ymin,ylim])\n",
    "    plt.xlim([xmin,xmax])\n",
    "    "
   ]
  },
  {
   "cell_type": "markdown",
   "metadata": {},
   "source": [
    "## Create a Z-score for a column in a DF"
   ]
  },
  {
   "cell_type": "code",
   "execution_count": 9,
   "metadata": {
    "collapsed": true
   },
   "outputs": [],
   "source": [
    "def getZscoreOfCol(df,col):\n",
    "    df[(col+'_zscore')] = (df[col] - df[col].mean())/df[col].std(ddof=0)\n",
    "    \n",
    "    return df"
   ]
  },
  {
   "cell_type": "code",
   "execution_count": 63,
   "metadata": {
    "collapsed": true
   },
   "outputs": [],
   "source": [
    "def getZscoreDiffofMovieAndBook(moviedf, GRdf, moviecol, GRcol='GRRating', want='bettermovies'):\n",
    "    assert want == 'bettermovies' or want == 'betterbooks'\n",
    "    movie_z = moviecol+'_zscore'\n",
    "    GR_z = GRcol+'_zscore'\n",
    "    \n",
    "    moviedf = moviedf[moviedf[moviecol] > 0]\n",
    "    GRdf = GRdf[GRdf[GRcol] > 0]\n",
    "    z_movie_rating = getZscoreOfCol(moviedf, moviecol)\n",
    "    z_GR_ratings = getZscoreOfCol(GRdf, GRcol)\n",
    "    merged_df = pd.merge(z_movie_rating, z_GR_ratings, on='Title')\n",
    "    if want == 'bettermovies':\n",
    "        merged_df['ZS_diff'] = merged_df[movie_z] - merged_df[GR_z]\n",
    "    elif want == 'betterbooks':\n",
    "        merged_df['ZS_diff'] = merged_df[GR_z] - merged_df[movie_z]\n",
    "    \n",
    "    zs_diff_df = merged_df[['Title', moviecol, GRcol, 'ZS_diff']]\n",
    "    sort_zs = zs_diff_df.sort_values(by='ZS_diff', ascending=False)\n",
    "    \n",
    "    return sort_zs\n",
    "    "
   ]
  },
  {
   "cell_type": "markdown",
   "metadata": {},
   "source": [
    "## Compare IMDB user ratings against GR user ratings"
   ]
  },
  {
   "cell_type": "code",
   "execution_count": 49,
   "metadata": {
    "collapsed": false,
    "scrolled": true
   },
   "outputs": [
    {
     "data": {
      "image/png": "[encoded data removed]",
      "text/plain": [
       "<matplotlib.figure.Figure at 0x10baf8048>"
      ]
     },
     "metadata": {},
     "output_type": "display_data"
    }
   ],
   "source": [
    "plotMovieRatingAgainstGR(IMDB_ratings, GR_ratings, 'IMDBRating', col2='GRRating', ymin=7.5, ymax=10, xmin=1.5, xmax=5.25, ylim=9.75)"
   ]
  },
  {
   "cell_type": "code",
   "execution_count": 79,
   "metadata": {
    "collapsed": false
   },
   "outputs": [
    {
     "name": "stderr",
     "output_type": "stream",
     "text": [
      "/Users/kenn/anaconda/lib/python3.5/site-packages/ipykernel/__main__.py:2: SettingWithCopyWarning: \n",
      "A value is trying to be set on a copy of a slice from a DataFrame.\n",
      "Try using .loc[row_indexer,col_indexer] = value instead\n",
      "\n",
      "See the caveats in the documentation: http://pandas.pydata.org/pandas-docs/stable/indexing.html#indexing-view-versus-copy\n",
      "  from ipykernel import kernelapp as app\n"
     ]
    }
   ],
   "source": [
    "z_IMDB_GR_movies = getZscoreDiffofMovieAndBook(IMDB_ratings, GR_ratings, 'IMDBRating', 'GRRating', want='bettermovies')\n",
    "    "
   ]
  },
  {
   "cell_type": "code",
   "execution_count": 80,
   "metadata": {
    "collapsed": false
   },
   "outputs": [
    {
     "name": "stdout",
     "output_type": "stream",
     "text": [
      "                                             Title  IMDBRating  GRRating  \\\n",
      "308               Mishima: A Life in Four Chapters         7.9      2.00   \n",
      "0                                   Hababam Sinifi         9.4      4.28   \n",
      "44                                 Bicycle Thieves         8.4      2.97   \n",
      "5                                        Morometii         8.9      3.80   \n",
      "15                                    La Celestina         8.6      3.38   \n",
      "71                           Make Way for Tomorrow         8.3      3.00   \n",
      "1                                    The Godfather         9.2      4.34   \n",
      "14                           It's a Wonderful Life         8.6      3.47   \n",
      "31                   When Knighthood Was in Flower         8.5      3.42   \n",
      "33                                       Anugraham         8.5      3.46   \n",
      "50                                Clouds at Sunset         8.4      3.33   \n",
      "4    The Lord of the Rings: The Return of the King         8.9      4.16   \n",
      "7                                     Forrest Gump         8.8      4.03   \n",
      "52                                          Amalia         8.4      3.44   \n",
      "3                                       Fight Club         8.9      4.19   \n",
      "329                                  Hôtel du Nord         7.9      2.78   \n",
      "74                                             Noz         8.3      3.38   \n",
      "64                                     The Heiress         8.3      3.39   \n",
      "17                                  Apocalypse Now         8.5      3.72   \n",
      "32                                 Janice Meredith         8.5      3.72   \n",
      "\n",
      "      ZS_diff  \n",
      "308  4.424593  \n",
      "0    4.292770  \n",
      "44   3.799042  \n",
      "5    3.561232  \n",
      "15   3.487892  \n",
      "71   3.303769  \n",
      "1    3.302224  \n",
      "14   3.238631  \n",
      "31   2.964923  \n",
      "33   2.854140  \n",
      "50   2.801998  \n",
      "4    2.564187  \n",
      "7    2.512045  \n",
      "52   2.497346  \n",
      "3    2.481100  \n",
      "329  2.264330  \n",
      "74   2.251333  \n",
      "64   2.223638  \n",
      "17   2.134053  \n",
      "32   2.134053  \n"
     ]
    }
   ],
   "source": [
    "print(z_IMDB_GR_movies.head(20))"
   ]
  },
  {
   "cell_type": "code",
   "execution_count": 72,
   "metadata": {
    "collapsed": false,
    "scrolled": false
   },
   "outputs": [
    {
     "name": "stderr",
     "output_type": "stream",
     "text": [
      "/Users/kenn/anaconda/lib/python3.5/site-packages/ipykernel/__main__.py:2: SettingWithCopyWarning: \n",
      "A value is trying to be set on a copy of a slice from a DataFrame.\n",
      "Try using .loc[row_indexer,col_indexer] = value instead\n",
      "\n",
      "See the caveats in the documentation: http://pandas.pydata.org/pandas-docs/stable/indexing.html#indexing-view-versus-copy\n",
      "  from ipykernel import kernelapp as app\n"
     ]
    }
   ],
   "source": [
    "z_IMDB_GR_books = getZscoreDiffofMovieAndBook(IMDB_ratings, GR_ratings, 'IMDBRating', 'GRRating', want='betterbooks')"
   ]
  },
  {
   "cell_type": "code",
   "execution_count": 73,
   "metadata": {
    "collapsed": false
   },
   "outputs": [
    {
     "name": "stdout",
     "output_type": "stream",
     "text": [
      "                                   Title  IMDBRating  GRRating   ZS_diff\n",
      "325                            Le Doulos         7.9      5.00  3.884111\n",
      "334                   Tuntematon sotilas         7.9      5.00  3.884111\n",
      "323                      Street of Shame         7.9      5.00  3.884111\n",
      "235                            Desu nôto         8.0      5.00  3.471925\n",
      "247                               Pinjar         8.0      5.00  3.471925\n",
      "260                            Pod igoto         8.0      4.89  3.167273\n",
      "306                         O Lucky Man!         7.9      4.50  2.499327\n",
      "333               The Smiling Lieutenant         7.9      4.50  2.499327\n",
      "277                    Miller's Crossing         7.9      4.46  2.388545\n",
      "268    The Hobbit: An Unexpected Journey         7.9      4.39  2.194675\n",
      "283                                  Hud         7.9      4.33  2.028501\n",
      "271               The Fault in Our Stars         7.9      4.33  2.028501\n",
      "180                          Napos oldal         8.1      4.58  1.896520\n",
      "337                 Orphans of the Storm         7.9      4.27  1.862327\n",
      "272  The Hobbit: The Desolation of Smaug         7.9      4.27  1.862327\n",
      "225        That Obscure Object of Desire         8.0      4.40  1.810184\n",
      "222                 Beauty and the Beast         8.0      4.39  1.782489\n",
      "191                  Slumdog Millionaire         8.0      4.38  1.754793\n",
      "240                               Hunger         8.0      4.37  1.727097\n",
      "286                     The Caine Mutiny         7.9      4.20  1.668457\n"
     ]
    }
   ],
   "source": [
    "print(z_IMDB_GR_books.head(20))"
   ]
  },
  {
   "cell_type": "markdown",
   "metadata": {},
   "source": [
    "## Compare MC user ratings against GR user ratings"
   ]
  },
  {
   "cell_type": "code",
   "execution_count": 16,
   "metadata": {
    "collapsed": false
   },
   "outputs": [
    {
     "data": {
      "image/png": "[encoded data removed]",
      "text/plain": [
       "<matplotlib.figure.Figure at 0x10b4f6550>"
      ]
     },
     "metadata": {},
     "output_type": "display_data"
    }
   ],
   "source": [
    "plotMovieRatingAgainstGR(MC_ratings, GR_ratings, 'MCUserRating', col2='GRRating', ymin=4, ymax=10, xmin=2.5, xmax=5.25, ylim=10.5)"
   ]
  },
  {
   "cell_type": "markdown",
   "metadata": {},
   "source": [
    "Lost a lot of data points collecting the MC user ratings. IMDB doesn't show"
   ]
  },
  {
   "cell_type": "markdown",
   "metadata": {
    "collapsed": true
   },
   "source": [
    "## Compare MC Critic ratings to Goodreads User ratings (what 538 did)"
   ]
  },
  {
   "cell_type": "code",
   "execution_count": 17,
   "metadata": {
    "collapsed": false,
    "scrolled": true
   },
   "outputs": [
    {
     "data": {
      "image/png": "[encoded data removed]",
      "text/plain": [
       "<matplotlib.figure.Figure at 0x10b554b38>"
      ]
     },
     "metadata": {},
     "output_type": "display_data"
    }
   ],
   "source": [
    "plotMovieRatingAgainstGR(MC_ratings, GR_ratings, 'MCCriticRating', col2='GRRating', ymin=20, ymax=100, xmin=2, xmax=5.25, ylim=110)"
   ]
  },
  {
   "cell_type": "code",
   "execution_count": 75,
   "metadata": {
    "collapsed": false
   },
   "outputs": [
    {
     "name": "stderr",
     "output_type": "stream",
     "text": [
      "/Users/kenn/anaconda/lib/python3.5/site-packages/ipykernel/__main__.py:2: SettingWithCopyWarning: \n",
      "A value is trying to be set on a copy of a slice from a DataFrame.\n",
      "Try using .loc[row_indexer,col_indexer] = value instead\n",
      "\n",
      "See the caveats in the documentation: http://pandas.pydata.org/pandas-docs/stable/indexing.html#indexing-view-versus-copy\n",
      "  from ipykernel import kernelapp as app\n"
     ]
    }
   ],
   "source": [
    "z_MC_GR_movies = getZscoreDiffofMovieAndBook(MC_ratings, GR_ratings, 'MCCriticRating', 'GRRating', want='bettermovies')\n",
    "    "
   ]
  },
  {
   "cell_type": "code",
   "execution_count": 78,
   "metadata": {
    "collapsed": false
   },
   "outputs": [
    {
     "name": "stdout",
     "output_type": "stream",
     "text": [
      "                             Title  MCCriticRating  GRRating   ZS_diff\n",
      "30                      Metropolis              98      3.48  2.648640\n",
      "75                  The Iron Giant              85      3.33  2.326382\n",
      "84                     The Servant              93      3.68  1.810998\n",
      "71                    The Graduate              77      3.40  1.678547\n",
      "93  Crouching Tiger, Hidden Dragon              93      3.75  1.617128\n",
      "31          Rocco and His Brothers              84      3.57  1.604940\n",
      "72                Scent of a Woman              59      3.07  1.571084\n",
      "63             Catch Me If You Can              76      3.43  1.538715\n",
      "11                  Apocalypse Now              90      3.72  1.529979\n",
      "40                          Rififi              97      3.89  1.456371\n"
     ]
    }
   ],
   "source": [
    "print(z_MC_GR_movies.head(10))"
   ]
  },
  {
   "cell_type": "code",
   "execution_count": null,
   "metadata": {
    "collapsed": true
   },
   "outputs": [],
   "source": []
  }
 ],
 "metadata": {
  "kernelspec": {
   "display_name": "Python 3",
   "language": "python",
   "name": "python3"
  },
  "language_info": {
   "codemirror_mode": {
    "name": "ipython",
    "version": 3
   },
   "file_extension": ".py",
   "mimetype": "text/x-python",
   "name": "python",
   "nbconvert_exporter": "python",
   "pygments_lexer": "ipython3",
   "version": "3.5.1"
  }
 },
 "nbformat": 4,
 "nbformat_minor": 0
}
