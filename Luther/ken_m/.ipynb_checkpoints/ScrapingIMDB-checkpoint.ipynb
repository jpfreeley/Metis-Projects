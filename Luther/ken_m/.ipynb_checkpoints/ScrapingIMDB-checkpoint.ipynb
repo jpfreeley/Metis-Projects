{
 "cells": [
  {
   "cell_type": "code",
   "execution_count": 73,
   "metadata": {
    "collapsed": true
   },
   "outputs": [],
   "source": [
    "import requests\n",
    "from bs4 import BeautifulSoup\n",
    "import re\n",
    "import pandas as pd\n",
    "from collections import defaultdict"
   ]
  },
  {
   "cell_type": "code",
   "execution_count": 49,
   "metadata": {
    "collapsed": true
   },
   "outputs": [],
   "source": [
    "def readPage(year_page_url):\n",
    "    response = requests.get(year_page_url)\n",
    "    page = response.text\n",
    "    soupPage = BeautifulSoup(page, 'lxml')\n",
    "  \n",
    "    return soupPage"
   ]
  },
  {
   "cell_type": "code",
   "execution_count": 50,
   "metadata": {
    "collapsed": false
   },
   "outputs": [],
   "source": [
    "## create function to scrape page\n",
    "## use function to scrape first page\n",
    "## then go to the second page (find link for \"Next\") and use\n",
    "## the same function to scrape the second page\n",
    "\n",
    "def scrapeYearPage(page_url):\n",
    "    page_data = readPage(page_url)\n",
    "    \n",
    "    movie_name_list = []\n",
    "    movie_link_list = []\n",
    "    \n",
    "    movie_data = page_data.find_all('a', href=re.compile('^/title'), title='')\n",
    "    next_link = 'http://www.imdb.com' + page_data.find(text=re.compile('Next')).parent['href']\n",
    "    \n",
    "    for movie in movie_data:\n",
    "        movie_name_list.append(movie.text)\n",
    "        movie_link_list.append('http://www.imdb.com' + movie['href'])\n",
    "        \n",
    "    \n",
    "    return list(zip(movie_name_list, movie_link_list)), next_link\n",
    "    #return data and next link\n",
    "\n",
    "#print(scrapeYearPage('http://www.imdb.com/search/title?at=0&sort=boxoffice_gross_us,desc&title_type=feature&year=2015,2015'))\n",
    "\n",
    "    \n"
   ]
  },
  {
   "cell_type": "code",
   "execution_count": 74,
   "metadata": {
    "collapsed": false
   },
   "outputs": [],
   "source": [
    "def scrapeYearMultiPages(first_page_url, num_pages=2):\n",
    "    movie_list = []\n",
    "    next_page_url = first_page_url\n",
    "    \n",
    "    for _ in range(num_pages):\n",
    "        movies, next_page_url = scrapeYearPage(next_page_url)\n",
    "        for movie in movies:\n",
    "            movie_list.append(movie)\n",
    "            \n",
    "    return movie_list\n",
    "\n",
    "#print(scrapeYearMultiPages('http://www.imdb.com/search/title?at=0&sort=boxoffice_gross_us,desc&title_type=feature&year=2015,2015'))\n",
    "    "
   ]
  },
  {
   "cell_type": "code",
   "execution_count": 63,
   "metadata": {
    "collapsed": true
   },
   "outputs": [],
   "source": [
    "def getMovieValue(soup, itemprop_value):\n",
    "    value = soup.find('span', itemprop=itemprop_value)\n",
    "    return value.text\n",
    "    "
   ]
  },
  {
   "cell_type": "code",
   "execution_count": 67,
   "metadata": {
    "collapsed": true
   },
   "outputs": [],
   "source": [
    "#scrape each movie page for ratings\n",
    "\n",
    "def scrapeMoviePage(page_link):\n",
    "    page = readPage(page_link)\n",
    "    \n",
    "    ratingValue = float(getMovieValue(page, 'ratingValue'))\n",
    "    ratingCount = int(getMovieValue(page, 'ratingCount').replace(',', ''))\n",
    "    \n",
    "    return [ratingValue, ratingCount]\n",
    "    \n",
    "    \n",
    "    \n",
    "\n"
   ]
  },
  {
   "cell_type": "code",
   "execution_count": 75,
   "metadata": {
    "collapsed": false
   },
   "outputs": [],
   "source": [
    "def scrapeAllMoviesPages(year_page_url):\n",
    "    movie_names_links = scrapeYearMultiPages(year_page_url)\n",
    "    \n",
    "    movie_names = []\n",
    "    movie_ratings = []\n",
    "    movie_ratings_count = []\n",
    "    \n",
    "    for movie in movie_names_links:\n",
    "        rating_and_count = scrapeMoviePage(movie[1])\n",
    "        movie_names.append(movie[0])\n",
    "        movie_ratings.append(rating_and_count[0])\n",
    "        movie_ratings_count.append(rating_and_count[1])\n",
    "    \n",
    "    return [movie_names, movie_ratings, movie_ratings_count]\n",
    "        \n",
    "    \n",
    "#print(scrapeAllMoviePages('http://www.imdb.com/search/title?at=0&sort=boxoffice_gross_us,desc&title_type=feature&year=2015,2015'))\n",
    "    "
   ]
  },
  {
   "cell_type": "code",
   "execution_count": 71,
   "metadata": {
    "collapsed": true
   },
   "outputs": [],
   "source": [
    "def generateIMDBDataFrame(year_page_url):\n",
    "    movie_data = scrapeAllMoviesPages(year_page_url)\n",
    "    header = ['Title', 'Rating', 'RatingCount']\n",
    "    movie_data_dict = defaultdict(list)\n",
    "\n",
    "    for _ in range(len(header)):\n",
    "        movie_data_dict[header[_]] = movie_data[_]\n",
    "        \n",
    "    movie_df = pd.DataFrame(movie_data_dict)\n",
    "    movie_df = movie_df[header]\n",
    "    \n",
    "    return movie_df"
   ]
  },
  {
   "cell_type": "code",
   "execution_count": 72,
   "metadata": {
    "collapsed": true
   },
   "outputs": [],
   "source": [
    "def writeIMDBToCSV(year_page_url, outfilename):\n",
    "    movie_df = generateIMDBDataFrame(year_page_url)\n",
    "    \n",
    "    #print(movie_df.head())\n",
    "    \n",
    "    movie_df.to_csv(outfilename)\n",
    "    \n",
    "writeIMDBToCSV('http://www.imdb.com/search/title?at=0&sort=boxoffice_gross_us,desc&title_type=feature&year=2015,2015', '2015_movies_user_ratings_imdb.csv')"
   ]
  },
  {
   "cell_type": "code",
   "execution_count": null,
   "metadata": {
    "collapsed": true
   },
   "outputs": [],
   "source": []
  }
 ],
 "metadata": {
  "kernelspec": {
   "display_name": "Python 3",
   "language": "python",
   "name": "python3"
  },
  "language_info": {
   "codemirror_mode": {
    "name": "ipython",
    "version": 3
   },
   "file_extension": ".py",
   "mimetype": "text/x-python",
   "name": "python",
   "nbconvert_exporter": "python",
   "pygments_lexer": "ipython3",
   "version": "3.5.1"
  }
 },
 "nbformat": 4,
 "nbformat_minor": 0
}
