{
 "cells": [
  {
   "cell_type": "markdown",
   "metadata": {},
   "source": [
    "# What is this?\n",
    "\n",
    "This is my first attempt to predict the numbers and symbols in a KenKen puzzle. I will be using two methods to analyze the numbers in the KenKen puzzles. The first is with a support vector machine from SKlearn and the second will be with a neural network in Tensor Flow. The neural network may be overkill for this problem but it doesn't hurt to try."
   ]
  },
  {
   "cell_type": "code",
   "execution_count": 1,
   "metadata": {
    "collapsed": false
   },
   "outputs": [],
   "source": [
    "import os\n",
    "\n",
    "import matplotlib as mpl\n",
    "import matplotlib.pyplot as plt\n",
    "\n",
    "import numpy as np \n",
    "\n",
    "from scipy import ndimage as ndi\n",
    "\n",
    "from sklearn.svm import SVC, LinearSVC\n",
    "from sklearn.cross_validation import train_test_split\n",
    "from sklearn.metrics import accuracy_score, recall_score, precision_score, f1_score\n",
    "\n",
    "from skimage.feature import hog\n",
    "from skimage.transform import resize\n",
    "from skimage.measure import find_contours\n",
    "\n",
    "%matplotlib inline"
   ]
  },
  {
   "cell_type": "code",
   "execution_count": 1,
   "metadata": {
    "collapsed": true
   },
   "outputs": [],
   "source": [
    "IMAGE_DIR = 'distorted_from_artificial/'\n",
    "DIR_LIST = ['0','1','2','3','4','5','6','7','8','9','X','plus','minus','div']\n",
    "IMAGE_SIZE = 28"
   ]
  },
  {
   "cell_type": "markdown",
   "metadata": {},
   "source": [
    "Import data"
   ]
  },
  {
   "cell_type": "code",
   "execution_count": 3,
   "metadata": {
    "collapsed": true
   },
   "outputs": [],
   "source": [
    "def fetch_data():\n",
    "    dataset = []\n",
    "    labels = []\n",
    "    #i is used for creating the one-hot label by adding 1 to the index in a zeros array\n",
    "    i = 0\n",
    "    for folder in DIR_LIST:\n",
    "        #Read each image from the folder in full_image_dir/\n",
    "        for image in os.listdir(IMAGE_DIR + folder):\n",
    "            image_file = os.path.join(IMAGE_DIR, folder, image)\n",
    "            try:\n",
    "                image_data = ndi.imread(image_file, mode = 'L')\n",
    "                image_data = resize(image_data, (IMAGE_SIZE,IMAGE_SIZE))\n",
    "                #print(image_data.shape)\n",
    "\n",
    "                assert image_data.shape == (IMAGE_SIZE, IMAGE_SIZE)\n",
    "\n",
    "                dataset.append(image_data)\n",
    "                \n",
    "                label = np.zeros(14)\n",
    "                label[i] += 1\n",
    "                \n",
    "                labels.append(label)\n",
    "            except IOError as e:\n",
    "                print('Could not read:', image_file, ':', e, '- it\\'s ok, skipping.')\n",
    "        \n",
    "        i += 1\n",
    "                \n",
    "    features = np.array(dataset)\n",
    "    labels = np.array(labels)\n",
    "    return features, labels"
   ]
  },
  {
   "cell_type": "code",
   "execution_count": 4,
   "metadata": {
    "collapsed": false
   },
   "outputs": [],
   "source": [
    "features, labels = fetch_data()"
   ]
  },
  {
   "cell_type": "markdown",
   "metadata": {},
   "source": [
    "Calculate HOG features:"
   ]
  },
  {
   "cell_type": "code",
   "execution_count": 5,
   "metadata": {
    "collapsed": false
   },
   "outputs": [],
   "source": [
    "def hoggify_features(features):\n",
    "    list_hog_fd = []\n",
    "    try:\n",
    "        for feature in features:\n",
    "            fd = hog(feature.reshape((28, 28)), \n",
    "                     orientations=9, \n",
    "                     pixels_per_cell=(14, 14), \n",
    "                     cells_per_block=(1, 1), \n",
    "                     visualise=False)\n",
    "            list_hog_fd.append(fd)\n",
    "        hog_features = np.array(list_hog_fd, 'float64')\n",
    "        return hog_features\n",
    "    except:\n",
    "        fd = hog(features, \n",
    "                 orientations=9, \n",
    "                 pixels_per_cell=(14, 14), \n",
    "                 cells_per_block=(1, 1), \n",
    "                 visualise=False)\n",
    "        return np.array(fd)"
   ]
  },
  {
   "cell_type": "code",
   "execution_count": 6,
   "metadata": {
    "collapsed": false
   },
   "outputs": [],
   "source": [
    "hog_features = hoggify_features(features)"
   ]
  },
  {
   "cell_type": "code",
   "execution_count": 7,
   "metadata": {
    "collapsed": true
   },
   "outputs": [],
   "source": [
    "X_train, X_test, y_train, y_test = train_test_split(hog_features, labels, test_size=0.2, random_state=4444)"
   ]
  },
  {
   "cell_type": "code",
   "execution_count": 8,
   "metadata": {
    "collapsed": false
   },
   "outputs": [
    {
     "data": {
      "text/plain": [
       "(4368, 36)"
      ]
     },
     "execution_count": 8,
     "metadata": {},
     "output_type": "execute_result"
    }
   ],
   "source": [
    "X_train.shape"
   ]
  },
  {
   "cell_type": "code",
   "execution_count": 9,
   "metadata": {
    "collapsed": false
   },
   "outputs": [
    {
     "data": {
      "text/plain": [
       "(4368, 14)"
      ]
     },
     "execution_count": 9,
     "metadata": {},
     "output_type": "execute_result"
    }
   ],
   "source": [
    "y_train.shape"
   ]
  },
  {
   "cell_type": "markdown",
   "metadata": {},
   "source": [
    "SKlearns SVM doesn't like one-hot format, so convert it back into a labeled format"
   ]
  },
  {
   "cell_type": "code",
   "execution_count": 10,
   "metadata": {
    "collapsed": false
   },
   "outputs": [],
   "source": [
    "y_train2 = np.array([list(label).index(1) for label in y_train])"
   ]
  },
  {
   "cell_type": "code",
   "execution_count": 11,
   "metadata": {
    "collapsed": true
   },
   "outputs": [],
   "source": [
    "y_test2 = np.array([list(label).index(1) for label in y_test])"
   ]
  },
  {
   "cell_type": "markdown",
   "metadata": {},
   "source": [
    "Import model"
   ]
  },
  {
   "cell_type": "code",
   "execution_count": 12,
   "metadata": {
    "collapsed": false
   },
   "outputs": [],
   "source": [
    "clf = LinearSVC()\n",
    "clf.fit(X_train, y_train2)\n",
    "y_pred = clf.predict(X_test)"
   ]
  },
  {
   "cell_type": "code",
   "execution_count": 13,
   "metadata": {
    "collapsed": false
   },
   "outputs": [
    {
     "name": "stdout",
     "output_type": "stream",
     "text": [
      "Accuracy: 0.9368131868131868\n",
      "Precision: 0.9386504721578202\n",
      "Recall: 0.9368131868131868\n",
      "F1: 0.9362037303266816\n"
     ]
    }
   ],
   "source": [
    "accuracy = accuracy_score(y_test2, y_pred)\n",
    "prec = precision_score(y_test2, y_pred, average='weighted')\n",
    "recall = recall_score(y_test2, y_pred, average='weighted')\n",
    "f1 = f1_score(y_test2, y_pred, average='weighted')\n",
    "print('Accuracy: {}\\nPrecision: {}\\nRecall: {}\\nF1: {}'.format(accuracy, prec, recall, f1))"
   ]
  },
  {
   "cell_type": "markdown",
   "metadata": {},
   "source": [
    "This is not as good as I was hoping but it is possible that blobs are being mispredicted as 'minus' symbols and distorted division symbols are being mispredicted as plus signs. So lets keep going."
   ]
  },
  {
   "cell_type": "markdown",
   "metadata": {},
   "source": [
    "Now test on an example image"
   ]
  },
  {
   "cell_type": "code",
   "execution_count": 14,
   "metadata": {
    "collapsed": false
   },
   "outputs": [
    {
     "data": {
      "text/plain": [
       "<matplotlib.image.AxesImage at 0x1129dbd30>"
      ]
     },
     "execution_count": 14,
     "metadata": {},
     "output_type": "execute_result"
    },
    {
     "data": {
      "image/png": "[encoded data removed]",
      "text/plain": [
       "<matplotlib.figure.Figure at 0x10fee2860>"
      ]
     },
     "metadata": {},
     "output_type": "display_data"
    }
   ],
   "source": [
    "sample4x4_orig = ndi.imread('sample4x4_clean_for_testing.jpg', mode='L')\n",
    "sample4x4 = resize(sample4x4_orig, (200,200))\n",
    "plt.imshow(sample4x4, cmap=mpl.cm.Greys_r)"
   ]
  },
  {
   "cell_type": "markdown",
   "metadata": {},
   "source": [
    "Format of rects is [topleft, topright, bottomright,bottomleft,topleft]"
   ]
  },
  {
   "cell_type": "code",
   "execution_count": 15,
   "metadata": {
    "collapsed": false
   },
   "outputs": [],
   "source": [
    "ctrs = find_contours(sample4x4, .85)\n",
    "rects = [np.array(\n",
    "        [[min(ctr, key=lambda x: x[0])[0],min(ctr, key=lambda x: x[1])[1]],\n",
    "         [min(ctr, key=lambda x: x[0])[0],max(ctr, key=lambda x: x[1])[1]],\n",
    "         [max(ctr, key=lambda x: x[0])[0],max(ctr, key=lambda x: x[1])[1]],\n",
    "         [max(ctr, key=lambda x: x[0])[0],min(ctr, key=lambda x: x[1])[1]],\n",
    "         [min(ctr, key=lambda x: x[0])[0],min(ctr, key=lambda x: x[1])[1]]])\n",
    "          for ctr in ctrs]"
   ]
  },
  {
   "cell_type": "code",
   "execution_count": 16,
   "metadata": {
    "collapsed": false
   },
   "outputs": [
    {
     "data": {
      "image/png": "[encoded data removed]",
      "text/plain": [
       "<matplotlib.figure.Figure at 0x1129d5518>"
      ]
     },
     "metadata": {},
     "output_type": "display_data"
    }
   ],
   "source": [
    "fig, ax = plt.subplots()\n",
    "ax.imshow(sample4x4[:,:], interpolation='nearest', cmap=plt.cm.gray)\n",
    "\n",
    "for n, contour in enumerate(rects):\n",
    "    ax.plot(contour[:, 1], contour[:, 0], linewidth=2)\n",
    "\n",
    "ax.axis('image')\n",
    "ax.set_xticks([])\n",
    "ax.set_yticks([])\n",
    "plt.show()"
   ]
  },
  {
   "cell_type": "code",
   "execution_count": 17,
   "metadata": {
    "collapsed": true
   },
   "outputs": [],
   "source": [
    "conversion = {0:'0',1:'1',2:'2',3:'3',4:'4',5:'5',6:'6',7:'7',8:'8',9:'9',10:'X', 11:'+',12:'-',13:'/'}"
   ]
  },
  {
   "cell_type": "code",
   "execution_count": 18,
   "metadata": {
    "collapsed": false
   },
   "outputs": [],
   "source": [
    "results = []\n",
    "for rect in rects:\n",
    "    try:\n",
    "        pt1 = rect[0][0] #m min\n",
    "        pt2 = rect[2][0] #m max\n",
    "        pt3 = rect[0][1] #n min\n",
    "        pt4 = rect[1][1] #n max\n",
    "        roi = sample4x4[int(pt1):int(pt2), int(pt3):int(pt4)] \n",
    "        roi = resize(roi, (28, 28)) \n",
    "        #print(roi)\n",
    "        roi_hog_fd = hoggify_features(roi)\n",
    "        #print(roi_hog_fd.shape)\n",
    "        nbr = clf.predict(roi_hog_fd.reshape(1,-1))[0]\n",
    "        results.append([pt1,pt2,pt3,pt4,conversion[nbr]])\n",
    "        \n",
    "    except:\n",
    "        pass"
   ]
  },
  {
   "cell_type": "code",
   "execution_count": 19,
   "metadata": {
    "collapsed": false
   },
   "outputs": [
    {
     "data": {
      "text/plain": [
       "[[0.84514170040489922, 148.15239043824701, 0.0, 98.162076271186379, '9'],\n",
       " [0.84576612903230386,\n",
       "  198.14999999999998,\n",
       "  99.843237704918067,\n",
       "  197.14999999999995,\n",
       "  '+'],\n",
       " [4.1341059602649093,\n",
       "  15.950396825396844,\n",
       "  3.3463541666666332,\n",
       "  11.881578947368405,\n",
       "  '5'],\n",
       " [4.0503472222222445,\n",
       "  15.997933884297554,\n",
       "  102.41193181818171,\n",
       "  110.95474137931033,\n",
       "  '6'],\n",
       " [6.605555555555588,\n",
       "  15.726635514018708,\n",
       "  15.407738095238054,\n",
       "  24.799382716049355,\n",
       "  '+']]"
      ]
     },
     "execution_count": 19,
     "metadata": {},
     "output_type": "execute_result"
    }
   ],
   "source": [
    "results[:5]"
   ]
  },
  {
   "cell_type": "code",
   "execution_count": 20,
   "metadata": {
    "collapsed": false
   },
   "outputs": [
    {
     "data": {
      "image/png": "[encoded data removed]",
      "text/plain": [
       "<matplotlib.figure.Figure at 0x1128ffa58>"
      ]
     },
     "metadata": {},
     "output_type": "display_data"
    }
   ],
   "source": [
    "fig, ax = plt.subplots()\n",
    "ax.imshow(sample4x4[:,:], interpolation='nearest', cmap=plt.cm.gray)\n",
    "\n",
    "for n, contour in enumerate(rects):\n",
    "    ax.plot(contour[:, 1], contour[:, 0], linewidth=2)\n",
    "\n",
    "ax.axis('image')\n",
    "ax.set_xticks([])\n",
    "ax.set_yticks([])\n",
    "\n",
    "for i in results:\n",
    "    ax.annotate('{}'.format(i[4]), xy=(i[1], i[3]))\n",
    "\n",
    "plt.show()\n"
   ]
  },
  {
   "cell_type": "markdown",
   "metadata": {},
   "source": [
    "This isn't helpful because of the contour lines picking up the edges and inner circles of numbers (6,8,9)"
   ]
  },
  {
   "cell_type": "code",
   "execution_count": 21,
   "metadata": {
    "collapsed": true
   },
   "outputs": [],
   "source": [
    "def binarize(matrix, threshold=0.3):\n",
    "    temp = deepcopy(matrix)\n",
    "    for m in range(len(temp)):\n",
    "        for n in range(len(temp[m])):\n",
    "            if temp[m][n] < threshold:\n",
    "                temp[m][n] = 0.0\n",
    "            else:\n",
    "                temp[m][n] = 1.0\n",
    "                \n",
    "    return temp"
   ]
  },
  {
   "cell_type": "code",
   "execution_count": 22,
   "metadata": {
    "collapsed": false
   },
   "outputs": [
    {
     "name": "stdout",
     "output_type": "stream",
     "text": [
      "2\n",
      "0\n",
      "2\n",
      "0\n",
      "2\n",
      "2\n",
      "2\n",
      "0\n",
      "0\n",
      "0\n",
      "0\n",
      "2\n",
      "2\n",
      "0\n",
      "0\n",
      "0\n"
     ]
    },
    {
     "data": {
      "image/png": "[encoded data removed]",
      "text/plain": [
       "<matplotlib.figure.Figure at 0x1113c02e8>"
      ]
     },
     "metadata": {},
     "output_type": "display_data"
    }
   ],
   "source": [
    "subsquares = [sample4x4[3:29,3:39],\n",
    "              sample4x4[3:29,53:89],\n",
    "              sample4x4[3:29,103:139],\n",
    "              sample4x4[3:29,153:189],\n",
    "              sample4x4[53:79,3:39],\n",
    "              sample4x4[53:79,53:89],\n",
    "              sample4x4[53:79,103:139],\n",
    "              sample4x4[53:79,153:189],\n",
    "              sample4x4[103:129,3:39],\n",
    "              sample4x4[103:129,53:89],\n",
    "              sample4x4[103:129,103:139],\n",
    "              sample4x4[103:129,153:189],\n",
    "              sample4x4[153:179,3:39],\n",
    "              sample4x4[153:179,53:89],\n",
    "              sample4x4[153:179,103:139],\n",
    "              sample4x4[153:179,153:189]\n",
    "              ]\n",
    "\n",
    "fig = plt.figure()\n",
    "i=1\n",
    "j=1\n",
    "for square in subsquares:\n",
    "    results = []\n",
    "    \n",
    "    ctrs = find_contours(square, .85)\n",
    "    rects = [np.array(\n",
    "            [[min(ctr, key=lambda x: x[0])[0],min(ctr, key=lambda x: x[1])[1]],\n",
    "             [min(ctr, key=lambda x: x[0])[0],max(ctr, key=lambda x: x[1])[1]],\n",
    "             [max(ctr, key=lambda x: x[0])[0],max(ctr, key=lambda x: x[1])[1]],\n",
    "             [max(ctr, key=lambda x: x[0])[0],min(ctr, key=lambda x: x[1])[1]],\n",
    "             [min(ctr, key=lambda x: x[0])[0],min(ctr, key=lambda x: x[1])[1]]])\n",
    "              for ctr in ctrs]\n",
    "    \n",
    "    for rect in rects:\n",
    "        try:\n",
    "            pt1 = rect[0][0] #m min\n",
    "            pt2 = rect[2][0] #m max\n",
    "            pt3 = rect[0][1] #n min\n",
    "            pt4 = rect[1][1] #n max\n",
    "            roi = square[int(pt1):int(pt2)+1, int(pt3):int(pt4)+1] \n",
    "            roi = resize(roi, (28, 28)) \n",
    "            \n",
    "            \n",
    "            '''plt.subplot(5,5,j)\n",
    "            plt.imshow(roi, interpolation='nearest', cmap=plt.cm.gray)           \n",
    "\n",
    "            j += 1'''\n",
    "            \n",
    "            #print(roi)\n",
    "            roi_hog_fd = hoggify_features(roi)\n",
    "            #print(roi_hog_fd.shape)\n",
    "            nbr = clf.predict(roi_hog_fd.reshape(1,-1))[0]\n",
    "            results.append([pt1,pt2,pt3,pt4,conversion[nbr]])\n",
    "            \n",
    "        except:\n",
    "            pass\n",
    "        \n",
    "    #filter out a result contained in another result:\n",
    "    for result in results:\n",
    "        temp = [res for res in results if res != result]\n",
    "        for other in temp:\n",
    "            if result[0] >= other[0] and result[1] <= other[1] and\\\n",
    "            result[2] >= other[2] and result[3] <= other[3]:\n",
    "                results.remove(result)\n",
    "\n",
    "    #Plot all of the subplots\n",
    "    plt.subplot(4,4,i)\n",
    "    plt.imshow(square, interpolation='nearest', cmap=plt.cm.gray)\n",
    "\n",
    "    for contour in rects:\n",
    "        plt.plot(contour[:, 1], contour[:, 0], linewidth=2)\n",
    "\n",
    "    for res in results:\n",
    "        plt.annotate('{}'.format(res[4]), xy=(res[1], res[3]))            \n",
    "\n",
    "    i += 1\n",
    "    \n",
    "    print(len(results))\n",
    "           \n",
    "                \n",
    "plt.show()"
   ]
  },
  {
   "cell_type": "markdown",
   "metadata": {
    "collapsed": true
   },
   "source": [
    "It doesn't seem to be working well. I think the problem is that the histogram or oriented gradients for my self created data isn't representative of the true data. I will now attempt a neural network"
   ]
  },
  {
   "cell_type": "markdown",
   "metadata": {},
   "source": [
    "## Tensor Flow"
   ]
  },
  {
   "cell_type": "code",
   "execution_count": 23,
   "metadata": {
    "collapsed": true
   },
   "outputs": [],
   "source": [
    "import tensorflow as tf"
   ]
  },
  {
   "cell_type": "code",
   "execution_count": 24,
   "metadata": {
    "collapsed": true
   },
   "outputs": [],
   "source": [
    "X_train, X_test, y_train, y_test = train_test_split(features, labels, test_size=0.2, random_state=4444)"
   ]
  },
  {
   "cell_type": "code",
   "execution_count": 25,
   "metadata": {
    "collapsed": true
   },
   "outputs": [],
   "source": [
    "X_train = np.array([i.reshape(-1) for i in X_train])\n",
    "X_test = np.array([i.reshape(-1) for i in X_test])"
   ]
  },
  {
   "cell_type": "code",
   "execution_count": 26,
   "metadata": {
    "collapsed": false
   },
   "outputs": [
    {
     "data": {
      "text/plain": [
       "(4368, 784)"
      ]
     },
     "execution_count": 26,
     "metadata": {},
     "output_type": "execute_result"
    }
   ],
   "source": [
    "X_train.shape"
   ]
  },
  {
   "cell_type": "code",
   "execution_count": 27,
   "metadata": {
    "collapsed": false,
    "scrolled": false
   },
   "outputs": [
    {
     "name": "stdout",
     "output_type": "stream",
     "text": [
      "step 0, training accuracy 0.0952381\n",
      "step 20, training accuracy 0.285714\n",
      "step 40, training accuracy 0.666667\n",
      "step 60, training accuracy 0.880952\n",
      "step 80, training accuracy 0.880952\n",
      "step 100, training accuracy 0.904762\n",
      "step 103, training accuracy 0.928571\n",
      "test accuracy 0.89652\n"
     ]
    }
   ],
   "source": [
    "sess = tf.InteractiveSession()\n",
    "\n",
    "x = tf.placeholder(tf.float32, shape=[None, 784])\n",
    "y_ = tf.placeholder(tf.float32, shape=[None, 14])\n",
    "\n",
    "W = tf.Variable(tf.zeros([784,14]))\n",
    "b = tf.Variable(tf.zeros([14]))\n",
    "\n",
    "\n",
    "def weight_variable(shape):\n",
    "    initial = tf.truncated_normal(shape, stddev=0.1)\n",
    "    return tf.Variable(initial)\n",
    "\n",
    "def bias_variable(shape):\n",
    "    initial = tf.constant(0.1, shape=shape)\n",
    "    return tf.Variable(initial)\n",
    "\n",
    "def conv2d(x, W):\n",
    "      return tf.nn.conv2d(x, W, strides=[1, 1, 1, 1], padding='SAME')\n",
    "\n",
    "def max_pool_2x2(x):\n",
    "      return tf.nn.max_pool(x, ksize=[1, 2, 2, 1],\n",
    "                            strides=[1, 2, 2, 1], padding='SAME')\n",
    "\n",
    "W_conv1 = weight_variable([5, 5, 1, 32])\n",
    "b_conv1 = bias_variable([32])\n",
    "\n",
    "x_image = tf.reshape(x, [-1,28,28,1])\n",
    "\n",
    "h_conv1 = tf.nn.relu(conv2d(x_image, W_conv1) + b_conv1)\n",
    "h_pool1 = max_pool_2x2(h_conv1)\n",
    "\n",
    "W_conv2 = weight_variable([5, 5, 32, 64])\n",
    "b_conv2 = bias_variable([64])\n",
    "\n",
    "h_conv2 = tf.nn.relu(conv2d(h_pool1, W_conv2) + b_conv2)\n",
    "h_pool2 = max_pool_2x2(h_conv2)\n",
    "\n",
    "W_fc1 = weight_variable([7 * 7 * 64, 1024])\n",
    "b_fc1 = bias_variable([1024])\n",
    "\n",
    "h_pool2_flat = tf.reshape(h_pool2, [-1, 7*7*64])\n",
    "h_fc1 = tf.nn.relu(tf.matmul(h_pool2_flat, W_fc1) + b_fc1)\n",
    "\n",
    "keep_prob = tf.placeholder(\"float\")\n",
    "h_fc1_drop = tf.nn.dropout(h_fc1, keep_prob)\n",
    "\n",
    "W_fc2 = weight_variable([1024, 14])\n",
    "b_fc2 = bias_variable([14])\n",
    "\n",
    "y_conv=tf.nn.softmax(tf.matmul(h_fc1_drop, W_fc2) + b_fc2)\n",
    "\n",
    "cross_entropy = -tf.reduce_sum(y_*tf.log(y_conv))\n",
    "train_step = tf.train.AdamOptimizer(1e-4).minimize(cross_entropy)\n",
    "correct_prediction = tf.equal(tf.argmax(y_conv,1), tf.argmax(y_,1))\n",
    "accuracy = tf.reduce_mean(tf.cast(correct_prediction, \"float\"))\n",
    "sess.run(tf.initialize_all_variables())\n",
    "\n",
    "#training set has 4368 units which divides evenly into 42 and 104\n",
    "for i in range(104):\n",
    "    batch_x = X_train[i*42:(i+1)*42]\n",
    "    batch_y = y_train[i*42:(i+1)*42]\n",
    "    if i%20 == 0 or i%103==0:\n",
    "        train_accuracy = accuracy.eval(feed_dict={\n",
    "            x:batch_x, y_: batch_y, keep_prob: 1.0})\n",
    "        print(\"step %d, training accuracy %g\"%(i, train_accuracy))\n",
    "    train_step.run(feed_dict={x: batch_x, y_: batch_y, keep_prob: 0.5})\n",
    "\n",
    "print(\"test accuracy %g\"%accuracy.eval(feed_dict={\n",
    "    x: X_test, y_: y_test, keep_prob: 1.0}))\n",
    "\n",
    "#sess = tf.Session()\n",
    "#sess.run(init)"
   ]
  },
  {
   "cell_type": "markdown",
   "metadata": {},
   "source": [
    "### Remarks on this modeling attempt"
   ]
  },
  {
   "cell_type": "markdown",
   "metadata": {},
   "source": [
    "Well that's discouraging. The test accuracy ended up being even lower for the NN than with the SVM. If you noticed, I used the regular, non-HOG features. This is because when I used the HOG features, my model was unable to learn from it and the accuracy floated at < 0.10. I'm going to have to obtain a new dataset."
   ]
  },
  {
   "cell_type": "code",
   "execution_count": null,
   "metadata": {
    "collapsed": true
   },
   "outputs": [],
   "source": []
  }
 ],
 "metadata": {
  "kernelspec": {
   "display_name": "py35tensor",
   "language": "python",
   "name": "py35tensor"
  },
  "language_info": {
   "codemirror_mode": {
    "name": "ipython",
    "version": 3
   },
   "file_extension": ".py",
   "mimetype": "text/x-python",
   "name": "python",
   "nbconvert_exporter": "python",
   "pygments_lexer": "ipython3",
   "version": "3.5.1"
  }
 },
 "nbformat": 4,
 "nbformat_minor": 0
}
