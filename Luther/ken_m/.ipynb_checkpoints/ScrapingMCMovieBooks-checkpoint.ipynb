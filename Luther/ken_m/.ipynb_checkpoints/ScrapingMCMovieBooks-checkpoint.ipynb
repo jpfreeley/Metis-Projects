{
 "cells": [
  {
   "cell_type": "markdown",
   "metadata": {},
   "source": [
    "# Using the MC scraper to get rating data on books"
   ]
  },
  {
   "cell_type": "code",
   "execution_count": 1,
   "metadata": {
    "collapsed": false
   },
   "outputs": [],
   "source": [
    "from MCRatingScraper import *\n",
    "from GRRatingScraper import *\n",
    "import pickle"
   ]
  },
  {
   "cell_type": "code",
   "execution_count": null,
   "metadata": {
    "collapsed": false
   },
   "outputs": [],
   "source": []
  },
  {
   "cell_type": "code",
   "execution_count": 2,
   "metadata": {
    "collapsed": false
   },
   "outputs": [],
   "source": [
    "with open(\"GR_movie_book_list.pkl\", 'rb') as picklefile: \n",
    "    GR_movie_book_list = pickle.load(picklefile)"
   ]
  },
  {
   "cell_type": "code",
   "execution_count": 5,
   "metadata": {
    "collapsed": false,
    "scrolled": false
   },
   "outputs": [
    {
     "name": "stdout",
     "output_type": "stream",
     "text": [
      "['Hababam Sinifi', 'The Godfather', 'The Godfather: Part II', 'Fight Club', 'The Lord of the Rings: The Return of the King', 'Morometii', 'The Lord of the Rings: The Fellowship of the Ring', 'Forrest Gump', 'Selvi boylum, al yazmalim', 'Goodfellas', \"One Flew Over the Cuckoo's Nest\", 'The Lord of the Rings: The Two Towers', 'Harakiri', 'The Silence of the Lambs', \"It's a Wonderful Life\", 'La Celestina', 'The Prestige', 'Apocalypse Now', 'The Green Mile', 'Psycho', 'Dr. Strangelove or: How I Learned to Stop Worrying and Love the Bomb', 'Grave of the Fireflies', 'Paths of Glory', 'Woman in the Dunes', 'Le trou', 'Guide', 'Brown of Harvard', 'Cel mai iubit dintre pamînteni', 'Forest of the Hanged', 'The Golden Calf', \"Devil's Bride\", 'When Knighthood Was in Flower', 'Janice Meredith', 'Anugraham', 'Hotaru no hikari', 'The Shining', 'Requiem for a Dream', 'A Clockwork Orange', '3 Idiots', 'Once Upon a Time in America', 'To Kill a Mockingbird', 'Double Indemnity', 'Vertigo', 'Das Boot', 'Bicycle Thieves', 'Sunrise', 'High and Low', 'The Little Fox', 'Twelve Chairs', \"Le dernier jour d'un condamné\", 'Clouds at Sunset', 'Beverly of Graustark', 'Amalia', 'The Revenant', 'Room', 'Scarface', '2001: A Space Odyssey', 'Full Metal Jacket', 'L.A. Confidential', 'Raging Bull', 'Metropolis', 'Yojimbo', 'The Treasure of the Sierra Madre', 'Rocco and His Brothers', 'The Heiress', 'Akahige', 'Pather Panchali', 'I Remember Mama', 'Viridiana', 'To Live', 'The Wind', 'Make Way for Tomorrow', 'Late Autumn', 'Sahib Bibi Aur Ghulam', 'Noz', 'The Ascent', 'Charulata', 'Die Hard', 'Blade Runner', 'Gone with the Wind', 'Trainspotting', 'How to Train Your Dragon', 'The Secret in Their Eyes', 'Casino', \"Howl's Moving Castle\", 'Cool Hand Luke', 'The Bridge on the River Kwai', 'The Maltese Falcon', 'Rebecca', 'Stalker', 'Paper Moon', 'The Best Years of Our Lives', 'The Thin Man', 'The Wages of Fear', 'Sanjuro', 'The Army of Shadows', 'Sweet Smell of Success', 'Kind Hearts and Coronets', 'Rififi', 'A Tree Grows in Brooklyn', 'My Sassy Girl', 'Z', 'Ugetsu', 'Raise the Red Lantern', 'Los santos inocentes', 'The Oak', 'Marketa Lazarová', 'Reconstruction', 'Al-ard', 'Five and Ten', 'Viento negro', 'The Crazy-Quilt', 'Lenz', 'La chambre rouge', 'The Martian', 'Harry Potter and the Deathly Hallows: Part 2', 'Gone Girl', 'Shutter Island', 'Stand by Me', 'Jurassic Park', 'No Country for Old Men', 'The Princess Bride', 'The Help', 'Jaws', 'There Will Be Blood', 'The Wizard of Oz', 'The Bourne Ultimatum', 'Young Frankenstein', 'A Christmas Story', 'Ben-Hur', 'Anatomy of a Murder', 'Barry Lyndon', 'Solaris', 'Underground', 'Strangers on a Train', 'The Night of the Hunter', 'Touch of Evil', 'The Grapes of Wrath', 'The Hustler', 'The Killing', 'The Last Picture Show', 'The Big Sleep', 'All Quiet on the Western Front', 'What Ever Happened to Baby Jane?', 'The Man Who Knew Infinity', 'Laura', 'Diabolique', 'The Conformist', 'A Christmas Carol', 'Le Samouraï', 'The Leopard', 'Out of the Past', 'Farewell My Concubine', 'Now, Voyager', 'My Man Godfrey', 'Jean de Florette', 'The Sword of Doom', 'Ben-Hur: A Tale of the Christ', 'The Ox-Bow Incident', 'The Fire Within', 'Dodsworth', 'Le Deuxieme Souffle', 'Körkarlen', 'The Burmese Harp', 'The Boys of Paul Street', 'Aparajito', 'Twenty-Four Eyes', 'Shala', 'Aandhi', 'Fate of a Man', 'Flesh and the Devil', 'Les amitiés particulières', 'The Cremator', 'Devdas', 'Love', 'Bardelys the Magnificent', 'Yama no oto', 'Kekec', 'Kuryer', \"Tol'able David\", 'Merry-Go-Round', 'Weapons of the Spirit', 'The Island of Adventure', 'The Cossacks', 'Debdas', 'Tren', 'Napos oldal', 'Luka', 'The Perks of Being a Wallflower', 'Catch Me If You Can', 'Casino Royale', 'Big Fish', 'The Sound of Music', 'Mystic River', 'Life of Pi', 'The Exorcist', 'Aladdin', 'Slumdog Millionaire', 'Planet of the Apes', 'The Graduate', 'Scent of a Woman', 'Dances with Wolves', 'The Untouchables', 'The Iron Giant', 'Let the Right One In', 'Doctor Zhivago', 'Papillon', \"Rosemary's Baby\", 'The Searchers', 'JFK', 'King Kong', 'In the Heat of the Night', 'East of Eden', 'Nosferatu', 'Being There', 'Freaks', 'Frankenstein', 'The Manchurian Candidate', 'Once Were Warriors', 'Persepolis', 'In Cold Blood', 'To Have and Have Not', 'Mildred Pierce', 'Great Expectations', 'The Lady Vanishes', 'Auntie Mame', 'Fail-Safe', 'Black Narcissus', 'Beauty and the Beast', 'The Big Heat', 'The Lost Weekend', 'That Obscure Object of Desire', 'Higanbana', 'In a Lonely Place', 'Elevator to the Gallows', 'Night and the City', 'The Servant', 'Captains Courageous', 'The Emigrants', 'A Patch of Blue', 'Random Harvest', 'Letter from an Unknown Woman', 'Desu nôto', 'Kaos', 'Rekopis znaleziony w Saragossie', 'Diary of a Lost Girl', 'This Man Must Die', 'El sur', 'Hunger', 'The Promised Land', 'Kuroi ame', 'Nazarin', 'Diary of a Country Priest', 'Fantozzi', 'Nobi', 'Pinjar', 'Mausam', 'Nybyggarna', 'Touchez Pas au Grisbi', 'Les misérables', 'Un borghese piccolo piccolo', 'La Bohème', 'Desyat negrityat', 'Tonight or Never', 'The Affairs of Anatol', 'Breza', 'Grahanam', 'Eugene Onegin', 'Way for a Sailor', 'Pod igoto', 'The Murderess', 'Gambit', 'The Village Had No Walls', 'Manon', 'Lucija', 'Toestanden', 'Potop', 'The Underground Man', 'An heiligen Wassern', 'The Hobbit: An Unexpected Journey', 'Edge of Tomorrow', 'The Notebook', 'The Fault in Our Stars', 'The Hobbit: The Desolation of Smaug', 'The Bourne Identity', 'Children of Men', 'Spartacus', 'Crouching Tiger, Hidden Dragon', \"Miller's Crossing\", \"Carlito's Way\", 'Midnight Cowboy', 'The Ten Commandments', 'My Left Foot', 'The Outlaw Josey Wales', 'Hud', 'The Remains of the Day', 'The African Queen', 'The Caine Mutiny', 'Johnny Got His Gun', 'Ice Cold in Alex', 'Imitation of Life', \"They Shoot Horses, Don't They?\", 'Two Women', \"Babette's Feast\", 'Jules and Jim', 'The Big Country', 'Bride of Frankenstein', 'The Hunchback of Notre Dame', 'The Ghost and Mrs. Muir', 'The Innocents', 'The Trial', 'Toki o kakeru shôjo', 'The Asphalt Jungle', 'The Magnificent Ambersons', 'Breaker Morant', 'The Plague Dogs', 'Elmer Gantry', 'Seven Days in May', 'O Lucky Man!', 'Scarlet Street', 'Mishima: A Life in Four Chapters', 'Mephisto', 'Greed', 'Pickpocket', 'Das Testament des Dr. Mabuse', 'This Sporting Life', 'Ashes and Diamonds', 'The Mortal Storm', 'Day of Wrath', 'Die Feuerzangenbowle', 'The Unknown', 'Le Plaisir', 'Talvisota', 'The Four Horsemen of the Apocalypse', 'Gloomy Sunday', 'Street of Shame', 'The Deluge', 'Le Doulos', 'Whistle Down the Wind', 'Beau Geste', 'La Terra Trema', 'The Nun', 'Hôtel du Nord', 'The Lacemaker', 'Klopka', 'Forbidden Games', 'Vengeance is Mine', 'The Smiling Lieutenant', 'Tuntematon sotilas', 'Crime and Punishment', 'Ukigumo', 'Orphans of the Storm', 'Red Angel', 'The Story of the Fox', 'Les Plouffe']\n"
     ]
    }
   ],
   "source": [
    "print(GR_movie_book_list)"
   ]
  },
  {
   "cell_type": "code",
   "execution_count": 7,
   "metadata": {
    "collapsed": false,
    "scrolled": true
   },
   "outputs": [],
   "source": [
    "MC_movie_book_data = scrapeMetaCritic(GR_movie_book_list[:])"
   ]
  },
  {
   "cell_type": "code",
   "execution_count": 12,
   "metadata": {
    "collapsed": false
   },
   "outputs": [],
   "source": [
    "with open(\"MC_movie_book_list.pkl\", 'wb') as picklefile: \n",
    "    pickle.dump(MC_movie_book_data, picklefile)"
   ]
  },
  {
   "cell_type": "code",
   "execution_count": 13,
   "metadata": {
    "collapsed": true
   },
   "outputs": [],
   "source": [
    "MC_movie_book_df = generateMCDataFrame(MC_movie_book_data)"
   ]
  },
  {
   "cell_type": "code",
   "execution_count": 15,
   "metadata": {
    "collapsed": false
   },
   "outputs": [],
   "source": [
    "writeMCToCSV(MC_movie_book_df, 'movie_books_MC_ratings.csv')"
   ]
  },
  {
   "cell_type": "code",
   "execution_count": null,
   "metadata": {
    "collapsed": true
   },
   "outputs": [],
   "source": []
  }
 ],
 "metadata": {
  "kernelspec": {
   "display_name": "Python 3",
   "language": "python",
   "name": "python3"
  },
  "language_info": {
   "codemirror_mode": {
    "name": "ipython",
    "version": 3
   },
   "file_extension": ".py",
   "mimetype": "text/x-python",
   "name": "python",
   "nbconvert_exporter": "python",
   "pygments_lexer": "ipython3",
   "version": "3.5.1"
  }
 },
 "nbformat": 4,
 "nbformat_minor": 0
}
