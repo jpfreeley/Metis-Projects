{
 "cells": [
  {
   "cell_type": "markdown",
   "metadata": {},
   "source": [
    "# What is this?\n",
    "\n",
    "This is my second attempt at modeling the data and predicting the numbers of the a sample KenKen puzzle. It includes most of the code from 03_modeling_part_1 but is now uses the images stored in 'true_kenken_num_images/' to train on. I also removed everything that had to do with HOG because the neural network was working better (as expected)."
   ]
  },
  {
   "cell_type": "code",
   "execution_count": 90,
   "metadata": {
    "collapsed": false
   },
   "outputs": [],
   "source": [
    "import os\n",
    "from copy import deepcopy\n",
    "\n",
    "import matplotlib as mpl\n",
    "import matplotlib.pyplot as plt\n",
    "\n",
    "import numpy as np \n",
    "\n",
    "from scipy import ndimage as ndi\n",
    "from scipy.misc import imsave\n",
    "\n",
    "from sklearn.svm import SVC, LinearSVC\n",
    "from sklearn.cross_validation import train_test_split\n",
    "from sklearn.metrics import accuracy_score, recall_score, precision_score, f1_score\n",
    "\n",
    "from skimage.transform import resize\n",
    "from skimage.measure import find_contours\n",
    "from skimage.morphology import erosion, dilation, rectangle\n",
    "\n",
    "%matplotlib inline"
   ]
  },
  {
   "cell_type": "code",
   "execution_count": 91,
   "metadata": {
    "collapsed": true
   },
   "outputs": [],
   "source": [
    "IMAGE_DIR = 'distorted_from_true/'\n",
    "DIR_LIST = ['0','1','2','3','4','5','6','7','8','9','X','plus','minus','div']\n",
    "IMAGE_SIZE = 28"
   ]
  },
  {
   "cell_type": "markdown",
   "metadata": {},
   "source": [
    "Import data"
   ]
  },
  {
   "cell_type": "code",
   "execution_count": 92,
   "metadata": {
    "collapsed": true
   },
   "outputs": [],
   "source": [
    "def fetch_data():\n",
    "    dataset = []\n",
    "    labels = []\n",
    "    #i is used for creating the one-hot label by adding 1 to the index in a zeros array\n",
    "    i = 0\n",
    "    for folder in DIR_LIST:\n",
    "        #Read each image from the folder in full_image_dir/\n",
    "        for image in os.listdir(IMAGE_DIR + folder):\n",
    "            image_file = os.path.join(IMAGE_DIR, folder, image)\n",
    "            try:\n",
    "                image_data = ndi.imread(image_file, mode = 'L')\n",
    "                image_data = resize(image_data, (IMAGE_SIZE,IMAGE_SIZE))\n",
    "                #print(image_data.shape)\n",
    "\n",
    "                assert image_data.shape == (IMAGE_SIZE, IMAGE_SIZE)\n",
    "\n",
    "                dataset.append(image_data)\n",
    "                \n",
    "                label = np.zeros(14)\n",
    "                label[i] += 1\n",
    "                \n",
    "                labels.append(label)\n",
    "            except IOError as e:\n",
    "                print('Could not read:', image_file, ':', e, '- it\\'s ok, skipping.')\n",
    "        \n",
    "        i += 1\n",
    "                \n",
    "    features = np.array(dataset)\n",
    "    labels = np.array(labels)\n",
    "    return features, labels"
   ]
  },
  {
   "cell_type": "code",
   "execution_count": 93,
   "metadata": {
    "collapsed": false
   },
   "outputs": [],
   "source": [
    "features, labels = fetch_data()"
   ]
  },
  {
   "cell_type": "markdown",
   "metadata": {},
   "source": [
    "## Tensor Flow"
   ]
  },
  {
   "cell_type": "code",
   "execution_count": 94,
   "metadata": {
    "collapsed": true
   },
   "outputs": [],
   "source": [
    "import tensorflow as tf"
   ]
  },
  {
   "cell_type": "code",
   "execution_count": 95,
   "metadata": {
    "collapsed": true
   },
   "outputs": [],
   "source": [
    "X_train, X_test, y_train, y_test = train_test_split(features, labels, test_size=0.2, random_state=4444)"
   ]
  },
  {
   "cell_type": "code",
   "execution_count": 96,
   "metadata": {
    "collapsed": true
   },
   "outputs": [],
   "source": [
    "X_train = np.array([i.reshape(-1) for i in X_train])\n",
    "X_test = np.array([i.reshape(-1) for i in X_test])"
   ]
  },
  {
   "cell_type": "code",
   "execution_count": 97,
   "metadata": {
    "collapsed": false
   },
   "outputs": [
    {
     "data": {
      "text/plain": [
       "(784,)"
      ]
     },
     "execution_count": 97,
     "metadata": {},
     "output_type": "execute_result"
    }
   ],
   "source": [
    "X_train[0].shape"
   ]
  },
  {
   "cell_type": "code",
   "execution_count": 98,
   "metadata": {
    "collapsed": false
   },
   "outputs": [
    {
     "data": {
      "text/plain": [
       "numpy.float64"
      ]
     },
     "execution_count": 98,
     "metadata": {},
     "output_type": "execute_result"
    }
   ],
   "source": [
    "type(X_train[0][0])"
   ]
  },
  {
   "cell_type": "code",
   "execution_count": 99,
   "metadata": {
    "collapsed": false
   },
   "outputs": [
    {
     "data": {
      "text/plain": [
       "(11544, 784)"
      ]
     },
     "execution_count": 99,
     "metadata": {},
     "output_type": "execute_result"
    }
   ],
   "source": [
    "X_train.shape"
   ]
  },
  {
   "cell_type": "code",
   "execution_count": 100,
   "metadata": {
    "collapsed": true
   },
   "outputs": [],
   "source": [
    "##Function for creating batches\n",
    "def batch_data(x, y, size):\n",
    "    perm = np.arange(len(x))\n",
    "    np.random.shuffle(perm)\n",
    "    x = x[perm]\n",
    "    y = y[perm]\n",
    "    return x[:size],y[:size]"
   ]
  },
  {
   "cell_type": "code",
   "execution_count": 101,
   "metadata": {
    "collapsed": false,
    "scrolled": true
   },
   "outputs": [
    {
     "name": "stdout",
     "output_type": "stream",
     "text": [
      "step 0, training accuracy 0.08\n",
      "Model saved in file: model_newest.ckpt\n",
      "step 500, training accuracy 1\n",
      "step 1000, training accuracy 1\n",
      "Model saved in file: model_newest.ckpt\n",
      "step 1500, training accuracy 1\n",
      "step 2000, training accuracy 1\n",
      "Model saved in file: model_newest.ckpt\n",
      "step 2500, training accuracy 1\n",
      "step 3000, training accuracy 1\n",
      "Model saved in file: model_newest.ckpt\n",
      "step 3500, training accuracy 1\n",
      "step 4000, training accuracy 1\n",
      "Model saved in file: model_newest.ckpt\n",
      "step 4500, training accuracy 1\n",
      "step 5000, training accuracy 1\n",
      "Model saved in file: model_newest.ckpt\n",
      "test accuracy 1\n"
     ]
    }
   ],
   "source": [
    "def weight_variable(shape):\n",
    "    initial = tf.truncated_normal(shape, stddev=0.1)\n",
    "    return tf.Variable(initial)\n",
    "\n",
    "def bias_variable(shape):\n",
    "    initial = tf.constant(0.1, shape=shape)\n",
    "    return tf.Variable(initial)\n",
    "\n",
    "def conv2d(x, W):\n",
    "    return tf.nn.conv2d(x, W, strides=[1, 1, 1, 1], padding='SAME')\n",
    "\n",
    "def max_pool_2x2(x):\n",
    "    return tf.nn.max_pool(x, ksize=[1, 2, 2, 1],\n",
    "                            strides=[1, 2, 2, 1], padding='SAME')\n",
    "    \n",
    "\n",
    "with tf.Graph().as_default():\n",
    "    x = tf.placeholder(tf.float32, shape=[None, 784])\n",
    "    y_ = tf.placeholder(tf.float32, shape=[None, 14])\n",
    "    W = tf.Variable(tf.zeros([784,14]))\n",
    "    b = tf.Variable(tf.zeros([14]))\n",
    "\n",
    "    #Inference\n",
    "    with tf.name_scope('hidden1'):\n",
    "        W_conv1 = weight_variable([5, 5, 1, 32])\n",
    "        b_conv1 = bias_variable([32])\n",
    "        x_image = tf.reshape(x, [-1,28,28,1])\n",
    "        hidden1 = tf.nn.relu(conv2d(x_image, W_conv1) + b_conv1)\n",
    "\n",
    "    with tf.name_scope('hidden2'):\n",
    "        h_pool1 = max_pool_2x2(hidden1)\n",
    "        W_conv2 = weight_variable([5, 5, 32, 64])\n",
    "        b_conv2 = bias_variable([64])\n",
    "        h_conv2 = tf.nn.relu(conv2d(h_pool1, W_conv2) + b_conv2)\n",
    "\n",
    "    with tf.name_scope('fully_connected'):\n",
    "        h_pool2 = max_pool_2x2(h_conv2)\n",
    "        W_fc1 = weight_variable([7 * 7 * 64, 1024])\n",
    "        b_fc1 = bias_variable([1024])\n",
    "        h_pool2_flat = tf.reshape(h_pool2, [-1, 7*7*64])\n",
    "        fully_connected = tf.nn.relu(tf.matmul(h_pool2_flat, W_fc1) + b_fc1)\n",
    "\n",
    "    with tf.name_scope('dropout'):\n",
    "        keep_prob = tf.placeholder(tf.float32)\n",
    "        dropout = tf.nn.dropout(fully_connected, keep_prob)\n",
    "\n",
    "    with tf.name_scope('softmax'):\n",
    "        W_fc2 = weight_variable([1024, 14])\n",
    "        b_fc2 = bias_variable([14])\n",
    "        y_conv=tf.nn.softmax(tf.matmul(dropout, W_fc2) + b_fc2)\n",
    "\n",
    "    #Loss\n",
    "    cross_entropy = -tf.reduce_sum(y_*tf.log(y_conv), name='xentropy')\n",
    "\n",
    "    #Training\n",
    "    tf.scalar_summary(cross_entropy.op.name, cross_entropy)\n",
    "    global_step=tf.Variable(0,name='global_step',trainable=False)\n",
    "    train_step = tf.train.AdamOptimizer(1e-4).minimize(cross_entropy,global_step=global_step)\n",
    "\n",
    "    #Evaluation\n",
    "    correct_prediction = tf.equal(tf.argmax(y_conv,1), tf.argmax(y_,1))\n",
    "    accuracy = tf.reduce_mean(tf.cast(correct_prediction, tf.float32))\n",
    "\n",
    "    #Prediction\n",
    "    prediction = tf.argmax(y_conv,1)\n",
    "\n",
    "    #Initialization\n",
    "    sess = tf.Session()\n",
    "    init = tf.initialize_all_variables()\n",
    "    saver = tf.train.Saver()\n",
    "\n",
    "    sess.run(init)\n",
    "\n",
    "    #Restore\n",
    "    saver.restore(sess,\"model_newest.ckpt\")\n",
    "\n",
    "##############################################\n",
    "# If you are doing this from scratch (meaning#\n",
    "# no existing 'model_newest.ckpt') then      #\n",
    "# uncomment the stuff below and comment out  #\n",
    "# the 'Restore' section above. Let the code  #\n",
    "# run and then restore the original comments.#\n",
    "# You also wont need to import all of the    #\n",
    "# images in the above section to create      #\n",
    "# training sets since you won't be training  #\n",
    "##############################################\n",
    "    \n",
    "#Training    \n",
    "'''for i in range(5001):\n",
    "    batch_x, batch_y = batch_data(X_train, y_train,50)\n",
    "    if i%500 == 0:\n",
    "        train_accuracy = accuracy.eval(feed_dict={\n",
    "            x:batch_x, y_: batch_y, keep_prob: 1.0}, session=sess)\n",
    "        print(\"step %d, training accuracy %g\"%(i, train_accuracy))\n",
    "    if i%1000 == 0:\n",
    "        save_path = saver.save(sess,\"model_newest.ckpt\")\n",
    "        print(\"Model saved in file: %s\" % save_path)\n",
    "    train_step.run(feed_dict={x: batch_x, y_: batch_y, keep_prob: 0.5}, session=sess)\n",
    "\n",
    "print(\"test accuracy %g\"%accuracy.eval(feed_dict={\n",
    "    x: X_test, y_: y_test, keep_prob: 1.0}, session=sess))\n",
    "'''"
   ]
  },
  {
   "cell_type": "markdown",
   "metadata": {},
   "source": [
    "When you run the training, the accuracy was something like 0.998"
   ]
  },
  {
   "cell_type": "markdown",
   "metadata": {},
   "source": [
    "Now test on an example image"
   ]
  },
  {
   "cell_type": "code",
   "execution_count": 16,
   "metadata": {
    "collapsed": false
   },
   "outputs": [
    {
     "data": {
      "text/plain": [
       "<matplotlib.image.AxesImage at 0x1105df048>"
      ]
     },
     "execution_count": 16,
     "metadata": {},
     "output_type": "execute_result"
    },
    {
     "data": {
      "image/png": "[encoded data removed]",
      "text/plain": [
       "<matplotlib.figure.Figure at 0x111df6da0>"
      ]
     },
     "metadata": {},
     "output_type": "display_data"
    }
   ],
   "source": [
    "sample4x4_orig = ndi.imread('sample4x4_clean_for_testing.jpg', mode='L')\n",
    "sample4x4 = resize(sample4x4_orig, (200,200))\n",
    "plt.imshow(sample4x4, cmap=mpl.cm.Greys_r)"
   ]
  },
  {
   "cell_type": "markdown",
   "metadata": {},
   "source": [
    "Format of rects is [topleft, topright, bottomright,bottomleft,topleft]"
   ]
  },
  {
   "cell_type": "code",
   "execution_count": 17,
   "metadata": {
    "collapsed": false
   },
   "outputs": [],
   "source": [
    "ctrs = find_contours(sample4x4, .85)\n",
    "rects = [np.array(\n",
    "        [[min(ctr, key=lambda x: x[0])[0],min(ctr, key=lambda x: x[1])[1]],\n",
    "         [min(ctr, key=lambda x: x[0])[0],max(ctr, key=lambda x: x[1])[1]],\n",
    "         [max(ctr, key=lambda x: x[0])[0],max(ctr, key=lambda x: x[1])[1]],\n",
    "         [max(ctr, key=lambda x: x[0])[0],min(ctr, key=lambda x: x[1])[1]],\n",
    "         [min(ctr, key=lambda x: x[0])[0],min(ctr, key=lambda x: x[1])[1]]])\n",
    "          for ctr in ctrs]"
   ]
  },
  {
   "cell_type": "code",
   "execution_count": 18,
   "metadata": {
    "collapsed": false
   },
   "outputs": [
    {
     "data": {
      "image/png": "[encoded data removed]",
      "text/plain": [
       "<matplotlib.figure.Figure at 0x114809a20>"
      ]
     },
     "metadata": {},
     "output_type": "display_data"
    }
   ],
   "source": [
    "fig, ax = plt.subplots()\n",
    "ax.imshow(sample4x4[:,:], interpolation='nearest', cmap=plt.cm.gray)\n",
    "\n",
    "for n, contour in enumerate(rects):\n",
    "    ax.plot(contour[:, 1], contour[:, 0], linewidth=2)\n",
    "\n",
    "ax.axis('image')\n",
    "ax.set_xticks([])\n",
    "ax.set_yticks([])\n",
    "plt.show()"
   ]
  },
  {
   "cell_type": "code",
   "execution_count": 19,
   "metadata": {
    "collapsed": true
   },
   "outputs": [],
   "source": [
    "conversion = {0:'0',1:'1',2:'2',3:'3',4:'4',5:'5',6:'6',7:'7',8:'8',9:'9',10:'X', 11:'+',12:'-',13:'/'}"
   ]
  },
  {
   "cell_type": "markdown",
   "metadata": {},
   "source": [
    "This isn't helpful because of the contour lines picking up the edges and inner circles of numbers (6,8,9)"
   ]
  },
  {
   "cell_type": "code",
   "execution_count": 20,
   "metadata": {
    "collapsed": true
   },
   "outputs": [],
   "source": [
    "def binarize(matrix, threshold=0.3):\n",
    "    temp = deepcopy(matrix)\n",
    "    for m in range(len(temp)):\n",
    "        for n in range(len(temp[m])):\n",
    "            if temp[m][n] < threshold:\n",
    "                temp[m][n] = 0.0\n",
    "            else:\n",
    "                temp[m][n] = 1.0\n",
    "                \n",
    "    return temp"
   ]
  },
  {
   "cell_type": "markdown",
   "metadata": {},
   "source": [
    "### Note\n",
    "I wrote this new function using the code I came up with in 04_collecting_number_examples.ipynb"
   ]
  },
  {
   "cell_type": "code",
   "execution_count": 21,
   "metadata": {
    "collapsed": true
   },
   "outputs": [],
   "source": [
    "def pre_process_image(image_file):\n",
    "    #get the image and resize\n",
    "    image_data = ndi.imread(image_file, mode = 'L')\n",
    "    resized_image = resize(image_data, (200,200))\n",
    "\n",
    "    #apply the transformations from 01_basic_image_tests.ipynb\n",
    "    binar = deepcopy(resized_image)\n",
    "    binar = binarize(binar, 0.6)\n",
    "\n",
    "    # Get the upleft and lowright black pixels for croping to corners\n",
    "    # up left\n",
    "    cond = False\n",
    "    for m in range(10):\n",
    "        for n in range(10):\n",
    "            if binar[m][n] == 0:\n",
    "                up_left = [m,n]\n",
    "                cond = True\n",
    "                break\n",
    "        if cond==True:\n",
    "            break\n",
    "\n",
    "    # low right\n",
    "    cond = False\n",
    "    for m in range(199,189,-1):\n",
    "        for n in range(199,189,-1):\n",
    "            #print(m,n, binar[m][n])\n",
    "            if binar[m][n] == 0:\n",
    "                low_right = [m,n]\n",
    "                cond = True\n",
    "                break\n",
    "        if cond==True:\n",
    "            break\n",
    "\n",
    "    resized_image = resize(resized_image[up_left[0]:low_right[0]+1,up_left[1]:low_right[1]+1], (200,200))\n",
    "    binar = binarize(resized_image, 0.4)\n",
    "\n",
    "    undilated = deepcopy(binar)\n",
    "\n",
    "    #dilate the binarized image\n",
    "    selem = rectangle(1,2)\n",
    "    dil = dilation(binar, selem)\n",
    "\n",
    "    #binarize dilation\n",
    "    dil = binarize(dil)\n",
    "\n",
    "    #final = dil\n",
    "\n",
    "    final = deepcopy(dil)\n",
    "    for i in range(4):\n",
    "        for j in range(4):\n",
    "            final[i*50+3:i*50+25,j*50+3:j*50+44] = undilated[i*50+3:i*50+25,j*50+3:j*50+44]\n",
    "\n",
    "    #Try to remove all borders and grid lines in the image. \n",
    "    #Do this by scanning over rows and cols and if more than 25%\n",
    "    #of the pixels are <= 0.45 then set the entire row to 1(white)\n",
    "\n",
    "    #first rows\n",
    "    for row in range(len(final)):\n",
    "        count = 0\n",
    "        for pixel in final[row,:]:\n",
    "            if pixel == 0:\n",
    "                count += 1\n",
    "        if count >= 48:\n",
    "            final[row,:] = final[row,:]*0 + 1\n",
    "\n",
    "    #columns\n",
    "    for col in range(len(final[0,:])):\n",
    "        count = 0\n",
    "        for pixel in final[:,col]:\n",
    "            if pixel == 0:\n",
    "                count += 1\n",
    "        if count >= 48:\n",
    "            final[:,col] = final[:,col]*0 + 1\n",
    "            \n",
    "    #add some final erosion (black) to fill out numbers and ensure they're connected\n",
    "    final = binarize(erosion(final, rectangle(1,2)),.0000001)\n",
    "    \n",
    "    return final\n"
   ]
  },
  {
   "cell_type": "code",
   "execution_count": 22,
   "metadata": {
    "collapsed": false
   },
   "outputs": [],
   "source": [
    "final = pre_process_image('sample4x4_1.jpg')"
   ]
  },
  {
   "cell_type": "code",
   "execution_count": 23,
   "metadata": {
    "collapsed": false
   },
   "outputs": [
    {
     "data": {
      "text/plain": [
       "<matplotlib.image.AxesImage at 0x110596358>"
      ]
     },
     "execution_count": 23,
     "metadata": {},
     "output_type": "execute_result"
    },
    {
     "data": {
      "image/png": "[encoded data removed]",
      "text/plain": [
       "<matplotlib.figure.Figure at 0x1104b01d0>"
      ]
     },
     "metadata": {},
     "output_type": "display_data"
    }
   ],
   "source": [
    "plt.imshow(final, cmap=mpl.cm.Greys_r)"
   ]
  },
  {
   "cell_type": "code",
   "execution_count": 84,
   "metadata": {
    "collapsed": false,
    "scrolled": false
   },
   "outputs": [
    {
     "name": "stdout",
     "output_type": "stream",
     "text": [
      "3 numbers/symbols found in quadrant 0,0\n",
      "0 numbers/symbols found in quadrant 0,1\n",
      "2 numbers/symbols found in quadrant 0,2\n",
      "0 numbers/symbols found in quadrant 0,3\n",
      "2 numbers/symbols found in quadrant 1,0\n",
      "0 numbers/symbols found in quadrant 1,1\n",
      "0 numbers/symbols found in quadrant 1,2\n",
      "1 numbers/symbols found in quadrant 1,3\n",
      "0 numbers/symbols found in quadrant 2,0\n",
      "3 numbers/symbols found in quadrant 2,1\n",
      "2 numbers/symbols found in quadrant 2,2\n",
      "0 numbers/symbols found in quadrant 2,3\n",
      "0 numbers/symbols found in quadrant 3,0\n",
      "0 numbers/symbols found in quadrant 3,1\n",
      "2 numbers/symbols found in quadrant 3,2\n",
      "0 numbers/symbols found in quadrant 3,3\n",
      "15 numbers/symbols found in image\n"
     ]
    },
    {
     "data": {
      "image/png": "[encoded data removed]",
      "text/plain": [
       "<matplotlib.figure.Figure at 0x1233727b8>"
      ]
     },
     "metadata": {},
     "output_type": "display_data"
    }
   ],
   "source": [
    "#the regions in the image that will be searched for contours\n",
    "regions_of_interest = [final[3:39,3:46],\n",
    "                      final[3:39,53:96],\n",
    "                      final[3:39,103:146],\n",
    "                      final[3:39,153:196],\n",
    "                      final[53:89,3:46],\n",
    "                      final[53:89,53:96],\n",
    "                      final[53:89,103:146],\n",
    "                      final[53:89,153:196],\n",
    "                      final[103:139,3:46],\n",
    "                      final[103:139,53:96],\n",
    "                      final[103:139,103:146],\n",
    "                      final[103:139,153:196],\n",
    "                      final[153:189,3:46],\n",
    "                      final[153:189,53:96],\n",
    "                      final[153:189,103:146],\n",
    "                      final[153:189,153:196]\n",
    "                      ]\n",
    "\n",
    "\n",
    "#get the contour lines and make a bounding box of each contour\n",
    "total_images_found = 0\n",
    "fig = plt.figure()\n",
    "x_count = 0\n",
    "y_count = 0\n",
    "plot_counter = 1\n",
    "for region in regions_of_interest:  \n",
    "    #Results is where the sub-ROIs will be stored\n",
    "    results = []\n",
    "    ctrs = find_contours(region, .9)\n",
    "    rects = [np.array(\n",
    "            [[min(ctr, key=lambda x: x[0])[0],min(ctr, key=lambda x: x[1])[1]],\n",
    "             [min(ctr, key=lambda x: x[0])[0],max(ctr, key=lambda x: x[1])[1]],\n",
    "             [max(ctr, key=lambda x: x[0])[0],max(ctr, key=lambda x: x[1])[1]],\n",
    "             [max(ctr, key=lambda x: x[0])[0],min(ctr, key=lambda x: x[1])[1]],\n",
    "             [min(ctr, key=lambda x: x[0])[0],min(ctr, key=lambda x: x[1])[1]]])\n",
    "              for ctr in ctrs]\n",
    "\n",
    "    #print(rects)\n",
    "\n",
    "    #loop over the bounding boxes and store that region, the regions will need \n",
    "    #to be filtered so that there aren't regions within regions\n",
    "    for rect in rects:\n",
    "        try:\n",
    "            pt1 = rect[0][0] #m min\n",
    "            pt2 = rect[2][0] #m max\n",
    "            pt3 = rect[0][1] #n min\n",
    "            pt4 = rect[1][1] #n max\n",
    "            results.append([pt1,pt2,pt3,pt4])\n",
    "\n",
    "        except:\n",
    "            print('There was an error')\n",
    "\n",
    "\n",
    "    #filter out a result contained in another result\n",
    "    #This isn't very efficient and will likely need a better\n",
    "    #algorithm for images taken with a camera but it works well for now\n",
    "    for result in results:\n",
    "        temp = [res for res in results if res != result]\n",
    "        for other in temp:\n",
    "            if result[0] >= other[0] and result[1] <= other[1] and\\\n",
    "            result[2] >= other[2] and result[3] <= other[3]:\n",
    "                try:\n",
    "                    results.remove(result)\n",
    "                except ValueError as e:\n",
    "                    print('Error removing result from results, ', e)\n",
    "\n",
    "    #combine those with similar midpoints (mainly used for finding division symbols)\n",
    "    midpoints = [(result[3]-result[2])/2+result[2] for result in results]\n",
    "    \n",
    "    new_results = []\n",
    "    for i,result in enumerate(results):\n",
    "        diff = [j for j, m in enumerate(midpoints) if abs(m-midpoints[i]) < 3]\n",
    "        #need to reinitialize new_results between loops\n",
    "        if len(diff) > 1:\n",
    "            new_results = [result for j,result in enumerate(results) if j not in diff]\n",
    "            similar_obj = np.array([results[j] for j in diff])\n",
    "            new_object = np.array([min(similar_obj[:,0]),\n",
    "                                  max(similar_obj[:,1]),\n",
    "                                  min(similar_obj[:,2]),\n",
    "                                  max(similar_obj[:,3])])\n",
    "            #print(new_object)\n",
    "            new_results.append(list(new_object))\n",
    "\n",
    "            break\n",
    "        else:\n",
    "            continue\n",
    "    \n",
    "    #assign new_results to results if new results were obtained\n",
    "    try:\n",
    "        if len(new_results) > 0:\n",
    "            results = new_results\n",
    "    except:\n",
    "        pass\n",
    "    \n",
    "    \n",
    "    #now make a new prediction on the results:\n",
    "    new_results = []\n",
    "    for result in results:\n",
    "        new_res = deepcopy(result)\n",
    "        roi = region[int(result[0]):int(result[1])+1, int(result[2]):int(result[3])+1] \n",
    "        roi = resize(roi, (28, 28)).reshape(1,784)\n",
    "        nbr = prediction.eval(feed_dict={x:roi, keep_prob:1.0}, session=sess)[0]\n",
    "        new_res.append(conversion[nbr])\n",
    "        new_results.append(new_res)\n",
    "\n",
    "        \n",
    "    try:\n",
    "        if len(new_results) > 0:\n",
    "            results = new_results\n",
    "    except:\n",
    "        pass\n",
    "    \n",
    "    #Sort the results by furthest box to the left \n",
    "    results = sorted(results, key=lambda x: x[2])\n",
    "\n",
    "    #Plot all of the subplots\n",
    "    plt.subplot(4,4,plot_counter)\n",
    "    plot_counter+=1\n",
    "    plt.imshow(region, interpolation='nearest', cmap=plt.cm.gray)\n",
    "\n",
    "    '''for contour in rects:\n",
    "        plt.plot(contour[:, 1], contour[:, 0], linewidth=2)'''\n",
    "\n",
    "    z = 0\n",
    "    for res in results:\n",
    "        plt.annotate('{}'.format(res[4]), xy=(10+z*5,25))\n",
    "        z+=1\n",
    "    \n",
    "    #Loop again over the filtered results, count how many there are\n",
    "    num_sym_found = 0\n",
    "    for result in results:\n",
    "        num_sym_found += 1      \n",
    "\n",
    "    print('{} numbers/symbols found in quadrant {},{}'.format(num_sym_found, x_count,y_count))\n",
    "    y_count+=1\n",
    "    if y_count == 4:\n",
    "        y_count = 0\n",
    "        x_count += 1\n",
    "    total_images_found+=num_sym_found\n",
    "\n",
    "print('{} numbers/symbols found in image'.format(total_images_found))"
   ]
  },
  {
   "cell_type": "markdown",
   "metadata": {},
   "source": [
    "### Remarks on this modeling attempt"
   ]
  },
  {
   "cell_type": "markdown",
   "metadata": {},
   "source": [
    "Wow! This was a perfect prediction. Will be using this for the final project."
   ]
  },
  {
   "cell_type": "code",
   "execution_count": null,
   "metadata": {
    "collapsed": true
   },
   "outputs": [],
   "source": []
  }
 ],
 "metadata": {
  "kernelspec": {
   "display_name": "py35tensor",
   "language": "python",
   "name": "py35tensor"
  },
  "language_info": {
   "codemirror_mode": {
    "name": "ipython",
    "version": 3
   },
   "file_extension": ".py",
   "mimetype": "text/x-python",
   "name": "python",
   "nbconvert_exporter": "python",
   "pygments_lexer": "ipython3",
   "version": "3.5.1"
  }
 },
 "nbformat": 4,
 "nbformat_minor": 0
}
