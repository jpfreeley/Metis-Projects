{
 "cells": [
  {
   "cell_type": "code",
   "execution_count": 1,
   "metadata": {
    "collapsed": false
   },
   "outputs": [
    {
     "name": "stderr",
     "output_type": "stream",
     "text": [
      "/Users/kenn/anaconda/lib/python3.5/site-packages/matplotlib/__init__.py:872: UserWarning: axes.color_cycle is deprecated and replaced with axes.prop_cycle; please use the latter.\n",
      "  warnings.warn(self.msg_depr % (key, alt_key))\n"
     ]
    }
   ],
   "source": [
    "from MovieBookAnalysis import *\n",
    "%matplotlib inline"
   ]
  },
  {
   "cell_type": "code",
   "execution_count": 2,
   "metadata": {
    "collapsed": false
   },
   "outputs": [],
   "source": [
    "IMDB_ratings = pd.read_csv('05_15_movie_books_IMDB_ratings.csv', index_col=0)"
   ]
  },
  {
   "cell_type": "code",
   "execution_count": 3,
   "metadata": {
    "collapsed": true
   },
   "outputs": [],
   "source": [
    "GR_ratings = pd.read_csv('05_15_movie_books_GR_ratings.csv', index_col=0)"
   ]
  },
  {
   "cell_type": "code",
   "execution_count": 4,
   "metadata": {
    "collapsed": true
   },
   "outputs": [],
   "source": [
    "MC_ratings = pd.read_csv('05_15_movie_books_MC_ratings.csv', index_col=0)"
   ]
  },
  {
   "cell_type": "code",
   "execution_count": 5,
   "metadata": {
    "collapsed": false
   },
   "outputs": [],
   "source": [
    "dummies = pd.get_dummies(IMDB_ratings.MPAArating)\n",
    "IMDB_ratings = pd.concat([IMDB_ratings, dummies], axis=1)\n",
    "IMDB_ratings = IMDB_ratings.rename(columns = {'PG-13':'PG13'})"
   ]
  },
  {
   "cell_type": "code",
   "execution_count": 6,
   "metadata": {
    "collapsed": false
   },
   "outputs": [
    {
     "name": "stdout",
     "output_type": "stream",
     "text": [
      "                                               Title     Budget      Gross  \\\n",
      "0                            The Wolf of Wall Street  100000000  116866727   \n",
      "1                                      Into the Wild   15000000   18352454   \n",
      "2                                          Gone Girl   61000000  167735396   \n",
      "3  Going Clear: Scientology and the Prison of Belief        NaN        NaN   \n",
      "4                       Suzumiya Haruhi no shôshitsu        NaN        NaN   \n",
      "\n",
      "  MPAArating  Runtime  IMDBRating  IMDBRatingCount  IMDBMCRating  \\\n",
      "0          R      180         8.2           705753           NaN   \n",
      "1          R      148         8.2           401238           NaN   \n",
      "2          R      149         8.1           517073           NaN   \n",
      "3  NOT RATED      119         8.1            19936           NaN   \n",
      "4  NOT RATED      163         8.1             3261           NaN   \n",
      "\n",
      "   IMDBMCRatingCount  APPROVED ...  M  NC-17  NOT RATED  PASSED  PG  PG13  R  \\\n",
      "0                NaN         0 ...  0      0          0       0   0     0  1   \n",
      "1                NaN         0 ...  0      0          0       0   0     0  1   \n",
      "2                NaN         0 ...  0      0          0       0   0     0  1   \n",
      "3                NaN         0 ...  0      0          1       0   0     0  0   \n",
      "4                NaN         0 ...  0      0          1       0   0     0  0   \n",
      "\n",
      "   TV-14  UNRATED  X  \n",
      "0      0        0  0  \n",
      "1      0        0  0  \n",
      "2      0        0  0  \n",
      "3      0        0  0  \n",
      "4      0        0  0  \n",
      "\n",
      "[5 rows x 22 columns]\n"
     ]
    }
   ],
   "source": [
    "print(IMDB_ratings.head())"
   ]
  },
  {
   "cell_type": "code",
   "execution_count": 7,
   "metadata": {
    "collapsed": false
   },
   "outputs": [],
   "source": [
    "IMDB_and_GR_ratings = IMDB_ratings.merge(GR_ratings, on='Title')\n",
    "IMDB_and_GR_ratings.to_csv('all_time_movie_books_IMDB_GR_ratings.csv')"
   ]
  },
  {
   "cell_type": "code",
   "execution_count": 8,
   "metadata": {
    "collapsed": false,
    "scrolled": true
   },
   "outputs": [
    {
     "name": "stdout",
     "output_type": "stream",
     "text": [
      "                                               Title  GRRating  GRRatingCount\n",
      "0                            The Wolf of Wall Street      3.64          18175\n",
      "1                                      Into the Wild      3.92         539534\n",
      "2                                          Gone Girl      3.99        1240870\n",
      "3  Going Clear: Scientology and the Prison of Belief      3.99          24468\n",
      "4                                           The Pact      3.99         211335\n"
     ]
    }
   ],
   "source": [
    "print(GR_ratings.head())"
   ]
  },
  {
   "cell_type": "code",
   "execution_count": 9,
   "metadata": {
    "collapsed": false
   },
   "outputs": [
    {
     "name": "stdout",
     "output_type": "stream",
     "text": [
      "                                               Title  MCUserRating  \\\n",
      "0                            The Wolf of Wall Street           7.1   \n",
      "1                                      Into the Wild           8.2   \n",
      "2                                          Gone Girl           8.1   \n",
      "3  Going Clear: Scientology and the Prison of Belief           8.4   \n",
      "4                                           The Pact           6.7   \n",
      "\n",
      "   MCUserRatingCount  MCCriticRating  MCCriticRatingCount  \n",
      "0               1572              75                   47  \n",
      "1                348              73                   38  \n",
      "2               1138              79                   49  \n",
      "3                 49              80                   11  \n",
      "4                 23              54                   10  \n"
     ]
    }
   ],
   "source": [
    "print(MC_ratings.head())"
   ]
  },
  {
   "cell_type": "markdown",
   "metadata": {},
   "source": [
    "## Compare IMDB user ratings against GR user ratings"
   ]
  },
  {
   "cell_type": "code",
   "execution_count": 10,
   "metadata": {
    "collapsed": false,
    "scrolled": true
   },
   "outputs": [
    {
     "name": "stdout",
     "output_type": "stream",
     "text": [
      "                                               Title     Budget      Gross  \\\n",
      "0                            The Wolf of Wall Street  100000000  116866727   \n",
      "1                                      Into the Wild   15000000   18352454   \n",
      "2                                          Gone Girl   61000000  167735396   \n",
      "3  Going Clear: Scientology and the Prison of Belief        NaN        NaN   \n",
      "4                                           The Pact        NaN        NaN   \n",
      "\n",
      "  MPAArating  Runtime  IMDBRating  IMDBRatingCount  IMDBMCRating  \\\n",
      "0          R      180         8.2           705753           NaN   \n",
      "1          R      148         8.2           401238           NaN   \n",
      "2          R      149         8.1           517073           NaN   \n",
      "3  NOT RATED      119         8.1            19936           NaN   \n",
      "4        NaN       84         8.1               31           NaN   \n",
      "\n",
      "   IMDBMCRatingCount  APPROVED      ...        NOT RATED  PASSED  PG  PG13  R  \\\n",
      "0                NaN         0      ...                0       0   0     0  1   \n",
      "1                NaN         0      ...                0       0   0     0  1   \n",
      "2                NaN         0      ...                0       0   0     0  1   \n",
      "3                NaN         0      ...                1       0   0     0  0   \n",
      "4                NaN         0      ...                0       0   0     0  0   \n",
      "\n",
      "   TV-14  UNRATED  X  GRRating  GRRatingCount  \n",
      "0      0        0  0      3.64          18175  \n",
      "1      0        0  0      3.92         539534  \n",
      "2      0        0  0      3.99        1240870  \n",
      "3      0        0  0      3.99          24468  \n",
      "4      0        0  0      3.99         211335  \n",
      "\n",
      "[5 rows x 24 columns]\n"
     ]
    },
    {
     "data": {
      "image/png": "[encoded data removed]",
      "text/plain": [
       "<matplotlib.figure.Figure at 0x10ba2a4e0>"
      ]
     },
     "metadata": {},
     "output_type": "display_data"
    }
   ],
   "source": [
    "plotMovieRatingAgainstGR(IMDB_ratings, GR_ratings, 'IMDBRating', col2='GRRating', ymin=6, ymax=10, xmin=1.5, xmax=5.25, ylim=9.75)"
   ]
  },
  {
   "cell_type": "code",
   "execution_count": 11,
   "metadata": {
    "collapsed": false,
    "scrolled": true
   },
   "outputs": [
    {
     "name": "stdout",
     "output_type": "stream",
     "text": [
      "                                               Title     Budget      Gross  \\\n",
      "0                            The Wolf of Wall Street  100000000  116866727   \n",
      "1                                      Into the Wild   15000000   18352454   \n",
      "2                                          Gone Girl   61000000  167735396   \n",
      "3  Going Clear: Scientology and the Prison of Belief        NaN        NaN   \n",
      "4                                           The Pact        NaN        NaN   \n",
      "\n",
      "  MPAArating  Runtime  IMDBRating  IMDBRatingCount  IMDBMCRating  \\\n",
      "0          R      180         8.2           705753           NaN   \n",
      "1          R      148         8.2           401238           NaN   \n",
      "2          R      149         8.1           517073           NaN   \n",
      "3  NOT RATED      119         8.1            19936           NaN   \n",
      "4        NaN       84         8.1               31           NaN   \n",
      "\n",
      "   IMDBMCRatingCount  APPROVED      ...        NOT RATED  PASSED  PG  PG13  R  \\\n",
      "0                NaN         0      ...                0       0   0     0  1   \n",
      "1                NaN         0      ...                0       0   0     0  1   \n",
      "2                NaN         0      ...                0       0   0     0  1   \n",
      "3                NaN         0      ...                1       0   0     0  0   \n",
      "4                NaN         0      ...                0       0   0     0  0   \n",
      "\n",
      "   TV-14  UNRATED  X  GRRating  GRRatingCount  \n",
      "0      0        0  0      3.64          18175  \n",
      "1      0        0  0      3.92         539534  \n",
      "2      0        0  0      3.99        1240870  \n",
      "3      0        0  0      3.99          24468  \n",
      "4      0        0  0      3.99         211335  \n",
      "\n",
      "[5 rows x 24 columns]\n",
      "IMDBRating ~ GRRating\n"
     ]
    }
   ],
   "source": [
    "IMDB_GR_OLS = getOLSResults(IMDB_ratings, GR_ratings, 'IMDBRating', col2='GRRating')"
   ]
  },
  {
   "cell_type": "code",
   "execution_count": 12,
   "metadata": {
    "collapsed": false,
    "scrolled": false
   },
   "outputs": [
    {
     "data": {
      "image/png": "[encoded data removed]",
      "text/plain": [
       "<matplotlib.figure.Figure at 0x10baeada0>"
      ]
     },
     "metadata": {},
     "output_type": "display_data"
    }
   ],
   "source": [
    "plotByResults(IMDB_GR_OLS, 'IMDB Rating v GR Rating 2005-2015', 'GR Rating', 'IMDB Rating')"
   ]
  },
  {
   "cell_type": "code",
   "execution_count": 13,
   "metadata": {
    "collapsed": false
   },
   "outputs": [
    {
     "data": {
      "image/png": "[encoded data removed]",
      "text/plain": [
       "<matplotlib.figure.Figure at 0x10bed4828>"
      ]
     },
     "metadata": {},
     "output_type": "display_data"
    }
   ],
   "source": [
    "getQQPlot(IMDB_GR_OLS)"
   ]
  },
  {
   "cell_type": "code",
   "execution_count": 14,
   "metadata": {
    "collapsed": false,
    "scrolled": false
   },
   "outputs": [
    {
     "data": {
      "text/html": [
       "<table class=\"simpletable\">\n",
       "<caption>OLS Regression Results</caption>\n",
       "<tr>\n",
       "  <th>Dep. Variable:</th>       <td>IMDBRating</td>    <th>  R-squared:         </th> <td>   0.001</td>\n",
       "</tr>\n",
       "<tr>\n",
       "  <th>Model:</th>                   <td>OLS</td>       <th>  Adj. R-squared:    </th> <td>  -0.005</td>\n",
       "</tr>\n",
       "<tr>\n",
       "  <th>Method:</th>             <td>Least Squares</td>  <th>  F-statistic:       </th> <td>  0.1264</td>\n",
       "</tr>\n",
       "<tr>\n",
       "  <th>Date:</th>             <td>Tue, 26 Jan 2016</td> <th>  Prob (F-statistic):</th>  <td> 0.723</td> \n",
       "</tr>\n",
       "<tr>\n",
       "  <th>Time:</th>                 <td>16:19:18</td>     <th>  Log-Likelihood:    </th> <td>  47.584</td>\n",
       "</tr>\n",
       "<tr>\n",
       "  <th>No. Observations:</th>      <td>   187</td>      <th>  AIC:               </th> <td>  -91.17</td>\n",
       "</tr>\n",
       "<tr>\n",
       "  <th>Df Residuals:</th>          <td>   185</td>      <th>  BIC:               </th> <td>  -84.71</td>\n",
       "</tr>\n",
       "<tr>\n",
       "  <th>Df Model:</th>              <td>     1</td>      <th>                     </th>     <td> </td>   \n",
       "</tr>\n",
       "<tr>\n",
       "  <th>Covariance Type:</th>      <td>nonrobust</td>    <th>                     </th>     <td> </td>   \n",
       "</tr>\n",
       "</table>\n",
       "<table class=\"simpletable\">\n",
       "<tr>\n",
       "      <td></td>         <th>coef</th>     <th>std err</th>      <th>t</th>      <th>P>|t|</th> <th>[95.0% Conf. Int.]</th> \n",
       "</tr>\n",
       "<tr>\n",
       "  <th>Intercept</th> <td>    7.7422</td> <td>    0.194</td> <td>   39.814</td> <td> 0.000</td> <td>    7.359     8.126</td>\n",
       "</tr>\n",
       "<tr>\n",
       "  <th>GRRating</th>  <td>   -0.0174</td> <td>    0.049</td> <td>   -0.356</td> <td> 0.723</td> <td>   -0.114     0.079</td>\n",
       "</tr>\n",
       "</table>\n",
       "<table class=\"simpletable\">\n",
       "<tr>\n",
       "  <th>Omnibus:</th>       <td> 4.647</td> <th>  Durbin-Watson:     </th> <td>   1.669</td>\n",
       "</tr>\n",
       "<tr>\n",
       "  <th>Prob(Omnibus):</th> <td> 0.098</td> <th>  Jarque-Bera (JB):  </th> <td>   5.444</td>\n",
       "</tr>\n",
       "<tr>\n",
       "  <th>Skew:</th>          <td>-0.161</td> <th>  Prob(JB):          </th> <td>  0.0657</td>\n",
       "</tr>\n",
       "<tr>\n",
       "  <th>Kurtosis:</th>      <td> 3.771</td> <th>  Cond. No.          </th> <td>    59.7</td>\n",
       "</tr>\n",
       "</table>"
      ],
      "text/plain": [
       "<class 'statsmodels.iolib.summary.Summary'>\n",
       "\"\"\"\n",
       "                            OLS Regression Results                            \n",
       "==============================================================================\n",
       "Dep. Variable:             IMDBRating   R-squared:                       0.001\n",
       "Model:                            OLS   Adj. R-squared:                 -0.005\n",
       "Method:                 Least Squares   F-statistic:                    0.1264\n",
       "Date:                Tue, 26 Jan 2016   Prob (F-statistic):              0.723\n",
       "Time:                        16:19:18   Log-Likelihood:                 47.584\n",
       "No. Observations:                 187   AIC:                            -91.17\n",
       "Df Residuals:                     185   BIC:                            -84.71\n",
       "Df Model:                           1                                         \n",
       "Covariance Type:            nonrobust                                         \n",
       "==============================================================================\n",
       "                 coef    std err          t      P>|t|      [95.0% Conf. Int.]\n",
       "------------------------------------------------------------------------------\n",
       "Intercept      7.7422      0.194     39.814      0.000         7.359     8.126\n",
       "GRRating      -0.0174      0.049     -0.356      0.723        -0.114     0.079\n",
       "==============================================================================\n",
       "Omnibus:                        4.647   Durbin-Watson:                   1.669\n",
       "Prob(Omnibus):                  0.098   Jarque-Bera (JB):                5.444\n",
       "Skew:                          -0.161   Prob(JB):                       0.0657\n",
       "Kurtosis:                       3.771   Cond. No.                         59.7\n",
       "==============================================================================\n",
       "\n",
       "Warnings:\n",
       "[1] Standard Errors assume that the covariance matrix of the errors is correctly specified.\n",
       "\"\"\""
      ]
     },
     "execution_count": 14,
     "metadata": {},
     "output_type": "execute_result"
    }
   ],
   "source": [
    "IMDB_GR_OLS.summary()"
   ]
  },
  {
   "cell_type": "code",
   "execution_count": 15,
   "metadata": {
    "collapsed": false,
    "scrolled": false
   },
   "outputs": [
    {
     "name": "stderr",
     "output_type": "stream",
     "text": [
      "/Users/kenn/Learning/ds/metis/projects/luther/ken_m/MovieBookAnalysis.py:109: SettingWithCopyWarning: \n",
      "A value is trying to be set on a copy of a slice from a DataFrame.\n",
      "Try using .loc[row_indexer,col_indexer] = value instead\n",
      "\n",
      "See the caveats in the documentation: http://pandas.pydata.org/pandas-docs/stable/indexing.html#indexing-view-versus-copy\n",
      "  df[(col+'_zscore')] = (df[col] - df[col].mean())/df[col].std(ddof=0)\n"
     ]
    }
   ],
   "source": [
    "z_IMDB_GR_movies = getZscoreDiffofMovieAndBook(IMDB_ratings, GR_ratings, 'IMDBRating', 'GRRating', want='bettermovies')\n",
    "    "
   ]
  },
  {
   "cell_type": "code",
   "execution_count": 16,
   "metadata": {
    "collapsed": false
   },
   "outputs": [
    {
     "data": {
      "text/html": [
       "<div>\n",
       "<table border=\"1\" class=\"dataframe\">\n",
       "  <thead>\n",
       "    <tr style=\"text-align: right;\">\n",
       "      <th></th>\n",
       "      <th>Title</th>\n",
       "      <th>IMDBRating</th>\n",
       "      <th>GRRating</th>\n",
       "      <th>ZS_diff</th>\n",
       "    </tr>\n",
       "  </thead>\n",
       "  <tbody>\n",
       "    <tr>\n",
       "      <th>187</th>\n",
       "      <td>Wir können auch anders...</td>\n",
       "      <td>7.5</td>\n",
       "      <td>2.00</td>\n",
       "      <td>4.997130</td>\n",
       "    </tr>\n",
       "    <tr>\n",
       "      <th>113</th>\n",
       "      <td>Gerónima</td>\n",
       "      <td>7.9</td>\n",
       "      <td>3.00</td>\n",
       "      <td>4.014749</td>\n",
       "    </tr>\n",
       "    <tr>\n",
       "      <th>0</th>\n",
       "      <td>The Wolf of Wall Street</td>\n",
       "      <td>8.2</td>\n",
       "      <td>3.64</td>\n",
       "      <td>3.602875</td>\n",
       "    </tr>\n",
       "    <tr>\n",
       "      <th>124</th>\n",
       "      <td>My Darling Clementine</td>\n",
       "      <td>7.8</td>\n",
       "      <td>3.00</td>\n",
       "      <td>3.521908</td>\n",
       "    </tr>\n",
       "    <tr>\n",
       "      <th>1</th>\n",
       "      <td>Into the Wild</td>\n",
       "      <td>8.2</td>\n",
       "      <td>3.92</td>\n",
       "      <td>2.775826</td>\n",
       "    </tr>\n",
       "    <tr>\n",
       "      <th>163</th>\n",
       "      <td>Cavalleria rusticana</td>\n",
       "      <td>7.6</td>\n",
       "      <td>2.96</td>\n",
       "      <td>2.654376</td>\n",
       "    </tr>\n",
       "    <tr>\n",
       "      <th>109</th>\n",
       "      <td>The Confession</td>\n",
       "      <td>7.9</td>\n",
       "      <td>3.59</td>\n",
       "      <td>2.272040</td>\n",
       "    </tr>\n",
       "    <tr>\n",
       "      <th>156</th>\n",
       "      <td>The Bishop's Wife</td>\n",
       "      <td>7.6</td>\n",
       "      <td>3.10</td>\n",
       "      <td>2.240852</td>\n",
       "    </tr>\n",
       "    <tr>\n",
       "      <th>97</th>\n",
       "      <td>The Underground Man</td>\n",
       "      <td>8.0</td>\n",
       "      <td>3.79</td>\n",
       "      <td>2.174132</td>\n",
       "    </tr>\n",
       "    <tr>\n",
       "      <th>3</th>\n",
       "      <td>Going Clear: Scientology and the Prison of Belief</td>\n",
       "      <td>8.1</td>\n",
       "      <td>3.99</td>\n",
       "      <td>2.076223</td>\n",
       "    </tr>\n",
       "  </tbody>\n",
       "</table>\n",
       "</div>"
      ],
      "text/plain": [
       "                                                 Title  IMDBRating  GRRating  \\\n",
       "187                          Wir können auch anders...         7.5      2.00   \n",
       "113                                           Gerónima         7.9      3.00   \n",
       "0                              The Wolf of Wall Street         8.2      3.64   \n",
       "124                              My Darling Clementine         7.8      3.00   \n",
       "1                                        Into the Wild         8.2      3.92   \n",
       "163                               Cavalleria rusticana         7.6      2.96   \n",
       "109                                     The Confession         7.9      3.59   \n",
       "156                                  The Bishop's Wife         7.6      3.10   \n",
       "97                                 The Underground Man         8.0      3.79   \n",
       "3    Going Clear: Scientology and the Prison of Belief         8.1      3.99   \n",
       "\n",
       "      ZS_diff  \n",
       "187  4.997130  \n",
       "113  4.014749  \n",
       "0    3.602875  \n",
       "124  3.521908  \n",
       "1    2.775826  \n",
       "163  2.654376  \n",
       "109  2.272040  \n",
       "156  2.240852  \n",
       "97   2.174132  \n",
       "3    2.076223  "
      ]
     },
     "execution_count": 16,
     "metadata": {},
     "output_type": "execute_result"
    }
   ],
   "source": [
    "z_IMDB_GR_movies.head(10)"
   ]
  },
  {
   "cell_type": "code",
   "execution_count": 17,
   "metadata": {
    "collapsed": false,
    "scrolled": false
   },
   "outputs": [
    {
     "name": "stderr",
     "output_type": "stream",
     "text": [
      "/Users/kenn/Learning/ds/metis/projects/luther/ken_m/MovieBookAnalysis.py:109: SettingWithCopyWarning: \n",
      "A value is trying to be set on a copy of a slice from a DataFrame.\n",
      "Try using .loc[row_indexer,col_indexer] = value instead\n",
      "\n",
      "See the caveats in the documentation: http://pandas.pydata.org/pandas-docs/stable/indexing.html#indexing-view-versus-copy\n",
      "  df[(col+'_zscore')] = (df[col] - df[col].mean())/df[col].std(ddof=0)\n"
     ]
    }
   ],
   "source": [
    "z_IMDB_GR_books = getZscoreDiffofMovieAndBook(IMDB_ratings, GR_ratings, 'IMDBRating', 'GRRating', want='betterbooks')"
   ]
  },
  {
   "cell_type": "code",
   "execution_count": 18,
   "metadata": {
    "collapsed": false
   },
   "outputs": [
    {
     "data": {
      "text/html": [
       "<div>\n",
       "<table border=\"1\" class=\"dataframe\">\n",
       "  <thead>\n",
       "    <tr style=\"text-align: right;\">\n",
       "      <th></th>\n",
       "      <th>Title</th>\n",
       "      <th>IMDBRating</th>\n",
       "      <th>GRRating</th>\n",
       "      <th>ZS_diff</th>\n",
       "    </tr>\n",
       "  </thead>\n",
       "  <tbody>\n",
       "    <tr>\n",
       "      <th>83</th>\n",
       "      <td>Invictus</td>\n",
       "      <td>7.4</td>\n",
       "      <td>4.62</td>\n",
       "      <td>3.234522</td>\n",
       "    </tr>\n",
       "    <tr>\n",
       "      <th>90</th>\n",
       "      <td>Paddington</td>\n",
       "      <td>7.2</td>\n",
       "      <td>4.20</td>\n",
       "      <td>2.979631</td>\n",
       "    </tr>\n",
       "    <tr>\n",
       "      <th>87</th>\n",
       "      <td>Rise of the Guardians</td>\n",
       "      <td>7.3</td>\n",
       "      <td>4.32</td>\n",
       "      <td>2.841239</td>\n",
       "    </tr>\n",
       "    <tr>\n",
       "      <th>86</th>\n",
       "      <td>Testament of Youth</td>\n",
       "      <td>7.3</td>\n",
       "      <td>4.17</td>\n",
       "      <td>2.398177</td>\n",
       "    </tr>\n",
       "    <tr>\n",
       "      <th>94</th>\n",
       "      <td>Black Mass</td>\n",
       "      <td>7.1</td>\n",
       "      <td>3.79</td>\n",
       "      <td>2.261436</td>\n",
       "    </tr>\n",
       "    <tr>\n",
       "      <th>89</th>\n",
       "      <td>Wild</td>\n",
       "      <td>7.2</td>\n",
       "      <td>3.92</td>\n",
       "      <td>2.152582</td>\n",
       "    </tr>\n",
       "    <tr>\n",
       "      <th>178</th>\n",
       "      <td>The Hiding Place</td>\n",
       "      <td>7.5</td>\n",
       "      <td>4.41</td>\n",
       "      <td>2.121394</td>\n",
       "    </tr>\n",
       "    <tr>\n",
       "      <th>82</th>\n",
       "      <td>Lincoln</td>\n",
       "      <td>7.4</td>\n",
       "      <td>4.16</td>\n",
       "      <td>1.875799</td>\n",
       "    </tr>\n",
       "    <tr>\n",
       "      <th>138</th>\n",
       "      <td>Caliber 9</td>\n",
       "      <td>7.7</td>\n",
       "      <td>4.62</td>\n",
       "      <td>1.755999</td>\n",
       "    </tr>\n",
       "    <tr>\n",
       "      <th>175</th>\n",
       "      <td>The Secret of Roan Inish</td>\n",
       "      <td>7.5</td>\n",
       "      <td>4.25</td>\n",
       "      <td>1.648795</td>\n",
       "    </tr>\n",
       "    <tr>\n",
       "      <th>183</th>\n",
       "      <td>Entre Nous</td>\n",
       "      <td>7.5</td>\n",
       "      <td>4.24</td>\n",
       "      <td>1.619258</td>\n",
       "    </tr>\n",
       "    <tr>\n",
       "      <th>91</th>\n",
       "      <td>Defiance</td>\n",
       "      <td>7.2</td>\n",
       "      <td>3.71</td>\n",
       "      <td>1.532296</td>\n",
       "    </tr>\n",
       "    <tr>\n",
       "      <th>84</th>\n",
       "      <td>Capote</td>\n",
       "      <td>7.4</td>\n",
       "      <td>4.03</td>\n",
       "      <td>1.491812</td>\n",
       "    </tr>\n",
       "    <tr>\n",
       "      <th>65</th>\n",
       "      <td>Munich</td>\n",
       "      <td>7.6</td>\n",
       "      <td>4.36</td>\n",
       "      <td>1.480866</td>\n",
       "    </tr>\n",
       "    <tr>\n",
       "      <th>64</th>\n",
       "      <td>Munich</td>\n",
       "      <td>7.6</td>\n",
       "      <td>4.36</td>\n",
       "      <td>1.480866</td>\n",
       "    </tr>\n",
       "    <tr>\n",
       "      <th>63</th>\n",
       "      <td>Munich</td>\n",
       "      <td>7.6</td>\n",
       "      <td>4.36</td>\n",
       "      <td>1.480866</td>\n",
       "    </tr>\n",
       "    <tr>\n",
       "      <th>62</th>\n",
       "      <td>Munich</td>\n",
       "      <td>7.6</td>\n",
       "      <td>4.36</td>\n",
       "      <td>1.480866</td>\n",
       "    </tr>\n",
       "    <tr>\n",
       "      <th>85</th>\n",
       "      <td>The Baader Meinhof Complex</td>\n",
       "      <td>7.4</td>\n",
       "      <td>4.02</td>\n",
       "      <td>1.462275</td>\n",
       "    </tr>\n",
       "    <tr>\n",
       "      <th>181</th>\n",
       "      <td>84 Charing Cross Road</td>\n",
       "      <td>7.5</td>\n",
       "      <td>4.18</td>\n",
       "      <td>1.442033</td>\n",
       "    </tr>\n",
       "    <tr>\n",
       "      <th>177</th>\n",
       "      <td>To Hell and Back</td>\n",
       "      <td>7.5</td>\n",
       "      <td>4.15</td>\n",
       "      <td>1.353421</td>\n",
       "    </tr>\n",
       "  </tbody>\n",
       "</table>\n",
       "</div>"
      ],
      "text/plain": [
       "                          Title  IMDBRating  GRRating   ZS_diff\n",
       "83                     Invictus         7.4      4.62  3.234522\n",
       "90                   Paddington         7.2      4.20  2.979631\n",
       "87        Rise of the Guardians         7.3      4.32  2.841239\n",
       "86           Testament of Youth         7.3      4.17  2.398177\n",
       "94                   Black Mass         7.1      3.79  2.261436\n",
       "89                         Wild         7.2      3.92  2.152582\n",
       "178            The Hiding Place         7.5      4.41  2.121394\n",
       "82                      Lincoln         7.4      4.16  1.875799\n",
       "138                   Caliber 9         7.7      4.62  1.755999\n",
       "175    The Secret of Roan Inish         7.5      4.25  1.648795\n",
       "183                  Entre Nous         7.5      4.24  1.619258\n",
       "91                     Defiance         7.2      3.71  1.532296\n",
       "84                       Capote         7.4      4.03  1.491812\n",
       "65                       Munich         7.6      4.36  1.480866\n",
       "64                       Munich         7.6      4.36  1.480866\n",
       "63                       Munich         7.6      4.36  1.480866\n",
       "62                       Munich         7.6      4.36  1.480866\n",
       "85   The Baader Meinhof Complex         7.4      4.02  1.462275\n",
       "181       84 Charing Cross Road         7.5      4.18  1.442033\n",
       "177            To Hell and Back         7.5      4.15  1.353421"
      ]
     },
     "execution_count": 18,
     "metadata": {},
     "output_type": "execute_result"
    }
   ],
   "source": [
    "z_IMDB_GR_books.head(20)"
   ]
  },
  {
   "cell_type": "markdown",
   "metadata": {},
   "source": [
    "## Compare MC user ratings against GR user ratings"
   ]
  },
  {
   "cell_type": "code",
   "execution_count": 19,
   "metadata": {
    "collapsed": false,
    "scrolled": true
   },
   "outputs": [
    {
     "name": "stdout",
     "output_type": "stream",
     "text": [
      "                                               Title  MCUserRating  \\\n",
      "0                            The Wolf of Wall Street           7.1   \n",
      "1                                      Into the Wild           8.2   \n",
      "2                                          Gone Girl           8.1   \n",
      "3  Going Clear: Scientology and the Prison of Belief           8.4   \n",
      "4                                           The Pact           6.7   \n",
      "\n",
      "   MCUserRatingCount  MCCriticRating  MCCriticRatingCount  GRRating  \\\n",
      "0               1572              75                   47      3.64   \n",
      "1                348              73                   38      3.92   \n",
      "2               1138              79                   49      3.99   \n",
      "3                 49              80                   11      3.99   \n",
      "4                 23              54                   10      3.99   \n",
      "\n",
      "   GRRatingCount  \n",
      "0          18175  \n",
      "1         539534  \n",
      "2        1240870  \n",
      "3          24468  \n",
      "4         211335  \n"
     ]
    },
    {
     "data": {
      "image/png": "[encoded data removed]",
      "text/plain": [
       "<matplotlib.figure.Figure at 0x10bf1a0f0>"
      ]
     },
     "metadata": {},
     "output_type": "display_data"
    }
   ],
   "source": [
    "plotMovieRatingAgainstGR(MC_ratings, GR_ratings, 'MCUserRating', col2='GRRating', ymin=4, ymax=10, xmin=2.5, xmax=5.25, ylim=10.5)"
   ]
  },
  {
   "cell_type": "code",
   "execution_count": null,
   "metadata": {
    "collapsed": true
   },
   "outputs": [],
   "source": []
  },
  {
   "cell_type": "code",
   "execution_count": 20,
   "metadata": {
    "collapsed": false
   },
   "outputs": [
    {
     "name": "stdout",
     "output_type": "stream",
     "text": [
      "                                               Title  MCUserRating  \\\n",
      "0                            The Wolf of Wall Street           7.1   \n",
      "1                                      Into the Wild           8.2   \n",
      "2                                          Gone Girl           8.1   \n",
      "3  Going Clear: Scientology and the Prison of Belief           8.4   \n",
      "4                                           The Pact           6.7   \n",
      "\n",
      "   MCUserRatingCount  MCCriticRating  MCCriticRatingCount  GRRating  \\\n",
      "0               1572              75                   47      3.64   \n",
      "1                348              73                   38      3.92   \n",
      "2               1138              79                   49      3.99   \n",
      "3                 49              80                   11      3.99   \n",
      "4                 23              54                   10      3.99   \n",
      "\n",
      "   GRRatingCount  \n",
      "0          18175  \n",
      "1         539534  \n",
      "2        1240870  \n",
      "3          24468  \n",
      "4         211335  \n",
      "MCUserRating ~ GRRating\n"
     ]
    }
   ],
   "source": [
    "MCuser_GR_OLS = getOLSResults(MC_ratings, GR_ratings, 'MCUserRating', col2='GRRating')"
   ]
  },
  {
   "cell_type": "code",
   "execution_count": 21,
   "metadata": {
    "collapsed": false
   },
   "outputs": [
    {
     "data": {
      "text/html": [
       "<table class=\"simpletable\">\n",
       "<caption>OLS Regression Results</caption>\n",
       "<tr>\n",
       "  <th>Dep. Variable:</th>      <td>MCUserRating</td>   <th>  R-squared:         </th> <td>   0.002</td>\n",
       "</tr>\n",
       "<tr>\n",
       "  <th>Model:</th>                   <td>OLS</td>       <th>  Adj. R-squared:    </th> <td>  -0.007</td>\n",
       "</tr>\n",
       "<tr>\n",
       "  <th>Method:</th>             <td>Least Squares</td>  <th>  F-statistic:       </th> <td>  0.2643</td>\n",
       "</tr>\n",
       "<tr>\n",
       "  <th>Date:</th>             <td>Tue, 26 Jan 2016</td> <th>  Prob (F-statistic):</th>  <td> 0.608</td> \n",
       "</tr>\n",
       "<tr>\n",
       "  <th>Time:</th>                 <td>16:19:18</td>     <th>  Log-Likelihood:    </th> <td> -117.95</td>\n",
       "</tr>\n",
       "<tr>\n",
       "  <th>No. Observations:</th>      <td>   109</td>      <th>  AIC:               </th> <td>   239.9</td>\n",
       "</tr>\n",
       "<tr>\n",
       "  <th>Df Residuals:</th>          <td>   107</td>      <th>  BIC:               </th> <td>   245.3</td>\n",
       "</tr>\n",
       "<tr>\n",
       "  <th>Df Model:</th>              <td>     1</td>      <th>                     </th>     <td> </td>   \n",
       "</tr>\n",
       "<tr>\n",
       "  <th>Covariance Type:</th>      <td>nonrobust</td>    <th>                     </th>     <td> </td>   \n",
       "</tr>\n",
       "</table>\n",
       "<table class=\"simpletable\">\n",
       "<tr>\n",
       "      <td></td>         <th>coef</th>     <th>std err</th>      <th>t</th>      <th>P>|t|</th> <th>[95.0% Conf. Int.]</th> \n",
       "</tr>\n",
       "<tr>\n",
       "  <th>Intercept</th> <td>    8.3355</td> <td>    1.131</td> <td>    7.368</td> <td> 0.000</td> <td>    6.093    10.578</td>\n",
       "</tr>\n",
       "<tr>\n",
       "  <th>GRRating</th>  <td>   -0.1457</td> <td>    0.283</td> <td>   -0.514</td> <td> 0.608</td> <td>   -0.707     0.416</td>\n",
       "</tr>\n",
       "</table>\n",
       "<table class=\"simpletable\">\n",
       "<tr>\n",
       "  <th>Omnibus:</th>       <td>79.750</td> <th>  Durbin-Watson:     </th> <td>   2.136</td> \n",
       "</tr>\n",
       "<tr>\n",
       "  <th>Prob(Omnibus):</th> <td> 0.000</td> <th>  Jarque-Bera (JB):  </th> <td> 621.508</td> \n",
       "</tr>\n",
       "<tr>\n",
       "  <th>Skew:</th>          <td>-2.344</td> <th>  Prob(JB):          </th> <td>1.10e-135</td>\n",
       "</tr>\n",
       "<tr>\n",
       "  <th>Kurtosis:</th>      <td>13.718</td> <th>  Cond. No.          </th> <td>    69.5</td> \n",
       "</tr>\n",
       "</table>"
      ],
      "text/plain": [
       "<class 'statsmodels.iolib.summary.Summary'>\n",
       "\"\"\"\n",
       "                            OLS Regression Results                            \n",
       "==============================================================================\n",
       "Dep. Variable:           MCUserRating   R-squared:                       0.002\n",
       "Model:                            OLS   Adj. R-squared:                 -0.007\n",
       "Method:                 Least Squares   F-statistic:                    0.2643\n",
       "Date:                Tue, 26 Jan 2016   Prob (F-statistic):              0.608\n",
       "Time:                        16:19:18   Log-Likelihood:                -117.95\n",
       "No. Observations:                 109   AIC:                             239.9\n",
       "Df Residuals:                     107   BIC:                             245.3\n",
       "Df Model:                           1                                         \n",
       "Covariance Type:            nonrobust                                         \n",
       "==============================================================================\n",
       "                 coef    std err          t      P>|t|      [95.0% Conf. Int.]\n",
       "------------------------------------------------------------------------------\n",
       "Intercept      8.3355      1.131      7.368      0.000         6.093    10.578\n",
       "GRRating      -0.1457      0.283     -0.514      0.608        -0.707     0.416\n",
       "==============================================================================\n",
       "Omnibus:                       79.750   Durbin-Watson:                   2.136\n",
       "Prob(Omnibus):                  0.000   Jarque-Bera (JB):              621.508\n",
       "Skew:                          -2.344   Prob(JB):                    1.10e-135\n",
       "Kurtosis:                      13.718   Cond. No.                         69.5\n",
       "==============================================================================\n",
       "\n",
       "Warnings:\n",
       "[1] Standard Errors assume that the covariance matrix of the errors is correctly specified.\n",
       "\"\"\""
      ]
     },
     "execution_count": 21,
     "metadata": {},
     "output_type": "execute_result"
    }
   ],
   "source": [
    "MCuser_GR_OLS.summary()"
   ]
  },
  {
   "cell_type": "markdown",
   "metadata": {
    "collapsed": true
   },
   "source": [
    "## IMDB fit with other categories"
   ]
  },
  {
   "cell_type": "code",
   "execution_count": 22,
   "metadata": {
    "collapsed": false
   },
   "outputs": [
    {
     "name": "stdout",
     "output_type": "stream",
     "text": [
      "                                               Title     Budget      Gross  \\\n",
      "0                            The Wolf of Wall Street  100000000  116866727   \n",
      "1                                      Into the Wild   15000000   18352454   \n",
      "2                                          Gone Girl   61000000  167735396   \n",
      "3  Going Clear: Scientology and the Prison of Belief        NaN        NaN   \n",
      "4                                           The Pact        NaN        NaN   \n",
      "\n",
      "  MPAArating  Runtime  IMDBRating  IMDBRatingCount  IMDBMCRating  \\\n",
      "0          R      180         8.2           705753           NaN   \n",
      "1          R      148         8.2           401238           NaN   \n",
      "2          R      149         8.1           517073           NaN   \n",
      "3  NOT RATED      119         8.1            19936           NaN   \n",
      "4        NaN       84         8.1               31           NaN   \n",
      "\n",
      "   IMDBMCRatingCount  APPROVED      ...        NOT RATED  PASSED  PG  PG13  R  \\\n",
      "0                NaN         0      ...                0       0   0     0  1   \n",
      "1                NaN         0      ...                0       0   0     0  1   \n",
      "2                NaN         0      ...                0       0   0     0  1   \n",
      "3                NaN         0      ...                1       0   0     0  0   \n",
      "4                NaN         0      ...                0       0   0     0  0   \n",
      "\n",
      "   TV-14  UNRATED  X  GRRating  GRRatingCount  \n",
      "0      0        0  0      3.64          18175  \n",
      "1      0        0  0      3.92         539534  \n",
      "2      0        0  0      3.99        1240870  \n",
      "3      0        0  0      3.99          24468  \n",
      "4      0        0  0      3.99         211335  \n",
      "\n",
      "[5 rows x 24 columns]\n",
      "IMDBRating ~ GRRating + Runtime\n"
     ]
    }
   ],
   "source": [
    "IMDB_w_runtime = getOLSResults(IMDB_ratings, GR_ratings, 'IMDBRating', col2='GRRating', col3='Runtime')"
   ]
  },
  {
   "cell_type": "code",
   "execution_count": 23,
   "metadata": {
    "collapsed": false
   },
   "outputs": [
    {
     "data": {
      "text/html": [
       "<table class=\"simpletable\">\n",
       "<caption>OLS Regression Results</caption>\n",
       "<tr>\n",
       "  <th>Dep. Variable:</th>       <td>IMDBRating</td>    <th>  R-squared:         </th> <td>   0.006</td>\n",
       "</tr>\n",
       "<tr>\n",
       "  <th>Model:</th>                   <td>OLS</td>       <th>  Adj. R-squared:    </th> <td>  -0.006</td>\n",
       "</tr>\n",
       "<tr>\n",
       "  <th>Method:</th>             <td>Least Squares</td>  <th>  F-statistic:       </th> <td>  0.5000</td>\n",
       "</tr>\n",
       "<tr>\n",
       "  <th>Date:</th>             <td>Tue, 26 Jan 2016</td> <th>  Prob (F-statistic):</th>  <td> 0.607</td> \n",
       "</tr>\n",
       "<tr>\n",
       "  <th>Time:</th>                 <td>16:19:18</td>     <th>  Log-Likelihood:    </th> <td>  46.009</td>\n",
       "</tr>\n",
       "<tr>\n",
       "  <th>No. Observations:</th>      <td>   182</td>      <th>  AIC:               </th> <td>  -86.02</td>\n",
       "</tr>\n",
       "<tr>\n",
       "  <th>Df Residuals:</th>          <td>   179</td>      <th>  BIC:               </th> <td>  -76.41</td>\n",
       "</tr>\n",
       "<tr>\n",
       "  <th>Df Model:</th>              <td>     2</td>      <th>                     </th>     <td> </td>   \n",
       "</tr>\n",
       "<tr>\n",
       "  <th>Covariance Type:</th>      <td>nonrobust</td>    <th>                     </th>     <td> </td>   \n",
       "</tr>\n",
       "</table>\n",
       "<table class=\"simpletable\">\n",
       "<tr>\n",
       "      <td></td>         <th>coef</th>     <th>std err</th>      <th>t</th>      <th>P>|t|</th> <th>[95.0% Conf. Int.]</th> \n",
       "</tr>\n",
       "<tr>\n",
       "  <th>Intercept</th> <td>    7.6967</td> <td>    0.201</td> <td>   38.221</td> <td> 0.000</td> <td>    7.299     8.094</td>\n",
       "</tr>\n",
       "<tr>\n",
       "  <th>GRRating</th>  <td>   -0.0195</td> <td>    0.049</td> <td>   -0.397</td> <td> 0.692</td> <td>   -0.116     0.077</td>\n",
       "</tr>\n",
       "<tr>\n",
       "  <th>Runtime</th>   <td>    0.0005</td> <td>    0.001</td> <td>    0.941</td> <td> 0.348</td> <td>   -0.001     0.001</td>\n",
       "</tr>\n",
       "</table>\n",
       "<table class=\"simpletable\">\n",
       "<tr>\n",
       "  <th>Omnibus:</th>       <td> 5.119</td> <th>  Durbin-Watson:     </th> <td>   1.641</td>\n",
       "</tr>\n",
       "<tr>\n",
       "  <th>Prob(Omnibus):</th> <td> 0.077</td> <th>  Jarque-Bera (JB):  </th> <td>   5.681</td>\n",
       "</tr>\n",
       "<tr>\n",
       "  <th>Skew:</th>          <td>-0.223</td> <th>  Prob(JB):          </th> <td>  0.0584</td>\n",
       "</tr>\n",
       "<tr>\n",
       "  <th>Kurtosis:</th>      <td> 3.742</td> <th>  Cond. No.          </th> <td>1.83e+03</td>\n",
       "</tr>\n",
       "</table>"
      ],
      "text/plain": [
       "<class 'statsmodels.iolib.summary.Summary'>\n",
       "\"\"\"\n",
       "                            OLS Regression Results                            \n",
       "==============================================================================\n",
       "Dep. Variable:             IMDBRating   R-squared:                       0.006\n",
       "Model:                            OLS   Adj. R-squared:                 -0.006\n",
       "Method:                 Least Squares   F-statistic:                    0.5000\n",
       "Date:                Tue, 26 Jan 2016   Prob (F-statistic):              0.607\n",
       "Time:                        16:19:18   Log-Likelihood:                 46.009\n",
       "No. Observations:                 182   AIC:                            -86.02\n",
       "Df Residuals:                     179   BIC:                            -76.41\n",
       "Df Model:                           2                                         \n",
       "Covariance Type:            nonrobust                                         \n",
       "==============================================================================\n",
       "                 coef    std err          t      P>|t|      [95.0% Conf. Int.]\n",
       "------------------------------------------------------------------------------\n",
       "Intercept      7.6967      0.201     38.221      0.000         7.299     8.094\n",
       "GRRating      -0.0195      0.049     -0.397      0.692        -0.116     0.077\n",
       "Runtime        0.0005      0.001      0.941      0.348        -0.001     0.001\n",
       "==============================================================================\n",
       "Omnibus:                        5.119   Durbin-Watson:                   1.641\n",
       "Prob(Omnibus):                  0.077   Jarque-Bera (JB):                5.681\n",
       "Skew:                          -0.223   Prob(JB):                       0.0584\n",
       "Kurtosis:                       3.742   Cond. No.                     1.83e+03\n",
       "==============================================================================\n",
       "\n",
       "Warnings:\n",
       "[1] Standard Errors assume that the covariance matrix of the errors is correctly specified.\n",
       "[2] The condition number is large, 1.83e+03. This might indicate that there are\n",
       "strong multicollinearity or other numerical problems.\n",
       "\"\"\""
      ]
     },
     "execution_count": 23,
     "metadata": {},
     "output_type": "execute_result"
    }
   ],
   "source": [
    "IMDB_w_runtime.summary()"
   ]
  },
  {
   "cell_type": "code",
   "execution_count": 24,
   "metadata": {
    "collapsed": false
   },
   "outputs": [
    {
     "name": "stdout",
     "output_type": "stream",
     "text": [
      "                                               Title     Budget      Gross  \\\n",
      "0                            The Wolf of Wall Street  100000000  116866727   \n",
      "1                                      Into the Wild   15000000   18352454   \n",
      "2                                          Gone Girl   61000000  167735396   \n",
      "3  Going Clear: Scientology and the Prison of Belief        NaN        NaN   \n",
      "4                                           The Pact        NaN        NaN   \n",
      "\n",
      "  MPAArating  Runtime  IMDBRating  IMDBRatingCount  IMDBMCRating  \\\n",
      "0          R      180         8.2           705753           NaN   \n",
      "1          R      148         8.2           401238           NaN   \n",
      "2          R      149         8.1           517073           NaN   \n",
      "3  NOT RATED      119         8.1            19936           NaN   \n",
      "4        NaN       84         8.1               31           NaN   \n",
      "\n",
      "   IMDBMCRatingCount  APPROVED      ...        NOT RATED  PASSED  PG  PG13  R  \\\n",
      "0                NaN         0      ...                0       0   0     0  1   \n",
      "1                NaN         0      ...                0       0   0     0  1   \n",
      "2                NaN         0      ...                0       0   0     0  1   \n",
      "3                NaN         0      ...                1       0   0     0  0   \n",
      "4                NaN         0      ...                0       0   0     0  0   \n",
      "\n",
      "   TV-14  UNRATED  X  GRRating  GRRatingCount  \n",
      "0      0        0  0      3.64          18175  \n",
      "1      0        0  0      3.92         539534  \n",
      "2      0        0  0      3.99        1240870  \n",
      "3      0        0  0      3.99          24468  \n",
      "4      0        0  0      3.99         211335  \n",
      "\n",
      "[5 rows x 24 columns]\n",
      "IMDBRating ~ GRRating + G\n"
     ]
    },
    {
     "data": {
      "text/html": [
       "<table class=\"simpletable\">\n",
       "<caption>OLS Regression Results</caption>\n",
       "<tr>\n",
       "  <th>Dep. Variable:</th>       <td>IMDBRating</td>    <th>  R-squared:         </th> <td>   0.005</td>\n",
       "</tr>\n",
       "<tr>\n",
       "  <th>Model:</th>                   <td>OLS</td>       <th>  Adj. R-squared:    </th> <td>  -0.006</td>\n",
       "</tr>\n",
       "<tr>\n",
       "  <th>Method:</th>             <td>Least Squares</td>  <th>  F-statistic:       </th> <td>  0.4787</td>\n",
       "</tr>\n",
       "<tr>\n",
       "  <th>Date:</th>             <td>Tue, 26 Jan 2016</td> <th>  Prob (F-statistic):</th>  <td> 0.620</td> \n",
       "</tr>\n",
       "<tr>\n",
       "  <th>Time:</th>                 <td>16:19:19</td>     <th>  Log-Likelihood:    </th> <td>  48.006</td>\n",
       "</tr>\n",
       "<tr>\n",
       "  <th>No. Observations:</th>      <td>   187</td>      <th>  AIC:               </th> <td>  -90.01</td>\n",
       "</tr>\n",
       "<tr>\n",
       "  <th>Df Residuals:</th>          <td>   184</td>      <th>  BIC:               </th> <td>  -80.32</td>\n",
       "</tr>\n",
       "<tr>\n",
       "  <th>Df Model:</th>              <td>     2</td>      <th>                     </th>     <td> </td>   \n",
       "</tr>\n",
       "<tr>\n",
       "  <th>Covariance Type:</th>      <td>nonrobust</td>    <th>                     </th>     <td> </td>   \n",
       "</tr>\n",
       "</table>\n",
       "<table class=\"simpletable\">\n",
       "<tr>\n",
       "      <td></td>         <th>coef</th>     <th>std err</th>      <th>t</th>      <th>P>|t|</th> <th>[95.0% Conf. Int.]</th> \n",
       "</tr>\n",
       "<tr>\n",
       "  <th>Intercept</th> <td>    7.7837</td> <td>    0.200</td> <td>   38.959</td> <td> 0.000</td> <td>    7.390     8.178</td>\n",
       "</tr>\n",
       "<tr>\n",
       "  <th>GRRating</th>  <td>   -0.0285</td> <td>    0.050</td> <td>   -0.567</td> <td> 0.572</td> <td>   -0.128     0.071</td>\n",
       "</tr>\n",
       "<tr>\n",
       "  <th>G</th>         <td>    0.0606</td> <td>    0.066</td> <td>    0.912</td> <td> 0.363</td> <td>   -0.071     0.192</td>\n",
       "</tr>\n",
       "</table>\n",
       "<table class=\"simpletable\">\n",
       "<tr>\n",
       "  <th>Omnibus:</th>       <td> 4.760</td> <th>  Durbin-Watson:     </th> <td>   1.663</td>\n",
       "</tr>\n",
       "<tr>\n",
       "  <th>Prob(Omnibus):</th> <td> 0.093</td> <th>  Jarque-Bera (JB):  </th> <td>   5.775</td>\n",
       "</tr>\n",
       "<tr>\n",
       "  <th>Skew:</th>          <td>-0.149</td> <th>  Prob(JB):          </th> <td>  0.0557</td>\n",
       "</tr>\n",
       "<tr>\n",
       "  <th>Kurtosis:</th>      <td> 3.808</td> <th>  Cond. No.          </th> <td>    61.5</td>\n",
       "</tr>\n",
       "</table>"
      ],
      "text/plain": [
       "<class 'statsmodels.iolib.summary.Summary'>\n",
       "\"\"\"\n",
       "                            OLS Regression Results                            \n",
       "==============================================================================\n",
       "Dep. Variable:             IMDBRating   R-squared:                       0.005\n",
       "Model:                            OLS   Adj. R-squared:                 -0.006\n",
       "Method:                 Least Squares   F-statistic:                    0.4787\n",
       "Date:                Tue, 26 Jan 2016   Prob (F-statistic):              0.620\n",
       "Time:                        16:19:19   Log-Likelihood:                 48.006\n",
       "No. Observations:                 187   AIC:                            -90.01\n",
       "Df Residuals:                     184   BIC:                            -80.32\n",
       "Df Model:                           2                                         \n",
       "Covariance Type:            nonrobust                                         \n",
       "==============================================================================\n",
       "                 coef    std err          t      P>|t|      [95.0% Conf. Int.]\n",
       "------------------------------------------------------------------------------\n",
       "Intercept      7.7837      0.200     38.959      0.000         7.390     8.178\n",
       "GRRating      -0.0285      0.050     -0.567      0.572        -0.128     0.071\n",
       "G              0.0606      0.066      0.912      0.363        -0.071     0.192\n",
       "==============================================================================\n",
       "Omnibus:                        4.760   Durbin-Watson:                   1.663\n",
       "Prob(Omnibus):                  0.093   Jarque-Bera (JB):                5.775\n",
       "Skew:                          -0.149   Prob(JB):                       0.0557\n",
       "Kurtosis:                       3.808   Cond. No.                         61.5\n",
       "==============================================================================\n",
       "\n",
       "Warnings:\n",
       "[1] Standard Errors assume that the covariance matrix of the errors is correctly specified.\n",
       "\"\"\""
      ]
     },
     "execution_count": 24,
     "metadata": {},
     "output_type": "execute_result"
    }
   ],
   "source": [
    "IMDB_w_G = getOLSResults(IMDB_ratings, GR_ratings, 'IMDBRating', col2='GRRating', col3='G')\n",
    "IMDB_w_G.summary()"
   ]
  },
  {
   "cell_type": "code",
   "execution_count": 25,
   "metadata": {
    "collapsed": false,
    "scrolled": false
   },
   "outputs": [
    {
     "name": "stdout",
     "output_type": "stream",
     "text": [
      "                                               Title     Budget      Gross  \\\n",
      "0                            The Wolf of Wall Street  100000000  116866727   \n",
      "1                                      Into the Wild   15000000   18352454   \n",
      "2                                          Gone Girl   61000000  167735396   \n",
      "3  Going Clear: Scientology and the Prison of Belief        NaN        NaN   \n",
      "4                                           The Pact        NaN        NaN   \n",
      "\n",
      "  MPAArating  Runtime  IMDBRating  IMDBRatingCount  IMDBMCRating  \\\n",
      "0          R      180         8.2           705753           NaN   \n",
      "1          R      148         8.2           401238           NaN   \n",
      "2          R      149         8.1           517073           NaN   \n",
      "3  NOT RATED      119         8.1            19936           NaN   \n",
      "4        NaN       84         8.1               31           NaN   \n",
      "\n",
      "   IMDBMCRatingCount  APPROVED      ...        NOT RATED  PASSED  PG  PG13  R  \\\n",
      "0                NaN         0      ...                0       0   0     0  1   \n",
      "1                NaN         0      ...                0       0   0     0  1   \n",
      "2                NaN         0      ...                0       0   0     0  1   \n",
      "3                NaN         0      ...                1       0   0     0  0   \n",
      "4                NaN         0      ...                0       0   0     0  0   \n",
      "\n",
      "   TV-14  UNRATED  X  GRRating  GRRatingCount  \n",
      "0      0        0  0      3.64          18175  \n",
      "1      0        0  0      3.92         539534  \n",
      "2      0        0  0      3.99        1240870  \n",
      "3      0        0  0      3.99          24468  \n",
      "4      0        0  0      3.99         211335  \n",
      "\n",
      "[5 rows x 24 columns]\n",
      "IMDBRating ~ GRRating + PG\n"
     ]
    },
    {
     "data": {
      "text/html": [
       "<table class=\"simpletable\">\n",
       "<caption>OLS Regression Results</caption>\n",
       "<tr>\n",
       "  <th>Dep. Variable:</th>       <td>IMDBRating</td>    <th>  R-squared:         </th> <td>   0.002</td>\n",
       "</tr>\n",
       "<tr>\n",
       "  <th>Model:</th>                   <td>OLS</td>       <th>  Adj. R-squared:    </th> <td>  -0.008</td>\n",
       "</tr>\n",
       "<tr>\n",
       "  <th>Method:</th>             <td>Least Squares</td>  <th>  F-statistic:       </th> <td>  0.2231</td>\n",
       "</tr>\n",
       "<tr>\n",
       "  <th>Date:</th>             <td>Tue, 26 Jan 2016</td> <th>  Prob (F-statistic):</th>  <td> 0.800</td> \n",
       "</tr>\n",
       "<tr>\n",
       "  <th>Time:</th>                 <td>16:19:19</td>     <th>  Log-Likelihood:    </th> <td>  47.747</td>\n",
       "</tr>\n",
       "<tr>\n",
       "  <th>No. Observations:</th>      <td>   187</td>      <th>  AIC:               </th> <td>  -89.49</td>\n",
       "</tr>\n",
       "<tr>\n",
       "  <th>Df Residuals:</th>          <td>   184</td>      <th>  BIC:               </th> <td>  -79.80</td>\n",
       "</tr>\n",
       "<tr>\n",
       "  <th>Df Model:</th>              <td>     2</td>      <th>                     </th>     <td> </td>   \n",
       "</tr>\n",
       "<tr>\n",
       "  <th>Covariance Type:</th>      <td>nonrobust</td>    <th>                     </th>     <td> </td>   \n",
       "</tr>\n",
       "</table>\n",
       "<table class=\"simpletable\">\n",
       "<tr>\n",
       "      <td></td>         <th>coef</th>     <th>std err</th>      <th>t</th>      <th>P>|t|</th> <th>[95.0% Conf. Int.]</th> \n",
       "</tr>\n",
       "<tr>\n",
       "  <th>Intercept</th> <td>    7.7208</td> <td>    0.198</td> <td>   38.905</td> <td> 0.000</td> <td>    7.329     8.112</td>\n",
       "</tr>\n",
       "<tr>\n",
       "  <th>GRRating</th>  <td>   -0.0111</td> <td>    0.050</td> <td>   -0.221</td> <td> 0.825</td> <td>   -0.110     0.088</td>\n",
       "</tr>\n",
       "<tr>\n",
       "  <th>PG</th>        <td>   -0.0219</td> <td>    0.039</td> <td>   -0.566</td> <td> 0.572</td> <td>   -0.098     0.054</td>\n",
       "</tr>\n",
       "</table>\n",
       "<table class=\"simpletable\">\n",
       "<tr>\n",
       "  <th>Omnibus:</th>       <td> 4.470</td> <th>  Durbin-Watson:     </th> <td>   1.660</td>\n",
       "</tr>\n",
       "<tr>\n",
       "  <th>Prob(Omnibus):</th> <td> 0.107</td> <th>  Jarque-Bera (JB):  </th> <td>   5.168</td>\n",
       "</tr>\n",
       "<tr>\n",
       "  <th>Skew:</th>          <td>-0.156</td> <th>  Prob(JB):          </th> <td>  0.0755</td>\n",
       "</tr>\n",
       "<tr>\n",
       "  <th>Kurtosis:</th>      <td> 3.752</td> <th>  Cond. No.          </th> <td>    60.9</td>\n",
       "</tr>\n",
       "</table>"
      ],
      "text/plain": [
       "<class 'statsmodels.iolib.summary.Summary'>\n",
       "\"\"\"\n",
       "                            OLS Regression Results                            \n",
       "==============================================================================\n",
       "Dep. Variable:             IMDBRating   R-squared:                       0.002\n",
       "Model:                            OLS   Adj. R-squared:                 -0.008\n",
       "Method:                 Least Squares   F-statistic:                    0.2231\n",
       "Date:                Tue, 26 Jan 2016   Prob (F-statistic):              0.800\n",
       "Time:                        16:19:19   Log-Likelihood:                 47.747\n",
       "No. Observations:                 187   AIC:                            -89.49\n",
       "Df Residuals:                     184   BIC:                            -79.80\n",
       "Df Model:                           2                                         \n",
       "Covariance Type:            nonrobust                                         \n",
       "==============================================================================\n",
       "                 coef    std err          t      P>|t|      [95.0% Conf. Int.]\n",
       "------------------------------------------------------------------------------\n",
       "Intercept      7.7208      0.198     38.905      0.000         7.329     8.112\n",
       "GRRating      -0.0111      0.050     -0.221      0.825        -0.110     0.088\n",
       "PG            -0.0219      0.039     -0.566      0.572        -0.098     0.054\n",
       "==============================================================================\n",
       "Omnibus:                        4.470   Durbin-Watson:                   1.660\n",
       "Prob(Omnibus):                  0.107   Jarque-Bera (JB):                5.168\n",
       "Skew:                          -0.156   Prob(JB):                       0.0755\n",
       "Kurtosis:                       3.752   Cond. No.                         60.9\n",
       "==============================================================================\n",
       "\n",
       "Warnings:\n",
       "[1] Standard Errors assume that the covariance matrix of the errors is correctly specified.\n",
       "\"\"\""
      ]
     },
     "execution_count": 25,
     "metadata": {},
     "output_type": "execute_result"
    }
   ],
   "source": [
    "IMDB_w_PG = getOLSResults(IMDB_ratings, GR_ratings, 'IMDBRating', col2='GRRating', col3='PG')\n",
    "IMDB_w_PG.summary()"
   ]
  },
  {
   "cell_type": "code",
   "execution_count": 26,
   "metadata": {
    "collapsed": false
   },
   "outputs": [
    {
     "name": "stdout",
     "output_type": "stream",
     "text": [
      "                                               Title     Budget      Gross  \\\n",
      "0                            The Wolf of Wall Street  100000000  116866727   \n",
      "1                                      Into the Wild   15000000   18352454   \n",
      "2                                          Gone Girl   61000000  167735396   \n",
      "3  Going Clear: Scientology and the Prison of Belief        NaN        NaN   \n",
      "4                                           The Pact        NaN        NaN   \n",
      "\n",
      "  MPAArating  Runtime  IMDBRating  IMDBRatingCount  IMDBMCRating  \\\n",
      "0          R      180         8.2           705753           NaN   \n",
      "1          R      148         8.2           401238           NaN   \n",
      "2          R      149         8.1           517073           NaN   \n",
      "3  NOT RATED      119         8.1            19936           NaN   \n",
      "4        NaN       84         8.1               31           NaN   \n",
      "\n",
      "   IMDBMCRatingCount  APPROVED      ...        NOT RATED  PASSED  PG  PG13  R  \\\n",
      "0                NaN         0      ...                0       0   0     0  1   \n",
      "1                NaN         0      ...                0       0   0     0  1   \n",
      "2                NaN         0      ...                0       0   0     0  1   \n",
      "3                NaN         0      ...                1       0   0     0  0   \n",
      "4                NaN         0      ...                0       0   0     0  0   \n",
      "\n",
      "   TV-14  UNRATED  X  GRRating  GRRatingCount  \n",
      "0      0        0  0      3.64          18175  \n",
      "1      0        0  0      3.92         539534  \n",
      "2      0        0  0      3.99        1240870  \n",
      "3      0        0  0      3.99          24468  \n",
      "4      0        0  0      3.99         211335  \n",
      "\n",
      "[5 rows x 24 columns]\n",
      "IMDBRating ~ GRRating + PG13\n"
     ]
    },
    {
     "data": {
      "text/html": [
       "<table class=\"simpletable\">\n",
       "<caption>OLS Regression Results</caption>\n",
       "<tr>\n",
       "  <th>Dep. Variable:</th>       <td>IMDBRating</td>    <th>  R-squared:         </th> <td>   0.003</td>\n",
       "</tr>\n",
       "<tr>\n",
       "  <th>Model:</th>                   <td>OLS</td>       <th>  Adj. R-squared:    </th> <td>  -0.008</td>\n",
       "</tr>\n",
       "<tr>\n",
       "  <th>Method:</th>             <td>Least Squares</td>  <th>  F-statistic:       </th> <td>  0.3008</td>\n",
       "</tr>\n",
       "<tr>\n",
       "  <th>Date:</th>             <td>Tue, 26 Jan 2016</td> <th>  Prob (F-statistic):</th>  <td> 0.741</td> \n",
       "</tr>\n",
       "<tr>\n",
       "  <th>Time:</th>                 <td>16:19:19</td>     <th>  Log-Likelihood:    </th> <td>  47.825</td>\n",
       "</tr>\n",
       "<tr>\n",
       "  <th>No. Observations:</th>      <td>   187</td>      <th>  AIC:               </th> <td>  -89.65</td>\n",
       "</tr>\n",
       "<tr>\n",
       "  <th>Df Residuals:</th>          <td>   184</td>      <th>  BIC:               </th> <td>  -79.96</td>\n",
       "</tr>\n",
       "<tr>\n",
       "  <th>Df Model:</th>              <td>     2</td>      <th>                     </th>     <td> </td>   \n",
       "</tr>\n",
       "<tr>\n",
       "  <th>Covariance Type:</th>      <td>nonrobust</td>    <th>                     </th>     <td> </td>   \n",
       "</tr>\n",
       "</table>\n",
       "<table class=\"simpletable\">\n",
       "<tr>\n",
       "      <td></td>         <th>coef</th>     <th>std err</th>      <th>t</th>      <th>P>|t|</th> <th>[95.0% Conf. Int.]</th> \n",
       "</tr>\n",
       "<tr>\n",
       "  <th>Intercept</th> <td>    7.7581</td> <td>    0.196</td> <td>   39.564</td> <td> 0.000</td> <td>    7.371     8.145</td>\n",
       "</tr>\n",
       "<tr>\n",
       "  <th>GRRating</th>  <td>   -0.0201</td> <td>    0.049</td> <td>   -0.411</td> <td> 0.682</td> <td>   -0.117     0.077</td>\n",
       "</tr>\n",
       "<tr>\n",
       "  <th>PG13</th>      <td>   -0.0238</td> <td>    0.034</td> <td>   -0.690</td> <td> 0.491</td> <td>   -0.092     0.044</td>\n",
       "</tr>\n",
       "</table>\n",
       "<table class=\"simpletable\">\n",
       "<tr>\n",
       "  <th>Omnibus:</th>       <td> 4.815</td> <th>  Durbin-Watson:     </th> <td>   1.679</td>\n",
       "</tr>\n",
       "<tr>\n",
       "  <th>Prob(Omnibus):</th> <td> 0.090</td> <th>  Jarque-Bera (JB):  </th> <td>   5.612</td>\n",
       "</tr>\n",
       "<tr>\n",
       "  <th>Skew:</th>          <td>-0.176</td> <th>  Prob(JB):          </th> <td>  0.0604</td>\n",
       "</tr>\n",
       "<tr>\n",
       "  <th>Kurtosis:</th>      <td> 3.773</td> <th>  Cond. No.          </th> <td>    60.2</td>\n",
       "</tr>\n",
       "</table>"
      ],
      "text/plain": [
       "<class 'statsmodels.iolib.summary.Summary'>\n",
       "\"\"\"\n",
       "                            OLS Regression Results                            \n",
       "==============================================================================\n",
       "Dep. Variable:             IMDBRating   R-squared:                       0.003\n",
       "Model:                            OLS   Adj. R-squared:                 -0.008\n",
       "Method:                 Least Squares   F-statistic:                    0.3008\n",
       "Date:                Tue, 26 Jan 2016   Prob (F-statistic):              0.741\n",
       "Time:                        16:19:19   Log-Likelihood:                 47.825\n",
       "No. Observations:                 187   AIC:                            -89.65\n",
       "Df Residuals:                     184   BIC:                            -79.96\n",
       "Df Model:                           2                                         \n",
       "Covariance Type:            nonrobust                                         \n",
       "==============================================================================\n",
       "                 coef    std err          t      P>|t|      [95.0% Conf. Int.]\n",
       "------------------------------------------------------------------------------\n",
       "Intercept      7.7581      0.196     39.564      0.000         7.371     8.145\n",
       "GRRating      -0.0201      0.049     -0.411      0.682        -0.117     0.077\n",
       "PG13          -0.0238      0.034     -0.690      0.491        -0.092     0.044\n",
       "==============================================================================\n",
       "Omnibus:                        4.815   Durbin-Watson:                   1.679\n",
       "Prob(Omnibus):                  0.090   Jarque-Bera (JB):                5.612\n",
       "Skew:                          -0.176   Prob(JB):                       0.0604\n",
       "Kurtosis:                       3.773   Cond. No.                         60.2\n",
       "==============================================================================\n",
       "\n",
       "Warnings:\n",
       "[1] Standard Errors assume that the covariance matrix of the errors is correctly specified.\n",
       "\"\"\""
      ]
     },
     "execution_count": 26,
     "metadata": {},
     "output_type": "execute_result"
    }
   ],
   "source": [
    "IMDB_w_PG13 = getOLSResults(IMDB_ratings, GR_ratings, 'IMDBRating', col2='GRRating', col3='PG13')\n",
    "IMDB_w_PG13.summary()"
   ]
  },
  {
   "cell_type": "code",
   "execution_count": 27,
   "metadata": {
    "collapsed": false
   },
   "outputs": [
    {
     "name": "stdout",
     "output_type": "stream",
     "text": [
      "                                               Title     Budget      Gross  \\\n",
      "0                            The Wolf of Wall Street  100000000  116866727   \n",
      "1                                      Into the Wild   15000000   18352454   \n",
      "2                                          Gone Girl   61000000  167735396   \n",
      "3  Going Clear: Scientology and the Prison of Belief        NaN        NaN   \n",
      "4                                           The Pact        NaN        NaN   \n",
      "\n",
      "  MPAArating  Runtime  IMDBRating  IMDBRatingCount  IMDBMCRating  \\\n",
      "0          R      180         8.2           705753           NaN   \n",
      "1          R      148         8.2           401238           NaN   \n",
      "2          R      149         8.1           517073           NaN   \n",
      "3  NOT RATED      119         8.1            19936           NaN   \n",
      "4        NaN       84         8.1               31           NaN   \n",
      "\n",
      "   IMDBMCRatingCount  APPROVED      ...        NOT RATED  PASSED  PG  PG13  R  \\\n",
      "0                NaN         0      ...                0       0   0     0  1   \n",
      "1                NaN         0      ...                0       0   0     0  1   \n",
      "2                NaN         0      ...                0       0   0     0  1   \n",
      "3                NaN         0      ...                1       0   0     0  0   \n",
      "4                NaN         0      ...                0       0   0     0  0   \n",
      "\n",
      "   TV-14  UNRATED  X  GRRating  GRRatingCount  \n",
      "0      0        0  0      3.64          18175  \n",
      "1      0        0  0      3.92         539534  \n",
      "2      0        0  0      3.99        1240870  \n",
      "3      0        0  0      3.99          24468  \n",
      "4      0        0  0      3.99         211335  \n",
      "\n",
      "[5 rows x 24 columns]\n",
      "IMDBRating ~ Gross + Budget\n"
     ]
    },
    {
     "data": {
      "text/html": [
       "<table class=\"simpletable\">\n",
       "<caption>OLS Regression Results</caption>\n",
       "<tr>\n",
       "  <th>Dep. Variable:</th>       <td>IMDBRating</td>    <th>  R-squared:         </th> <td>   0.024</td>\n",
       "</tr>\n",
       "<tr>\n",
       "  <th>Model:</th>                   <td>OLS</td>       <th>  Adj. R-squared:    </th> <td>  -0.004</td>\n",
       "</tr>\n",
       "<tr>\n",
       "  <th>Method:</th>             <td>Least Squares</td>  <th>  F-statistic:       </th> <td>  0.8525</td>\n",
       "</tr>\n",
       "<tr>\n",
       "  <th>Date:</th>             <td>Tue, 26 Jan 2016</td> <th>  Prob (F-statistic):</th>  <td> 0.431</td> \n",
       "</tr>\n",
       "<tr>\n",
       "  <th>Time:</th>                 <td>16:19:19</td>     <th>  Log-Likelihood:    </th> <td>  12.172</td>\n",
       "</tr>\n",
       "<tr>\n",
       "  <th>No. Observations:</th>      <td>    73</td>      <th>  AIC:               </th> <td>  -18.34</td>\n",
       "</tr>\n",
       "<tr>\n",
       "  <th>Df Residuals:</th>          <td>    70</td>      <th>  BIC:               </th> <td>  -11.47</td>\n",
       "</tr>\n",
       "<tr>\n",
       "  <th>Df Model:</th>              <td>     2</td>      <th>                     </th>     <td> </td>   \n",
       "</tr>\n",
       "<tr>\n",
       "  <th>Covariance Type:</th>      <td>nonrobust</td>    <th>                     </th>     <td> </td>   \n",
       "</tr>\n",
       "</table>\n",
       "<table class=\"simpletable\">\n",
       "<tr>\n",
       "      <td></td>         <th>coef</th>     <th>std err</th>      <th>t</th>      <th>P>|t|</th> <th>[95.0% Conf. Int.]</th> \n",
       "</tr>\n",
       "<tr>\n",
       "  <th>Intercept</th> <td>    7.6261</td> <td>    0.042</td> <td>  180.351</td> <td> 0.000</td> <td>    7.542     7.710</td>\n",
       "</tr>\n",
       "<tr>\n",
       "  <th>Gross</th>     <td> 4.986e-10</td> <td> 4.08e-10</td> <td>    1.221</td> <td> 0.226</td> <td>-3.16e-10  1.31e-09</td>\n",
       "</tr>\n",
       "<tr>\n",
       "  <th>Budget</th>    <td>-4.546e-10</td> <td> 6.31e-10</td> <td>   -0.720</td> <td> 0.474</td> <td>-1.71e-09  8.04e-10</td>\n",
       "</tr>\n",
       "</table>\n",
       "<table class=\"simpletable\">\n",
       "<tr>\n",
       "  <th>Omnibus:</th>       <td> 3.489</td> <th>  Durbin-Watson:     </th> <td>   1.473</td>\n",
       "</tr>\n",
       "<tr>\n",
       "  <th>Prob(Omnibus):</th> <td> 0.175</td> <th>  Jarque-Bera (JB):  </th> <td>   3.649</td>\n",
       "</tr>\n",
       "<tr>\n",
       "  <th>Skew:</th>          <td> 0.027</td> <th>  Prob(JB):          </th> <td>   0.161</td>\n",
       "</tr>\n",
       "<tr>\n",
       "  <th>Kurtosis:</th>      <td> 4.094</td> <th>  Cond. No.          </th> <td>1.75e+08</td>\n",
       "</tr>\n",
       "</table>"
      ],
      "text/plain": [
       "<class 'statsmodels.iolib.summary.Summary'>\n",
       "\"\"\"\n",
       "                            OLS Regression Results                            \n",
       "==============================================================================\n",
       "Dep. Variable:             IMDBRating   R-squared:                       0.024\n",
       "Model:                            OLS   Adj. R-squared:                 -0.004\n",
       "Method:                 Least Squares   F-statistic:                    0.8525\n",
       "Date:                Tue, 26 Jan 2016   Prob (F-statistic):              0.431\n",
       "Time:                        16:19:19   Log-Likelihood:                 12.172\n",
       "No. Observations:                  73   AIC:                            -18.34\n",
       "Df Residuals:                      70   BIC:                            -11.47\n",
       "Df Model:                           2                                         \n",
       "Covariance Type:            nonrobust                                         \n",
       "==============================================================================\n",
       "                 coef    std err          t      P>|t|      [95.0% Conf. Int.]\n",
       "------------------------------------------------------------------------------\n",
       "Intercept      7.6261      0.042    180.351      0.000         7.542     7.710\n",
       "Gross       4.986e-10   4.08e-10      1.221      0.226     -3.16e-10  1.31e-09\n",
       "Budget     -4.546e-10   6.31e-10     -0.720      0.474     -1.71e-09  8.04e-10\n",
       "==============================================================================\n",
       "Omnibus:                        3.489   Durbin-Watson:                   1.473\n",
       "Prob(Omnibus):                  0.175   Jarque-Bera (JB):                3.649\n",
       "Skew:                           0.027   Prob(JB):                        0.161\n",
       "Kurtosis:                       4.094   Cond. No.                     1.75e+08\n",
       "==============================================================================\n",
       "\n",
       "Warnings:\n",
       "[1] Standard Errors assume that the covariance matrix of the errors is correctly specified.\n",
       "[2] The condition number is large, 1.75e+08. This might indicate that there are\n",
       "strong multicollinearity or other numerical problems.\n",
       "\"\"\""
      ]
     },
     "execution_count": 27,
     "metadata": {},
     "output_type": "execute_result"
    }
   ],
   "source": [
    "IMDB_w_R = getOLSResults(IMDB_ratings, GR_ratings, 'IMDBRating', col2='Gross', col3='Budget')\n",
    "IMDB_w_R.summary()"
   ]
  },
  {
   "cell_type": "code",
   "execution_count": 28,
   "metadata": {
    "collapsed": false
   },
   "outputs": [
    {
     "name": "stdout",
     "output_type": "stream",
     "text": [
      "                                               Title     Budget      Gross  \\\n",
      "0                            The Wolf of Wall Street  100000000  116866727   \n",
      "1                                      Into the Wild   15000000   18352454   \n",
      "2                                          Gone Girl   61000000  167735396   \n",
      "3  Going Clear: Scientology and the Prison of Belief        NaN        NaN   \n",
      "4                                           The Pact        NaN        NaN   \n",
      "\n",
      "  MPAArating  Runtime  IMDBRating  IMDBRatingCount  IMDBMCRating  \\\n",
      "0          R      180         8.2           705753           NaN   \n",
      "1          R      148         8.2           401238           NaN   \n",
      "2          R      149         8.1           517073           NaN   \n",
      "3  NOT RATED      119         8.1            19936           NaN   \n",
      "4        NaN       84         8.1               31           NaN   \n",
      "\n",
      "   IMDBMCRatingCount  APPROVED      ...        NOT RATED  PASSED  PG  PG13  R  \\\n",
      "0                NaN         0      ...                0       0   0     0  1   \n",
      "1                NaN         0      ...                0       0   0     0  1   \n",
      "2                NaN         0      ...                0       0   0     0  1   \n",
      "3                NaN         0      ...                1       0   0     0  0   \n",
      "4                NaN         0      ...                0       0   0     0  0   \n",
      "\n",
      "   TV-14  UNRATED  X  GRRating  GRRatingCount  \n",
      "0      0        0  0      3.64          18175  \n",
      "1      0        0  0      3.92         539534  \n",
      "2      0        0  0      3.99        1240870  \n",
      "3      0        0  0      3.99          24468  \n",
      "4      0        0  0      3.99         211335  \n",
      "\n",
      "[5 rows x 24 columns]\n",
      "IMDBRating ~ GRRating + Budget\n"
     ]
    },
    {
     "data": {
      "text/html": [
       "<table class=\"simpletable\">\n",
       "<caption>OLS Regression Results</caption>\n",
       "<tr>\n",
       "  <th>Dep. Variable:</th>       <td>IMDBRating</td>    <th>  R-squared:         </th> <td>   0.034</td>\n",
       "</tr>\n",
       "<tr>\n",
       "  <th>Model:</th>                   <td>OLS</td>       <th>  Adj. R-squared:    </th> <td>   0.009</td>\n",
       "</tr>\n",
       "<tr>\n",
       "  <th>Method:</th>             <td>Least Squares</td>  <th>  F-statistic:       </th> <td>   1.378</td>\n",
       "</tr>\n",
       "<tr>\n",
       "  <th>Date:</th>             <td>Tue, 26 Jan 2016</td> <th>  Prob (F-statistic):</th>  <td> 0.258</td> \n",
       "</tr>\n",
       "<tr>\n",
       "  <th>Time:</th>                 <td>16:19:19</td>     <th>  Log-Likelihood:    </th> <td>  18.032</td>\n",
       "</tr>\n",
       "<tr>\n",
       "  <th>No. Observations:</th>      <td>    82</td>      <th>  AIC:               </th> <td>  -30.06</td>\n",
       "</tr>\n",
       "<tr>\n",
       "  <th>Df Residuals:</th>          <td>    79</td>      <th>  BIC:               </th> <td>  -22.84</td>\n",
       "</tr>\n",
       "<tr>\n",
       "  <th>Df Model:</th>              <td>     2</td>      <th>                     </th>     <td> </td>   \n",
       "</tr>\n",
       "<tr>\n",
       "  <th>Covariance Type:</th>      <td>nonrobust</td>    <th>                     </th>     <td> </td>   \n",
       "</tr>\n",
       "</table>\n",
       "<table class=\"simpletable\">\n",
       "<tr>\n",
       "      <td></td>         <th>coef</th>     <th>std err</th>      <th>t</th>      <th>P>|t|</th> <th>[95.0% Conf. Int.]</th> \n",
       "</tr>\n",
       "<tr>\n",
       "  <th>Intercept</th> <td>    8.2545</td> <td>    0.377</td> <td>   21.885</td> <td> 0.000</td> <td>    7.504     9.005</td>\n",
       "</tr>\n",
       "<tr>\n",
       "  <th>GRRating</th>  <td>   -0.1552</td> <td>    0.097</td> <td>   -1.599</td> <td> 0.114</td> <td>   -0.348     0.038</td>\n",
       "</tr>\n",
       "<tr>\n",
       "  <th>Budget</th>    <td>  1.23e-10</td> <td> 6.16e-10</td> <td>    0.200</td> <td> 0.842</td> <td> -1.1e-09  1.35e-09</td>\n",
       "</tr>\n",
       "</table>\n",
       "<table class=\"simpletable\">\n",
       "<tr>\n",
       "  <th>Omnibus:</th>       <td> 7.607</td> <th>  Durbin-Watson:     </th> <td>   1.748</td>\n",
       "</tr>\n",
       "<tr>\n",
       "  <th>Prob(Omnibus):</th> <td> 0.022</td> <th>  Jarque-Bera (JB):  </th> <td>  12.584</td>\n",
       "</tr>\n",
       "<tr>\n",
       "  <th>Skew:</th>          <td>-0.245</td> <th>  Prob(JB):          </th> <td> 0.00185</td>\n",
       "</tr>\n",
       "<tr>\n",
       "  <th>Kurtosis:</th>      <td> 4.856</td> <th>  Cond. No.          </th> <td>1.02e+09</td>\n",
       "</tr>\n",
       "</table>"
      ],
      "text/plain": [
       "<class 'statsmodels.iolib.summary.Summary'>\n",
       "\"\"\"\n",
       "                            OLS Regression Results                            \n",
       "==============================================================================\n",
       "Dep. Variable:             IMDBRating   R-squared:                       0.034\n",
       "Model:                            OLS   Adj. R-squared:                  0.009\n",
       "Method:                 Least Squares   F-statistic:                     1.378\n",
       "Date:                Tue, 26 Jan 2016   Prob (F-statistic):              0.258\n",
       "Time:                        16:19:19   Log-Likelihood:                 18.032\n",
       "No. Observations:                  82   AIC:                            -30.06\n",
       "Df Residuals:                      79   BIC:                            -22.84\n",
       "Df Model:                           2                                         \n",
       "Covariance Type:            nonrobust                                         \n",
       "==============================================================================\n",
       "                 coef    std err          t      P>|t|      [95.0% Conf. Int.]\n",
       "------------------------------------------------------------------------------\n",
       "Intercept      8.2545      0.377     21.885      0.000         7.504     9.005\n",
       "GRRating      -0.1552      0.097     -1.599      0.114        -0.348     0.038\n",
       "Budget       1.23e-10   6.16e-10      0.200      0.842      -1.1e-09  1.35e-09\n",
       "==============================================================================\n",
       "Omnibus:                        7.607   Durbin-Watson:                   1.748\n",
       "Prob(Omnibus):                  0.022   Jarque-Bera (JB):               12.584\n",
       "Skew:                          -0.245   Prob(JB):                      0.00185\n",
       "Kurtosis:                       4.856   Cond. No.                     1.02e+09\n",
       "==============================================================================\n",
       "\n",
       "Warnings:\n",
       "[1] Standard Errors assume that the covariance matrix of the errors is correctly specified.\n",
       "[2] The condition number is large, 1.02e+09. This might indicate that there are\n",
       "strong multicollinearity or other numerical problems.\n",
       "\"\"\""
      ]
     },
     "execution_count": 28,
     "metadata": {},
     "output_type": "execute_result"
    }
   ],
   "source": [
    "IMDB_w_R_Gross = getOLSResults(IMDB_ratings, GR_ratings, 'IMDBRating', col3='Budget')\n",
    "IMDB_w_R_Gross.summary()"
   ]
  },
  {
   "cell_type": "code",
   "execution_count": 29,
   "metadata": {
    "collapsed": false
   },
   "outputs": [
    {
     "name": "stdout",
     "output_type": "stream",
     "text": [
      "                                               Title     Budget      Gross  \\\n",
      "0                            The Wolf of Wall Street  100000000  116866727   \n",
      "1                                      Into the Wild   15000000   18352454   \n",
      "2                                          Gone Girl   61000000  167735396   \n",
      "3  Going Clear: Scientology and the Prison of Belief        NaN        NaN   \n",
      "4                                           The Pact        NaN        NaN   \n",
      "\n",
      "  MPAArating  Runtime  IMDBRating  IMDBRatingCount  IMDBMCRating  \\\n",
      "0          R      180         8.2           705753           NaN   \n",
      "1          R      148         8.2           401238           NaN   \n",
      "2          R      149         8.1           517073           NaN   \n",
      "3  NOT RATED      119         8.1            19936           NaN   \n",
      "4        NaN       84         8.1               31           NaN   \n",
      "\n",
      "   IMDBMCRatingCount  APPROVED      ...        NOT RATED  PASSED  PG  PG13  R  \\\n",
      "0                NaN         0      ...                0       0   0     0  1   \n",
      "1                NaN         0      ...                0       0   0     0  1   \n",
      "2                NaN         0      ...                0       0   0     0  1   \n",
      "3                NaN         0      ...                1       0   0     0  0   \n",
      "4                NaN         0      ...                0       0   0     0  0   \n",
      "\n",
      "   TV-14  UNRATED  X  GRRating  GRRatingCount  \n",
      "0      0        0  0      3.64          18175  \n",
      "1      0        0  0      3.92         539534  \n",
      "2      0        0  0      3.99        1240870  \n",
      "3      0        0  0      3.99          24468  \n",
      "4      0        0  0      3.99         211335  \n",
      "\n",
      "[5 rows x 24 columns]\n",
      "IMDBRating ~ GRRating + Runtime + R\n"
     ]
    },
    {
     "data": {
      "text/html": [
       "<table class=\"simpletable\">\n",
       "<caption>OLS Regression Results</caption>\n",
       "<tr>\n",
       "  <th>Dep. Variable:</th>       <td>IMDBRating</td>    <th>  R-squared:         </th> <td>   0.012</td>\n",
       "</tr>\n",
       "<tr>\n",
       "  <th>Model:</th>                   <td>OLS</td>       <th>  Adj. R-squared:    </th> <td>  -0.004</td>\n",
       "</tr>\n",
       "<tr>\n",
       "  <th>Method:</th>             <td>Least Squares</td>  <th>  F-statistic:       </th> <td>  0.7466</td>\n",
       "</tr>\n",
       "<tr>\n",
       "  <th>Date:</th>             <td>Tue, 26 Jan 2016</td> <th>  Prob (F-statistic):</th>  <td> 0.526</td> \n",
       "</tr>\n",
       "<tr>\n",
       "  <th>Time:</th>                 <td>16:19:19</td>     <th>  Log-Likelihood:    </th> <td>  46.640</td>\n",
       "</tr>\n",
       "<tr>\n",
       "  <th>No. Observations:</th>      <td>   182</td>      <th>  AIC:               </th> <td>  -85.28</td>\n",
       "</tr>\n",
       "<tr>\n",
       "  <th>Df Residuals:</th>          <td>   178</td>      <th>  BIC:               </th> <td>  -72.46</td>\n",
       "</tr>\n",
       "<tr>\n",
       "  <th>Df Model:</th>              <td>     3</td>      <th>                     </th>     <td> </td>   \n",
       "</tr>\n",
       "<tr>\n",
       "  <th>Covariance Type:</th>      <td>nonrobust</td>    <th>                     </th>     <td> </td>   \n",
       "</tr>\n",
       "</table>\n",
       "<table class=\"simpletable\">\n",
       "<tr>\n",
       "      <td></td>         <th>coef</th>     <th>std err</th>      <th>t</th>      <th>P>|t|</th> <th>[95.0% Conf. Int.]</th> \n",
       "</tr>\n",
       "<tr>\n",
       "  <th>Intercept</th> <td>    7.7056</td> <td>    0.201</td> <td>   38.260</td> <td> 0.000</td> <td>    7.308     8.103</td>\n",
       "</tr>\n",
       "<tr>\n",
       "  <th>GRRating</th>  <td>   -0.0248</td> <td>    0.049</td> <td>   -0.502</td> <td> 0.616</td> <td>   -0.122     0.073</td>\n",
       "</tr>\n",
       "<tr>\n",
       "  <th>Runtime</th>   <td>    0.0007</td> <td>    0.001</td> <td>    1.239</td> <td> 0.217</td> <td>   -0.000     0.002</td>\n",
       "</tr>\n",
       "<tr>\n",
       "  <th>R</th>         <td>   -0.0369</td> <td>    0.033</td> <td>   -1.113</td> <td> 0.267</td> <td>   -0.102     0.029</td>\n",
       "</tr>\n",
       "</table>\n",
       "<table class=\"simpletable\">\n",
       "<tr>\n",
       "  <th>Omnibus:</th>       <td> 4.430</td> <th>  Durbin-Watson:     </th> <td>   1.612</td>\n",
       "</tr>\n",
       "<tr>\n",
       "  <th>Prob(Omnibus):</th> <td> 0.109</td> <th>  Jarque-Bera (JB):  </th> <td>   4.843</td>\n",
       "</tr>\n",
       "<tr>\n",
       "  <th>Skew:</th>          <td>-0.187</td> <th>  Prob(JB):          </th> <td>  0.0888</td>\n",
       "</tr>\n",
       "<tr>\n",
       "  <th>Kurtosis:</th>      <td> 3.707</td> <th>  Cond. No.          </th> <td>1.83e+03</td>\n",
       "</tr>\n",
       "</table>"
      ],
      "text/plain": [
       "<class 'statsmodels.iolib.summary.Summary'>\n",
       "\"\"\"\n",
       "                            OLS Regression Results                            \n",
       "==============================================================================\n",
       "Dep. Variable:             IMDBRating   R-squared:                       0.012\n",
       "Model:                            OLS   Adj. R-squared:                 -0.004\n",
       "Method:                 Least Squares   F-statistic:                    0.7466\n",
       "Date:                Tue, 26 Jan 2016   Prob (F-statistic):              0.526\n",
       "Time:                        16:19:19   Log-Likelihood:                 46.640\n",
       "No. Observations:                 182   AIC:                            -85.28\n",
       "Df Residuals:                     178   BIC:                            -72.46\n",
       "Df Model:                           3                                         \n",
       "Covariance Type:            nonrobust                                         \n",
       "==============================================================================\n",
       "                 coef    std err          t      P>|t|      [95.0% Conf. Int.]\n",
       "------------------------------------------------------------------------------\n",
       "Intercept      7.7056      0.201     38.260      0.000         7.308     8.103\n",
       "GRRating      -0.0248      0.049     -0.502      0.616        -0.122     0.073\n",
       "Runtime        0.0007      0.001      1.239      0.217        -0.000     0.002\n",
       "R             -0.0369      0.033     -1.113      0.267        -0.102     0.029\n",
       "==============================================================================\n",
       "Omnibus:                        4.430   Durbin-Watson:                   1.612\n",
       "Prob(Omnibus):                  0.109   Jarque-Bera (JB):                4.843\n",
       "Skew:                          -0.187   Prob(JB):                       0.0888\n",
       "Kurtosis:                       3.707   Cond. No.                     1.83e+03\n",
       "==============================================================================\n",
       "\n",
       "Warnings:\n",
       "[1] Standard Errors assume that the covariance matrix of the errors is correctly specified.\n",
       "[2] The condition number is large, 1.83e+03. This might indicate that there are\n",
       "strong multicollinearity or other numerical problems.\n",
       "\"\"\""
      ]
     },
     "execution_count": 29,
     "metadata": {},
     "output_type": "execute_result"
    }
   ],
   "source": [
    "IMDB_w_RuntimeR = getOLSResults(IMDB_ratings, GR_ratings, 'IMDBRating', col2='GRRating', col3='Runtime', col4='R')\n",
    "IMDB_w_RuntimeR.summary()"
   ]
  },
  {
   "cell_type": "code",
   "execution_count": 30,
   "metadata": {
    "collapsed": false
   },
   "outputs": [
    {
     "name": "stdout",
     "output_type": "stream",
     "text": [
      "                                               Title     Budget      Gross  \\\n",
      "0                            The Wolf of Wall Street  100000000  116866727   \n",
      "1                                      Into the Wild   15000000   18352454   \n",
      "2                                          Gone Girl   61000000  167735396   \n",
      "3  Going Clear: Scientology and the Prison of Belief        NaN        NaN   \n",
      "4                                           The Pact        NaN        NaN   \n",
      "\n",
      "  MPAArating  Runtime  IMDBRating  IMDBRatingCount  IMDBMCRating  \\\n",
      "0          R      180         8.2           705753           NaN   \n",
      "1          R      148         8.2           401238           NaN   \n",
      "2          R      149         8.1           517073           NaN   \n",
      "3  NOT RATED      119         8.1            19936           NaN   \n",
      "4        NaN       84         8.1               31           NaN   \n",
      "\n",
      "   IMDBMCRatingCount  APPROVED      ...        NOT RATED  PASSED  PG  PG13  R  \\\n",
      "0                NaN         0      ...                0       0   0     0  1   \n",
      "1                NaN         0      ...                0       0   0     0  1   \n",
      "2                NaN         0      ...                0       0   0     0  1   \n",
      "3                NaN         0      ...                1       0   0     0  0   \n",
      "4                NaN         0      ...                0       0   0     0  0   \n",
      "\n",
      "   TV-14  UNRATED  X  GRRating  GRRatingCount  \n",
      "0      0        0  0      3.64          18175  \n",
      "1      0        0  0      3.92         539534  \n",
      "2      0        0  0      3.99        1240870  \n",
      "3      0        0  0      3.99          24468  \n",
      "4      0        0  0      3.99         211335  \n",
      "\n",
      "[5 rows x 24 columns]\n",
      "IMDBRating ~ GRRating + Runtime + G + PG + PG13 + R\n"
     ]
    },
    {
     "data": {
      "text/html": [
       "<table class=\"simpletable\">\n",
       "<caption>OLS Regression Results</caption>\n",
       "<tr>\n",
       "  <th>Dep. Variable:</th>       <td>IMDBRating</td>    <th>  R-squared:         </th> <td>   0.035</td>\n",
       "</tr>\n",
       "<tr>\n",
       "  <th>Model:</th>                   <td>OLS</td>       <th>  Adj. R-squared:    </th> <td>   0.002</td>\n",
       "</tr>\n",
       "<tr>\n",
       "  <th>Method:</th>             <td>Least Squares</td>  <th>  F-statistic:       </th> <td>   1.057</td>\n",
       "</tr>\n",
       "<tr>\n",
       "  <th>Date:</th>             <td>Tue, 26 Jan 2016</td> <th>  Prob (F-statistic):</th>  <td> 0.391</td> \n",
       "</tr>\n",
       "<tr>\n",
       "  <th>Time:</th>                 <td>16:19:19</td>     <th>  Log-Likelihood:    </th> <td>  48.740</td>\n",
       "</tr>\n",
       "<tr>\n",
       "  <th>No. Observations:</th>      <td>   182</td>      <th>  AIC:               </th> <td>  -83.48</td>\n",
       "</tr>\n",
       "<tr>\n",
       "  <th>Df Residuals:</th>          <td>   175</td>      <th>  BIC:               </th> <td>  -61.05</td>\n",
       "</tr>\n",
       "<tr>\n",
       "  <th>Df Model:</th>              <td>     6</td>      <th>                     </th>     <td> </td>   \n",
       "</tr>\n",
       "<tr>\n",
       "  <th>Covariance Type:</th>      <td>nonrobust</td>    <th>                     </th>     <td> </td>   \n",
       "</tr>\n",
       "</table>\n",
       "<table class=\"simpletable\">\n",
       "<tr>\n",
       "      <td></td>         <th>coef</th>     <th>std err</th>      <th>t</th>      <th>P>|t|</th> <th>[95.0% Conf. Int.]</th> \n",
       "</tr>\n",
       "<tr>\n",
       "  <th>Intercept</th> <td>    7.7141</td> <td>    0.209</td> <td>   36.895</td> <td> 0.000</td> <td>    7.301     8.127</td>\n",
       "</tr>\n",
       "<tr>\n",
       "  <th>GRRating</th>  <td>   -0.0241</td> <td>    0.052</td> <td>   -0.459</td> <td> 0.647</td> <td>   -0.128     0.079</td>\n",
       "</tr>\n",
       "<tr>\n",
       "  <th>Runtime</th>   <td>    0.0008</td> <td>    0.001</td> <td>    1.543</td> <td> 0.125</td> <td>   -0.000     0.002</td>\n",
       "</tr>\n",
       "<tr>\n",
       "  <th>G</th>         <td>    0.0214</td> <td>    0.071</td> <td>    0.303</td> <td> 0.762</td> <td>   -0.118     0.161</td>\n",
       "</tr>\n",
       "<tr>\n",
       "  <th>PG</th>        <td>   -0.0601</td> <td>    0.044</td> <td>   -1.357</td> <td> 0.176</td> <td>   -0.148     0.027</td>\n",
       "</tr>\n",
       "<tr>\n",
       "  <th>PG13</th>      <td>   -0.0660</td> <td>    0.040</td> <td>   -1.639</td> <td> 0.103</td> <td>   -0.145     0.013</td>\n",
       "</tr>\n",
       "<tr>\n",
       "  <th>R</th>         <td>   -0.0713</td> <td>    0.039</td> <td>   -1.830</td> <td> 0.069</td> <td>   -0.148     0.006</td>\n",
       "</tr>\n",
       "</table>\n",
       "<table class=\"simpletable\">\n",
       "<tr>\n",
       "  <th>Omnibus:</th>       <td> 3.970</td> <th>  Durbin-Watson:     </th> <td>   1.593</td>\n",
       "</tr>\n",
       "<tr>\n",
       "  <th>Prob(Omnibus):</th> <td> 0.137</td> <th>  Jarque-Bera (JB):  </th> <td>   4.272</td>\n",
       "</tr>\n",
       "<tr>\n",
       "  <th>Skew:</th>          <td>-0.161</td> <th>  Prob(JB):          </th> <td>   0.118</td>\n",
       "</tr>\n",
       "<tr>\n",
       "  <th>Kurtosis:</th>      <td> 3.678</td> <th>  Cond. No.          </th> <td>1.91e+03</td>\n",
       "</tr>\n",
       "</table>"
      ],
      "text/plain": [
       "<class 'statsmodels.iolib.summary.Summary'>\n",
       "\"\"\"\n",
       "                            OLS Regression Results                            \n",
       "==============================================================================\n",
       "Dep. Variable:             IMDBRating   R-squared:                       0.035\n",
       "Model:                            OLS   Adj. R-squared:                  0.002\n",
       "Method:                 Least Squares   F-statistic:                     1.057\n",
       "Date:                Tue, 26 Jan 2016   Prob (F-statistic):              0.391\n",
       "Time:                        16:19:19   Log-Likelihood:                 48.740\n",
       "No. Observations:                 182   AIC:                            -83.48\n",
       "Df Residuals:                     175   BIC:                            -61.05\n",
       "Df Model:                           6                                         \n",
       "Covariance Type:            nonrobust                                         \n",
       "==============================================================================\n",
       "                 coef    std err          t      P>|t|      [95.0% Conf. Int.]\n",
       "------------------------------------------------------------------------------\n",
       "Intercept      7.7141      0.209     36.895      0.000         7.301     8.127\n",
       "GRRating      -0.0241      0.052     -0.459      0.647        -0.128     0.079\n",
       "Runtime        0.0008      0.001      1.543      0.125        -0.000     0.002\n",
       "G              0.0214      0.071      0.303      0.762        -0.118     0.161\n",
       "PG            -0.0601      0.044     -1.357      0.176        -0.148     0.027\n",
       "PG13          -0.0660      0.040     -1.639      0.103        -0.145     0.013\n",
       "R             -0.0713      0.039     -1.830      0.069        -0.148     0.006\n",
       "==============================================================================\n",
       "Omnibus:                        3.970   Durbin-Watson:                   1.593\n",
       "Prob(Omnibus):                  0.137   Jarque-Bera (JB):                4.272\n",
       "Skew:                          -0.161   Prob(JB):                        0.118\n",
       "Kurtosis:                       3.678   Cond. No.                     1.91e+03\n",
       "==============================================================================\n",
       "\n",
       "Warnings:\n",
       "[1] Standard Errors assume that the covariance matrix of the errors is correctly specified.\n",
       "[2] The condition number is large, 1.91e+03. This might indicate that there are\n",
       "strong multicollinearity or other numerical problems.\n",
       "\"\"\""
      ]
     },
     "execution_count": 30,
     "metadata": {},
     "output_type": "execute_result"
    }
   ],
   "source": [
    "IMDB_w_RuntimeR = getOLSResults(IMDB_ratings, GR_ratings, 'IMDBRating', col2='GRRating', col3='Runtime', col4='G', col5='PG', col6='PG13', col7='R')\n",
    "IMDB_w_RuntimeR.summary()"
   ]
  },
  {
   "cell_type": "code",
   "execution_count": 31,
   "metadata": {
    "collapsed": false
   },
   "outputs": [
    {
     "name": "stdout",
     "output_type": "stream",
     "text": [
      "                                               Title     Budget      Gross  \\\n",
      "0                            The Wolf of Wall Street  100000000  116866727   \n",
      "1                                      Into the Wild   15000000   18352454   \n",
      "2                                          Gone Girl   61000000  167735396   \n",
      "3  Going Clear: Scientology and the Prison of Belief        NaN        NaN   \n",
      "4                                           The Pact        NaN        NaN   \n",
      "\n",
      "  MPAArating  Runtime  IMDBRating  IMDBRatingCount  IMDBMCRating  \\\n",
      "0          R      180         8.2           705753           NaN   \n",
      "1          R      148         8.2           401238           NaN   \n",
      "2          R      149         8.1           517073           NaN   \n",
      "3  NOT RATED      119         8.1            19936           NaN   \n",
      "4        NaN       84         8.1               31           NaN   \n",
      "\n",
      "   IMDBMCRatingCount  APPROVED      ...        NOT RATED  PASSED  PG  PG13  R  \\\n",
      "0                NaN         0      ...                0       0   0     0  1   \n",
      "1                NaN         0      ...                0       0   0     0  1   \n",
      "2                NaN         0      ...                0       0   0     0  1   \n",
      "3                NaN         0      ...                1       0   0     0  0   \n",
      "4                NaN         0      ...                0       0   0     0  0   \n",
      "\n",
      "   TV-14  UNRATED  X  GRRating  GRRatingCount  \n",
      "0      0        0  0      3.64          18175  \n",
      "1      0        0  0      3.92         539534  \n",
      "2      0        0  0      3.99        1240870  \n",
      "3      0        0  0      3.99          24468  \n",
      "4      0        0  0      3.99         211335  \n",
      "\n",
      "[5 rows x 24 columns]\n",
      "IMDBRating ~ GRRating + Budget\n"
     ]
    },
    {
     "data": {
      "text/html": [
       "<table class=\"simpletable\">\n",
       "<caption>OLS Regression Results</caption>\n",
       "<tr>\n",
       "  <th>Dep. Variable:</th>       <td>IMDBRating</td>    <th>  R-squared:         </th> <td>   0.034</td>\n",
       "</tr>\n",
       "<tr>\n",
       "  <th>Model:</th>                   <td>OLS</td>       <th>  Adj. R-squared:    </th> <td>   0.009</td>\n",
       "</tr>\n",
       "<tr>\n",
       "  <th>Method:</th>             <td>Least Squares</td>  <th>  F-statistic:       </th> <td>   1.378</td>\n",
       "</tr>\n",
       "<tr>\n",
       "  <th>Date:</th>             <td>Tue, 26 Jan 2016</td> <th>  Prob (F-statistic):</th>  <td> 0.258</td> \n",
       "</tr>\n",
       "<tr>\n",
       "  <th>Time:</th>                 <td>16:19:19</td>     <th>  Log-Likelihood:    </th> <td>  18.032</td>\n",
       "</tr>\n",
       "<tr>\n",
       "  <th>No. Observations:</th>      <td>    82</td>      <th>  AIC:               </th> <td>  -30.06</td>\n",
       "</tr>\n",
       "<tr>\n",
       "  <th>Df Residuals:</th>          <td>    79</td>      <th>  BIC:               </th> <td>  -22.84</td>\n",
       "</tr>\n",
       "<tr>\n",
       "  <th>Df Model:</th>              <td>     2</td>      <th>                     </th>     <td> </td>   \n",
       "</tr>\n",
       "<tr>\n",
       "  <th>Covariance Type:</th>      <td>nonrobust</td>    <th>                     </th>     <td> </td>   \n",
       "</tr>\n",
       "</table>\n",
       "<table class=\"simpletable\">\n",
       "<tr>\n",
       "      <td></td>         <th>coef</th>     <th>std err</th>      <th>t</th>      <th>P>|t|</th> <th>[95.0% Conf. Int.]</th> \n",
       "</tr>\n",
       "<tr>\n",
       "  <th>Intercept</th> <td>    8.2545</td> <td>    0.377</td> <td>   21.885</td> <td> 0.000</td> <td>    7.504     9.005</td>\n",
       "</tr>\n",
       "<tr>\n",
       "  <th>GRRating</th>  <td>   -0.1552</td> <td>    0.097</td> <td>   -1.599</td> <td> 0.114</td> <td>   -0.348     0.038</td>\n",
       "</tr>\n",
       "<tr>\n",
       "  <th>Budget</th>    <td>  1.23e-10</td> <td> 6.16e-10</td> <td>    0.200</td> <td> 0.842</td> <td> -1.1e-09  1.35e-09</td>\n",
       "</tr>\n",
       "</table>\n",
       "<table class=\"simpletable\">\n",
       "<tr>\n",
       "  <th>Omnibus:</th>       <td> 7.607</td> <th>  Durbin-Watson:     </th> <td>   1.748</td>\n",
       "</tr>\n",
       "<tr>\n",
       "  <th>Prob(Omnibus):</th> <td> 0.022</td> <th>  Jarque-Bera (JB):  </th> <td>  12.584</td>\n",
       "</tr>\n",
       "<tr>\n",
       "  <th>Skew:</th>          <td>-0.245</td> <th>  Prob(JB):          </th> <td> 0.00185</td>\n",
       "</tr>\n",
       "<tr>\n",
       "  <th>Kurtosis:</th>      <td> 4.856</td> <th>  Cond. No.          </th> <td>1.02e+09</td>\n",
       "</tr>\n",
       "</table>"
      ],
      "text/plain": [
       "<class 'statsmodels.iolib.summary.Summary'>\n",
       "\"\"\"\n",
       "                            OLS Regression Results                            \n",
       "==============================================================================\n",
       "Dep. Variable:             IMDBRating   R-squared:                       0.034\n",
       "Model:                            OLS   Adj. R-squared:                  0.009\n",
       "Method:                 Least Squares   F-statistic:                     1.378\n",
       "Date:                Tue, 26 Jan 2016   Prob (F-statistic):              0.258\n",
       "Time:                        16:19:19   Log-Likelihood:                 18.032\n",
       "No. Observations:                  82   AIC:                            -30.06\n",
       "Df Residuals:                      79   BIC:                            -22.84\n",
       "Df Model:                           2                                         \n",
       "Covariance Type:            nonrobust                                         \n",
       "==============================================================================\n",
       "                 coef    std err          t      P>|t|      [95.0% Conf. Int.]\n",
       "------------------------------------------------------------------------------\n",
       "Intercept      8.2545      0.377     21.885      0.000         7.504     9.005\n",
       "GRRating      -0.1552      0.097     -1.599      0.114        -0.348     0.038\n",
       "Budget       1.23e-10   6.16e-10      0.200      0.842      -1.1e-09  1.35e-09\n",
       "==============================================================================\n",
       "Omnibus:                        7.607   Durbin-Watson:                   1.748\n",
       "Prob(Omnibus):                  0.022   Jarque-Bera (JB):               12.584\n",
       "Skew:                          -0.245   Prob(JB):                      0.00185\n",
       "Kurtosis:                       4.856   Cond. No.                     1.02e+09\n",
       "==============================================================================\n",
       "\n",
       "Warnings:\n",
       "[1] Standard Errors assume that the covariance matrix of the errors is correctly specified.\n",
       "[2] The condition number is large, 1.02e+09. This might indicate that there are\n",
       "strong multicollinearity or other numerical problems.\n",
       "\"\"\""
      ]
     },
     "execution_count": 31,
     "metadata": {},
     "output_type": "execute_result"
    }
   ],
   "source": [
    "IMDBrating_v_R = getOLSResults(IMDB_ratings, GR_ratings, 'IMDBRating', col2='GRRating', col3='Budget')\n",
    "IMDBrating_v_R.summary()"
   ]
  },
  {
   "cell_type": "code",
   "execution_count": 32,
   "metadata": {
    "collapsed": false
   },
   "outputs": [
    {
     "name": "stdout",
     "output_type": "stream",
     "text": [
      "                                               Title     Budget      Gross  \\\n",
      "0                            The Wolf of Wall Street  100000000  116866727   \n",
      "1                                      Into the Wild   15000000   18352454   \n",
      "2                                          Gone Girl   61000000  167735396   \n",
      "3  Going Clear: Scientology and the Prison of Belief        NaN        NaN   \n",
      "4                                           The Pact        NaN        NaN   \n",
      "\n",
      "  MPAArating  Runtime  IMDBRating  IMDBRatingCount  IMDBMCRating  \\\n",
      "0          R      180         8.2           705753           NaN   \n",
      "1          R      148         8.2           401238           NaN   \n",
      "2          R      149         8.1           517073           NaN   \n",
      "3  NOT RATED      119         8.1            19936           NaN   \n",
      "4        NaN       84         8.1               31           NaN   \n",
      "\n",
      "   IMDBMCRatingCount  APPROVED      ...        NOT RATED  PASSED  PG  PG13  R  \\\n",
      "0                NaN         0      ...                0       0   0     0  1   \n",
      "1                NaN         0      ...                0       0   0     0  1   \n",
      "2                NaN         0      ...                0       0   0     0  1   \n",
      "3                NaN         0      ...                1       0   0     0  0   \n",
      "4                NaN         0      ...                0       0   0     0  0   \n",
      "\n",
      "   TV-14  UNRATED  X  GRRating  GRRatingCount  \n",
      "0      0        0  0      3.64          18175  \n",
      "1      0        0  0      3.92         539534  \n",
      "2      0        0  0      3.99        1240870  \n",
      "3      0        0  0      3.99          24468  \n",
      "4      0        0  0      3.99         211335  \n",
      "\n",
      "[5 rows x 24 columns]\n"
     ]
    }
   ],
   "source": [
    "log_df = getMergedDf(IMDB_ratings, GR_ratings, 'IMDBRating', col2='GRRating', col3 = 'Budget')[0]"
   ]
  },
  {
   "cell_type": "code",
   "execution_count": 33,
   "metadata": {
    "collapsed": false
   },
   "outputs": [],
   "source": [
    "log_df = log_df[log_df.GRRating > 2.25]"
   ]
  },
  {
   "cell_type": "code",
   "execution_count": 34,
   "metadata": {
    "collapsed": false
   },
   "outputs": [
    {
     "data": {
      "text/plain": [
       "'N, M = 10,10\\nfig, ax = plt.subplots(figsize=(N, M))\\nplt.scatter(np.log(log_df.GRRating),log_df.IMDBRating)\\nplt.ylabel(\"IMDB Rating\")\\nplt.xlabel(\"Log(GRRating)\")\\nplt.title(\"\")'"
      ]
     },
     "execution_count": 34,
     "metadata": {},
     "output_type": "execute_result"
    }
   ],
   "source": [
    "'''N, M = 10,10\n",
    "fig, ax = plt.subplots(figsize=(N, M))\n",
    "plt.scatter(np.log(log_df.GRRating),log_df.IMDBRating)\n",
    "plt.ylabel(\"IMDB Rating\")\n",
    "plt.xlabel(\"Log(GRRating)\")\n",
    "plt.title(\"\")'''"
   ]
  },
  {
   "cell_type": "code",
   "execution_count": null,
   "metadata": {
    "collapsed": true
   },
   "outputs": [],
   "source": []
  },
  {
   "cell_type": "code",
   "execution_count": null,
   "metadata": {
    "collapsed": true
   },
   "outputs": [],
   "source": []
  },
  {
   "cell_type": "code",
   "execution_count": null,
   "metadata": {
    "collapsed": true
   },
   "outputs": [],
   "source": []
  }
 ],
 "metadata": {
  "kernelspec": {
   "display_name": "Python 3",
   "language": "python",
   "name": "python3"
  },
  "language_info": {
   "codemirror_mode": {
    "name": "ipython",
    "version": 3
   },
   "file_extension": ".py",
   "mimetype": "text/x-python",
   "name": "python",
   "nbconvert_exporter": "python",
   "pygments_lexer": "ipython3",
   "version": "3.5.1"
  }
 },
 "nbformat": 4,
 "nbformat_minor": 0
}
