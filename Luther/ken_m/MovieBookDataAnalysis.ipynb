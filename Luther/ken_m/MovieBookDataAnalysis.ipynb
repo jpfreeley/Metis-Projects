{
 "cells": [
  {
   "cell_type": "code",
   "execution_count": 1,
   "metadata": {
    "collapsed": true
   },
   "outputs": [],
   "source": [
    "import pandas as pd\n",
    "import matplotlib.pyplot as plt\n",
    "import numpy as np\n",
    "%matplotlib inline"
   ]
  },
  {
   "cell_type": "code",
   "execution_count": 2,
   "metadata": {
    "collapsed": false
   },
   "outputs": [],
   "source": [
    "IMDB_ratings = pd.read_csv('movie_books_IMDB_ratings.csv', index_col=0)"
   ]
  },
  {
   "cell_type": "code",
   "execution_count": 3,
   "metadata": {
    "collapsed": true
   },
   "outputs": [],
   "source": [
    "GR_ratings = pd.read_csv('movie_books_GR_ratings.csv', index_col=0)"
   ]
  },
  {
   "cell_type": "code",
   "execution_count": 4,
   "metadata": {
    "collapsed": true
   },
   "outputs": [],
   "source": [
    "MC_ratings = pd.read_csv('movie_books_MC_ratings.csv', index_col=0)"
   ]
  },
  {
   "cell_type": "code",
   "execution_count": 5,
   "metadata": {
    "collapsed": false
   },
   "outputs": [
    {
     "name": "stdout",
     "output_type": "stream",
     "text": [
      "                                 Title  IMDBRating  IMDBRatingCount\n",
      "0                       Hababam Sinifi         9.4            23692\n",
      "1                        The Godfather         9.2          1091878\n",
      "2  National Theatre Live: Frankenstein         9.1             1080\n",
      "3               The Godfather: Part II         9.0           742243\n",
      "4         Hababam Sinifi Sinifta Kaldi         9.0            14722\n"
     ]
    }
   ],
   "source": [
    "print(IMDB_ratings.head())"
   ]
  },
  {
   "cell_type": "code",
   "execution_count": 6,
   "metadata": {
    "collapsed": false
   },
   "outputs": [
    {
     "name": "stdout",
     "output_type": "stream",
     "text": [
      "                                           Title  GRRating  GRRatingCount\n",
      "0                                 Hababam Sinifi      4.28            713\n",
      "1                                  The Godfather      4.34         231557\n",
      "2                         The Godfather: Part II      4.50              4\n",
      "3                                     Fight Club      4.19         330059\n",
      "4  The Lord of the Rings: The Return of the King      4.16             82\n"
     ]
    }
   ],
   "source": [
    "print(GR_ratings.head())"
   ]
  },
  {
   "cell_type": "code",
   "execution_count": 7,
   "metadata": {
    "collapsed": false
   },
   "outputs": [
    {
     "name": "stdout",
     "output_type": "stream",
     "text": [
      "                                               Title  MCUserRating  \\\n",
      "0                                      The Godfather           9.1   \n",
      "1                             The Godfather: Part II           9.1   \n",
      "2                                         Fight Club           9.0   \n",
      "3      The Lord of the Rings: The Return of the King           9.0   \n",
      "4  The Lord of the Rings: The Fellowship of the Ring           9.0   \n",
      "\n",
      "   MCUserRatingCount  MCCriticRating  MCCriticRatingCount  \n",
      "0               1771             100                   14  \n",
      "1                465              80                   10  \n",
      "2               1238              66                   35  \n",
      "3               2444              94                   41  \n",
      "4               1608              92                   34  \n"
     ]
    }
   ],
   "source": [
    "print(MC_ratings.head())"
   ]
  },
  {
   "cell_type": "markdown",
   "metadata": {},
   "source": [
    "## Compare IMDB ratings against GR ratings"
   ]
  },
  {
   "cell_type": "code",
   "execution_count": 8,
   "metadata": {
    "collapsed": true
   },
   "outputs": [],
   "source": [
    "IMDB_GR_data = pd.merge(IMDB_ratings, GR_ratings, on='Title')"
   ]
  },
  {
   "cell_type": "code",
   "execution_count": 9,
   "metadata": {
    "collapsed": false
   },
   "outputs": [],
   "source": [
    "#print(IMDB_GR_data)"
   ]
  },
  {
   "cell_type": "code",
   "execution_count": 10,
   "metadata": {
    "collapsed": true
   },
   "outputs": [],
   "source": [
    "IMDB_GR_user_ratings = IMDB_GR_data[['Title', 'IMDBRating', 'GRRating']]"
   ]
  },
  {
   "cell_type": "code",
   "execution_count": 11,
   "metadata": {
    "collapsed": false
   },
   "outputs": [],
   "source": [
    "IMDB_GR_user_ratings = IMDB_GR_user_ratings.sort_values(by='GRRating', ascending=True)"
   ]
  },
  {
   "cell_type": "code",
   "execution_count": 12,
   "metadata": {
    "collapsed": true
   },
   "outputs": [],
   "source": [
    "IMDB_GR_user_ratings = IMDB_GR_user_ratings[IMDB_GR_user_ratings.GRRating > 0]"
   ]
  },
  {
   "cell_type": "code",
   "execution_count": 27,
   "metadata": {
    "collapsed": false,
    "scrolled": true
   },
   "outputs": [
    {
     "data": {
      "text/plain": [
       "(2, 5)"
      ]
     },
     "execution_count": 27,
     "metadata": {},
     "output_type": "execute_result"
    },
    {
     "data": {
      "image/png": "[encoded data removed]",
      "text/plain": [
       "<matplotlib.figure.Figure at 0x10a227668>"
      ]
     },
     "metadata": {},
     "output_type": "display_data"
    }
   ],
   "source": [
    "IMDB_GR_user_ratings.plot(x='GRRating', y='IMDBRating', kind='scatter', figsize=(7,5))\n",
    "\n",
    "fit = np.polyfit(IMDB_GR_user_ratings['GRRating'], IMDB_GR_user_ratings['IMDBRating'], 1)\n",
    "line = np.poly1d(fit)\n",
    "xpoints = np.linspace(0.0, 5.0, 100)\n",
    "plt.plot(IMDB_GR_user_ratings['GRRating'], IMDB_GR_user_ratings['IMDBRating'], 'x', xpoints, line(xpoints),'-',color='b')\n",
    "\n",
    "defaultx = [float(x)/2 for x in range(0,11)]\n",
    "defaulty = list(range(0,11))\n",
    "plt.plot(defaultx,defaulty,color='r')\n",
    "\n",
    "\n",
    "plt.title(\"IMDB Ratings vs GoodReads Ratings\")\n",
    "plt.xlabel('GoodReads')\n",
    "plt.ylabel('IMDB')\n",
    "plt.ylim([7.5,10])\n",
    "plt.xlim([2,5])"
   ]
  },
  {
   "cell_type": "code",
   "execution_count": 14,
   "metadata": {
    "collapsed": false
   },
   "outputs": [
    {
     "name": "stdout",
     "output_type": "stream",
     "text": [
      "[ 0.07987364  7.81213676]\n"
     ]
    }
   ],
   "source": [
    "print(fit)"
   ]
  },
  {
   "cell_type": "markdown",
   "metadata": {},
   "source": [
    "## Compare MC user ratings against GR user ratings"
   ]
  },
  {
   "cell_type": "code",
   "execution_count": 15,
   "metadata": {
    "collapsed": true
   },
   "outputs": [],
   "source": [
    "MC_GR_data = pd.merge(MC_ratings, GR_ratings, on='Title')"
   ]
  },
  {
   "cell_type": "code",
   "execution_count": 16,
   "metadata": {
    "collapsed": false
   },
   "outputs": [],
   "source": [
    "MC_GR_user_ratings = MC_GR_data[['Title', 'MCUserRating', 'GRRating']]"
   ]
  },
  {
   "cell_type": "code",
   "execution_count": 17,
   "metadata": {
    "collapsed": true
   },
   "outputs": [],
   "source": [
    "MC_GR_user_ratings = MC_GR_user_ratings.sort_values(by='GRRating', ascending=True)"
   ]
  },
  {
   "cell_type": "code",
   "execution_count": 18,
   "metadata": {
    "collapsed": true
   },
   "outputs": [],
   "source": [
    "MC_GR_user_ratings = MC_GR_user_ratings[MC_GR_user_ratings.GRRating > 0]"
   ]
  },
  {
   "cell_type": "code",
   "execution_count": 19,
   "metadata": {
    "collapsed": true
   },
   "outputs": [],
   "source": [
    "MC_GR_user_ratings = MC_GR_user_ratings.dropna()"
   ]
  },
  {
   "cell_type": "code",
   "execution_count": 20,
   "metadata": {
    "collapsed": false
   },
   "outputs": [],
   "source": [
    "#print(MC_GR_user_ratings)"
   ]
  },
  {
   "cell_type": "code",
   "execution_count": 26,
   "metadata": {
    "collapsed": false
   },
   "outputs": [
    {
     "data": {
      "text/plain": [
       "(2, 5)"
      ]
     },
     "execution_count": 26,
     "metadata": {},
     "output_type": "execute_result"
    },
    {
     "data": {
      "image/png": "[encoded data removed]",
      "text/plain": [
       "<matplotlib.figure.Figure at 0x109dde550>"
      ]
     },
     "metadata": {},
     "output_type": "display_data"
    }
   ],
   "source": [
    "MC_GR_user_ratings.plot(x='GRRating', y='MCUserRating', kind='scatter', figsize=(7,5))\n",
    "\n",
    "MC_GR_fit = np.polyfit(MC_GR_user_ratings['GRRating'], MC_GR_user_ratings['MCUserRating'], 1)\n",
    "line2 = np.poly1d(MC_GR_fit)\n",
    "xpoints2 = np.linspace(0.0, 5.0, 100)\n",
    "plt.plot(MC_GR_user_ratings['GRRating'], MC_GR_user_ratings['MCUserRating'], 'x', xpoints2, line(xpoints),'-', color='b')\n",
    "\n",
    "defaultx = [float(x)/2 for x in range(0,11)]\n",
    "defaulty = list(range(0,11))\n",
    "plt.plot(defaultx,defaulty,color='r')\n",
    "\n",
    "\n",
    "plt.title(\"MC User Ratings vs GoodReads Ratings\")\n",
    "plt.xlabel('GoodReads')\n",
    "plt.ylabel('IMDB')\n",
    "plt.ylim([4,10])\n",
    "plt.xlim([2,5])"
   ]
  },
  {
   "cell_type": "code",
   "execution_count": 22,
   "metadata": {
    "collapsed": false
   },
   "outputs": [
    {
     "name": "stdout",
     "output_type": "stream",
     "text": [
      "[ 0.52076291  5.86677514]\n"
     ]
    }
   ],
   "source": [
    "print(MC_GR_fit)"
   ]
  },
  {
   "cell_type": "code",
   "execution_count": null,
   "metadata": {
    "collapsed": true
   },
   "outputs": [],
   "source": []
  }
 ],
 "metadata": {
  "kernelspec": {
   "display_name": "Python 3",
   "language": "python",
   "name": "python3"
  },
  "language_info": {
   "codemirror_mode": {
    "name": "ipython",
    "version": 3
   },
   "file_extension": ".py",
   "mimetype": "text/x-python",
   "name": "python",
   "nbconvert_exporter": "python",
   "pygments_lexer": "ipython3",
   "version": "3.5.1"
  }
 },
 "nbformat": 4,
 "nbformat_minor": 0
}
